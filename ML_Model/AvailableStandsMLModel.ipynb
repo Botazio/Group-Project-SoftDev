{
 "cells": [
  {
   "cell_type": "markdown",
   "id": "hungry-sleeping",
   "metadata": {},
   "source": [
    "# ML Model for Available Stands"
   ]
  },
  {
   "cell_type": "code",
   "execution_count": 1,
   "id": "timely-collect",
   "metadata": {},
   "outputs": [],
   "source": [
    "#import modules needed\n",
    "import pandas as pd\n",
    "import numpy as np\n",
    "from datetime import datetime, timedelta, date\n",
    "from sklearn import preprocessing\n",
    "from sklearn.ensemble import RandomForestClassifier\n",
    "from sklearn.model_selection import train_test_split\n",
    "from sklearn.model_selection import cross_val_score\n",
    "from sklearn import metrics\n",
    "from sklearn.model_selection import GridSearchCV\n",
    "# hide ipykernel warnings \n",
    "import warnings\n",
    "warnings.filterwarnings('ignore')"
   ]
  },
  {
   "cell_type": "code",
   "execution_count": 2,
   "id": "discrete-relationship",
   "metadata": {},
   "outputs": [],
   "source": [
    "df = pd.read_csv('availstands.csv', sep=',\\s+', delimiter=',', skipinitialspace=True)"
   ]
  },
  {
   "cell_type": "code",
   "execution_count": 3,
   "id": "prostate-cyprus",
   "metadata": {},
   "outputs": [],
   "source": [
    "def label_enocder(data, list_cat_cols):\n",
    "    '''\n",
    "    Apply Label encoder to the categorical columns (list_cat_cols) in data\n",
    "    \n",
    "    '''\n",
    "    \n",
    "    #Create Label Encoder \n",
    "    for column_name in list_cat_cols:\n",
    "        #Apply label encoder to each column\n",
    "        data[column_name] = preprocessing.LabelEncoder().fit_transform(data[column_name])\n",
    "    \n",
    "    return data"
   ]
  },
  {
   "cell_type": "code",
   "execution_count": 4,
   "id": "wireless-participant",
   "metadata": {},
   "outputs": [],
   "source": [
    "list_le_cols=['description', 'Day', 'intervals']"
   ]
  },
  {
   "cell_type": "code",
   "execution_count": 5,
   "id": "copyrighted-adelaide",
   "metadata": {},
   "outputs": [],
   "source": [
    "dataBikes = label_enocder(df, list_le_cols)"
   ]
  },
  {
   "cell_type": "code",
   "execution_count": 6,
   "id": "human-subscription",
   "metadata": {},
   "outputs": [],
   "source": [
    "X=dataBikes.drop(['Stands_available'], axis=1)"
   ]
  },
  {
   "cell_type": "code",
   "execution_count": 7,
   "id": "circular-worst",
   "metadata": {},
   "outputs": [],
   "source": [
    "y=dataBikes['Stands_available']"
   ]
  },
  {
   "cell_type": "code",
   "execution_count": 8,
   "id": "gothic-particle",
   "metadata": {},
   "outputs": [
    {
     "name": "stdout",
     "output_type": "stream",
     "text": [
      "Training size = 0.5\n",
      "Validation size = 0.2\n",
      "Test size = 0.3\n"
     ]
    }
   ],
   "source": [
    "#Set sizes\n",
    "train_sizeX = 0.5\n",
    "test_sizeX = 0.3\n",
    "valid_sizeX = round((1.0 - (train_sizeX + test_sizeX)), 3)\n",
    "#Combine train + valid\n",
    "train_valid_size = train_sizeX + valid_sizeX\n",
    "print('Training size = {}'.format(train_sizeX))\n",
    "print('Validation size = {}'.format(valid_sizeX)) \n",
    "print('Test size = {}'.format(test_sizeX))"
   ]
  },
  {
   "cell_type": "code",
   "execution_count": 9,
   "id": "wrong-package",
   "metadata": {},
   "outputs": [],
   "source": [
    "#Split Data\n",
    "X_train_plus_valid, X_test, y_train_plus_valid, y_test \\\n",
    "    = train_test_split(X, y, random_state=0, \\\n",
    "                                    train_size = train_sizeX + valid_sizeX)\n",
    "\n",
    "X_train, X_valid, y_train, y_valid \\\n",
    "    = train_test_split(X_train_plus_valid, \\\n",
    "                                        y_train_plus_valid, \\\n",
    "                                        random_state=0, \\\n",
    "                                        train_size = train_sizeX/train_valid_size)"
   ]
  },
  {
   "cell_type": "code",
   "execution_count": 10,
   "id": "controlling-worker",
   "metadata": {},
   "outputs": [],
   "source": [
    "def model_performace_val_cv(model, X, y, X_valid, y_valid):\n",
    "    '''\n",
    "    Compute accuracy on validation set and using cross-validation\n",
    "    \n",
    "    Parameters:\n",
    "    model, X, y, X_valid, y_valid\n",
    "\n",
    "    \n",
    "    '''\n",
    "    print('Model = {}'.format(model))\n",
    "    \n",
    "    #1. Test on validation set\n",
    "    \n",
    "    #Predictions for the test data\n",
    "    y_pred = model.predict(X_valid)\n",
    "    \n",
    "    #Validation accuracy\n",
    "    validation_accuracy = metrics.accuracy_score(y_valid, y_pred)\n",
    "    print(\"Validation Accuracy: \" + str(validation_accuracy))\n",
    "    \n",
    "    #2. Cross validation\n",
    "    cv_scores = cross_val_score(model, X, y, cv=5)\n",
    "    print(\"Cross Validation (CV) accuracies: {}\".format(cv_scores)) \n",
    "    print(\"Mean CV accuracy: {}\".format(cv_scores.mean())) \n",
    "    print(\"Std CV accuracy: {}\".format(cv_scores.std()))"
   ]
  },
  {
   "cell_type": "code",
   "execution_count": 11,
   "id": "assured-theme",
   "metadata": {},
   "outputs": [
    {
     "name": "stdout",
     "output_type": "stream",
     "text": [
      "Model = RandomForestClassifier()\n",
      "Validation Accuracy: 0.9866863905325444\n",
      "Cross Validation (CV) accuracies: [0.72942442 0.76896181 0.82125084 0.63927371 0.55077337]\n",
      "Mean CV accuracy: 0.7019368288842192\n",
      "Std CV accuracy: 0.09618815674248321\n"
     ]
    }
   ],
   "source": [
    "#Model\n",
    "random_forest_classifier = RandomForestClassifier()\n",
    "#Fit to data\n",
    "random_forest_classifier.fit(X_train, y_train)\n",
    "#Assess performance using validation set and cross validation\n",
    "model_performace_val_cv(random_forest_classifier, X, y, X_valid, y_valid)"
   ]
  },
  {
   "cell_type": "code",
   "execution_count": 12,
   "id": "corresponding-municipality",
   "metadata": {},
   "outputs": [],
   "source": [
    "y_predicted = random_forest_classifier.predict(X_test)"
   ]
  },
  {
   "cell_type": "code",
   "execution_count": 13,
   "id": "tough-fisher",
   "metadata": {},
   "outputs": [
    {
     "data": {
      "text/plain": [
       "array([20, 15, 21, ..., 17, 28, 19], dtype=int64)"
      ]
     },
     "execution_count": 13,
     "metadata": {},
     "output_type": "execute_result"
    }
   ],
   "source": [
    "y_predicted#Prediction of number of stands availabe"
   ]
  },
  {
   "cell_type": "code",
   "execution_count": 14,
   "id": "angry-federal",
   "metadata": {},
   "outputs": [
    {
     "data": {
      "text/plain": [
       "0.9854760623991393"
      ]
     },
     "execution_count": 14,
     "metadata": {},
     "output_type": "execute_result"
    }
   ],
   "source": [
    "#Accuracy on the test set\n",
    "test_accuracy = metrics.accuracy_score(y_test, y_predicted)\n",
    "test_accuracy"
   ]
  },
  {
   "cell_type": "code",
   "execution_count": 15,
   "id": "effective-planet",
   "metadata": {},
   "outputs": [
    {
     "data": {
      "text/html": [
       "<div>\n",
       "<style scoped>\n",
       "    .dataframe tbody tr th:only-of-type {\n",
       "        vertical-align: middle;\n",
       "    }\n",
       "\n",
       "    .dataframe tbody tr th {\n",
       "        vertical-align: top;\n",
       "    }\n",
       "\n",
       "    .dataframe thead th {\n",
       "        text-align: right;\n",
       "    }\n",
       "</style>\n",
       "<table border=\"1\" class=\"dataframe\">\n",
       "  <thead>\n",
       "    <tr style=\"text-align: right;\">\n",
       "      <th></th>\n",
       "      <th>Actual</th>\n",
       "      <th>Predicted</th>\n",
       "    </tr>\n",
       "  </thead>\n",
       "  <tbody>\n",
       "    <tr>\n",
       "      <th>31117</th>\n",
       "      <td>20</td>\n",
       "      <td>20</td>\n",
       "    </tr>\n",
       "    <tr>\n",
       "      <th>28210</th>\n",
       "      <td>15</td>\n",
       "      <td>15</td>\n",
       "    </tr>\n",
       "    <tr>\n",
       "      <th>26879</th>\n",
       "      <td>21</td>\n",
       "      <td>21</td>\n",
       "    </tr>\n",
       "    <tr>\n",
       "      <th>7405</th>\n",
       "      <td>20</td>\n",
       "      <td>20</td>\n",
       "    </tr>\n",
       "    <tr>\n",
       "      <th>36925</th>\n",
       "      <td>27</td>\n",
       "      <td>27</td>\n",
       "    </tr>\n",
       "    <tr>\n",
       "      <th>...</th>\n",
       "      <td>...</td>\n",
       "      <td>...</td>\n",
       "    </tr>\n",
       "    <tr>\n",
       "      <th>36131</th>\n",
       "      <td>26</td>\n",
       "      <td>26</td>\n",
       "    </tr>\n",
       "    <tr>\n",
       "      <th>16346</th>\n",
       "      <td>10</td>\n",
       "      <td>10</td>\n",
       "    </tr>\n",
       "    <tr>\n",
       "      <th>34625</th>\n",
       "      <td>17</td>\n",
       "      <td>17</td>\n",
       "    </tr>\n",
       "    <tr>\n",
       "      <th>7016</th>\n",
       "      <td>28</td>\n",
       "      <td>28</td>\n",
       "    </tr>\n",
       "    <tr>\n",
       "      <th>126</th>\n",
       "      <td>19</td>\n",
       "      <td>19</td>\n",
       "    </tr>\n",
       "  </tbody>\n",
       "</table>\n",
       "<p>11154 rows × 2 columns</p>\n",
       "</div>"
      ],
      "text/plain": [
       "       Actual  Predicted\n",
       "31117      20         20\n",
       "28210      15         15\n",
       "26879      21         21\n",
       "7405       20         20\n",
       "36925      27         27\n",
       "...       ...        ...\n",
       "36131      26         26\n",
       "16346      10         10\n",
       "34625      17         17\n",
       "7016       28         28\n",
       "126        19         19\n",
       "\n",
       "[11154 rows x 2 columns]"
      ]
     },
     "execution_count": 15,
     "metadata": {},
     "output_type": "execute_result"
    }
   ],
   "source": [
    "df=pd.DataFrame({'Actual':y_test, 'Predicted':y_predicted})\n",
    "df"
   ]
  },
  {
   "cell_type": "code",
   "execution_count": 16,
   "id": "sexual-thirty",
   "metadata": {},
   "outputs": [
    {
     "data": {
      "image/png": "[encoded data removed]",
      "text/plain": [
       "<Figure size 360x504 with 1 Axes>"
      ]
     },
     "metadata": {
      "needs_background": "light"
     },
     "output_type": "display_data"
    }
   ],
   "source": [
    "import seaborn as sns\n",
    "import matplotlib.pyplot as plt\n",
    "%matplotlib inline\n",
    "plt.figure(figsize=(5, 7))\n",
    "\n",
    "\n",
    "ax = sns.distplot(y, hist=False, color=\"b\", label=\"Actual Value\")\n",
    "sns.distplot(y_predicted, hist=False, color=\"g\", label=\"Fitted Values\" , ax=ax)\n",
    "plt.legend()\n",
    "\n",
    "plt.title('Actual vs Fitted Number of stands')\n",
    "\n",
    "\n",
    "plt.show()\n",
    "plt.close()"
   ]
  },
  {
   "cell_type": "code",
   "execution_count": null,
   "id": "maritime-tragedy",
   "metadata": {},
   "outputs": [],
   "source": []
  },
  {
   "cell_type": "code",
   "execution_count": null,
   "id": "closing-culture",
   "metadata": {},
   "outputs": [],
   "source": []
  }
 ],
 "metadata": {
  "kernelspec": {
   "display_name": "Python 3",
   "language": "python",
   "name": "python3"
  },
  "language_info": {
   "codemirror_mode": {
    "name": "ipython",
    "version": 3
   },
   "file_extension": ".py",
   "mimetype": "text/x-python",
   "name": "python",
   "nbconvert_exporter": "python",
   "pygments_lexer": "ipython3",
   "version": "3.8.5"
  }
 },
 "nbformat": 4,
 "nbformat_minor": 5
}
