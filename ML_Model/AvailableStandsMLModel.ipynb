{
 "cells": [
  {
   "cell_type": "markdown",
   "id": "broad-original",
   "metadata": {},
   "source": [
    "# ML Model for Available Stands"
   ]
  },
  {
   "cell_type": "code",
   "execution_count": 48,
   "id": "mental-lawsuit",
   "metadata": {},
   "outputs": [],
   "source": [
    "#import modules needed\n",
    "import pandas as pd\n",
    "import numpy as np\n",
    "from datetime import datetime, timedelta, date\n",
    "from sklearn import preprocessing\n",
    "from sklearn.ensemble import RandomForestClassifier\n",
    "from sklearn.model_selection import train_test_split\n",
    "from sklearn.model_selection import cross_val_score\n",
    "from sklearn import metrics\n",
    "from sklearn.model_selection import GridSearchCV\n",
    "from xgboost import XGBClassifier\n",
    "from sklearn.ensemble import GradientBoostingClassifier\n",
    "import sklearn.ensemble as ensemble\n",
    "import sklearn\n",
    "# hide ipykernel warnings \n",
    "import warnings\n",
    "warnings.filterwarnings('ignore')"
   ]
  },
  {
   "cell_type": "code",
   "execution_count": 23,
   "id": "covered-notice",
   "metadata": {},
   "outputs": [],
   "source": [
    "df = pd.read_csv('availstands.csv', sep=',\\s+', delimiter=',', skipinitialspace=True, index_col=0)"
   ]
  },
  {
   "cell_type": "code",
   "execution_count": 24,
   "id": "smart-hanging",
   "metadata": {},
   "outputs": [
    {
     "data": {
      "text/plain": [
       "(295906, 9)"
      ]
     },
     "execution_count": 24,
     "metadata": {},
     "output_type": "execute_result"
    }
   ],
   "source": [
    "df.shape"
   ]
  },
  {
   "cell_type": "markdown",
   "id": "trained-cornell",
   "metadata": {},
   "source": [
    "### Data Formatting for Categorical Columns"
   ]
  },
  {
   "cell_type": "code",
   "execution_count": 25,
   "id": "broke-flight",
   "metadata": {},
   "outputs": [],
   "source": [
    "def label_enocder(data, list_cat_cols):\n",
    "    '''\n",
    "    Apply Label encoder to the categorical columns (list_cat_cols) in data\n",
    "    \n",
    "    '''\n",
    "    \n",
    "    #Create Label Encoder \n",
    "    for column_name in list_cat_cols:\n",
    "        #Apply label encoder to each column\n",
    "        data[column_name] = preprocessing.LabelEncoder().fit_transform(data[column_name])\n",
    "    \n",
    "    return data"
   ]
  },
  {
   "cell_type": "code",
   "execution_count": 26,
   "id": "bizarre-moderator",
   "metadata": {},
   "outputs": [],
   "source": [
    "list_le_cols=['description', 'Day', 'TimeOfDay']"
   ]
  },
  {
   "cell_type": "code",
   "execution_count": 27,
   "id": "applicable-angle",
   "metadata": {},
   "outputs": [],
   "source": [
    "dataBikes=sklearn.utils.shuffle(df)"
   ]
  },
  {
   "cell_type": "code",
   "execution_count": 28,
   "id": "descending-crime",
   "metadata": {},
   "outputs": [
    {
     "data": {
      "text/html": [
       "<div>\n",
       "<style scoped>\n",
       "    .dataframe tbody tr th:only-of-type {\n",
       "        vertical-align: middle;\n",
       "    }\n",
       "\n",
       "    .dataframe tbody tr th {\n",
       "        vertical-align: top;\n",
       "    }\n",
       "\n",
       "    .dataframe thead th {\n",
       "        text-align: right;\n",
       "    }\n",
       "</style>\n",
       "<table border=\"1\" class=\"dataframe\">\n",
       "  <thead>\n",
       "    <tr style=\"text-align: right;\">\n",
       "      <th></th>\n",
       "      <th>available_bikes_stands</th>\n",
       "      <th>available_bikes</th>\n",
       "      <th>description</th>\n",
       "      <th>temp</th>\n",
       "      <th>temp_min</th>\n",
       "      <th>temp_max</th>\n",
       "      <th>humidity</th>\n",
       "      <th>Day</th>\n",
       "      <th>TimeOfDay</th>\n",
       "    </tr>\n",
       "    <tr>\n",
       "      <th>StationNumber</th>\n",
       "      <th></th>\n",
       "      <th></th>\n",
       "      <th></th>\n",
       "      <th></th>\n",
       "      <th></th>\n",
       "      <th></th>\n",
       "      <th></th>\n",
       "      <th></th>\n",
       "      <th></th>\n",
       "    </tr>\n",
       "  </thead>\n",
       "  <tbody>\n",
       "    <tr>\n",
       "      <th>87</th>\n",
       "      <td>38</td>\n",
       "      <td>0</td>\n",
       "      <td>mist</td>\n",
       "      <td>5</td>\n",
       "      <td>4</td>\n",
       "      <td>6</td>\n",
       "      <td>87</td>\n",
       "      <td>Tuesday</td>\n",
       "      <td>Evening</td>\n",
       "    </tr>\n",
       "    <tr>\n",
       "      <th>101</th>\n",
       "      <td>25</td>\n",
       "      <td>5</td>\n",
       "      <td>scattered clouds</td>\n",
       "      <td>11</td>\n",
       "      <td>11</td>\n",
       "      <td>12</td>\n",
       "      <td>62</td>\n",
       "      <td>Sunday</td>\n",
       "      <td>Afternoon</td>\n",
       "    </tr>\n",
       "    <tr>\n",
       "      <th>47</th>\n",
       "      <td>27</td>\n",
       "      <td>13</td>\n",
       "      <td>broken clouds</td>\n",
       "      <td>10</td>\n",
       "      <td>8</td>\n",
       "      <td>11</td>\n",
       "      <td>81</td>\n",
       "      <td>Tuesday</td>\n",
       "      <td>Morning</td>\n",
       "    </tr>\n",
       "    <tr>\n",
       "      <th>112</th>\n",
       "      <td>11</td>\n",
       "      <td>19</td>\n",
       "      <td>broken clouds</td>\n",
       "      <td>13</td>\n",
       "      <td>12</td>\n",
       "      <td>13</td>\n",
       "      <td>82</td>\n",
       "      <td>Monday</td>\n",
       "      <td>Evening</td>\n",
       "    </tr>\n",
       "    <tr>\n",
       "      <th>59</th>\n",
       "      <td>14</td>\n",
       "      <td>6</td>\n",
       "      <td>broken clouds</td>\n",
       "      <td>12</td>\n",
       "      <td>12</td>\n",
       "      <td>13</td>\n",
       "      <td>76</td>\n",
       "      <td>Saturday</td>\n",
       "      <td>Afternoon</td>\n",
       "    </tr>\n",
       "  </tbody>\n",
       "</table>\n",
       "</div>"
      ],
      "text/plain": [
       "               available_bikes_stands  available_bikes       description  \\\n",
       "StationNumber                                                              \n",
       "87                                 38                0              mist   \n",
       "101                                25                5  scattered clouds   \n",
       "47                                 27               13     broken clouds   \n",
       "112                                11               19     broken clouds   \n",
       "59                                 14                6     broken clouds   \n",
       "\n",
       "               temp  temp_min  temp_max  humidity       Day  TimeOfDay  \n",
       "StationNumber                                                           \n",
       "87                5         4         6        87   Tuesday    Evening  \n",
       "101              11        11        12        62    Sunday  Afternoon  \n",
       "47               10         8        11        81   Tuesday    Morning  \n",
       "112              13        12        13        82    Monday    Evening  \n",
       "59               12        12        13        76  Saturday  Afternoon  "
      ]
     },
     "execution_count": 28,
     "metadata": {},
     "output_type": "execute_result"
    }
   ],
   "source": [
    "dataBikes.head()"
   ]
  },
  {
   "cell_type": "code",
   "execution_count": 29,
   "id": "marked-worship",
   "metadata": {},
   "outputs": [],
   "source": [
    "dataBikes = label_enocder(df, list_le_cols)"
   ]
  },
  {
   "cell_type": "markdown",
   "id": "proved-steering",
   "metadata": {},
   "source": [
    "### Split into features (x) and target variable (y)"
   ]
  },
  {
   "cell_type": "code",
   "execution_count": 30,
   "id": "classified-attraction",
   "metadata": {},
   "outputs": [],
   "source": [
    "X=dataBikes.drop(['available_bikes_stands'], axis=1)"
   ]
  },
  {
   "cell_type": "code",
   "execution_count": 31,
   "id": "above-colony",
   "metadata": {},
   "outputs": [],
   "source": [
    "y=dataBikes['available_bikes_stands']"
   ]
  },
  {
   "cell_type": "markdown",
   "id": "meaning-leeds",
   "metadata": {},
   "source": [
    "### Test Design\n",
    "- Split data into train, validation and test sets;\n",
    "\n",
    "\n",
    "- __Training set__: Fit model to training set\n",
    "\n",
    "    \n",
    "- __Validation set__: Use the validation set to select the select best performing model (hyper-parameters tuning etc)\n",
    "\n",
    "\n",
    "- __Test set__: Use test set to get an unbiased evaluation of the final model fit"
   ]
  },
  {
   "cell_type": "code",
   "execution_count": 32,
   "id": "bearing-cargo",
   "metadata": {},
   "outputs": [
    {
     "name": "stdout",
     "output_type": "stream",
     "text": [
      "Training size = 0.5\n",
      "Validation size = 0.2\n",
      "Test size = 0.3\n"
     ]
    }
   ],
   "source": [
    "#Set sizes\n",
    "train_sizeX = 0.5\n",
    "test_sizeX = 0.3\n",
    "valid_sizeX = round((1.0 - (train_sizeX + test_sizeX)), 3)\n",
    "#Combine train + valid\n",
    "train_valid_size = train_sizeX + valid_sizeX\n",
    "print('Training size = {}'.format(train_sizeX))\n",
    "print('Validation size = {}'.format(valid_sizeX)) \n",
    "print('Test size = {}'.format(test_sizeX))"
   ]
  },
  {
   "cell_type": "code",
   "execution_count": 33,
   "id": "fuzzy-polish",
   "metadata": {},
   "outputs": [],
   "source": [
    "#Split Data\n",
    "X_train_plus_valid, X_test, y_train_plus_valid, y_test \\\n",
    "    = train_test_split(X, y, random_state=0, \\\n",
    "                                    train_size = train_sizeX + valid_sizeX)\n",
    "\n",
    "X_train, X_valid, y_train, y_valid \\\n",
    "    = train_test_split(X_train_plus_valid, \\\n",
    "                                        y_train_plus_valid, \\\n",
    "                                        random_state=0, \\\n",
    "                                        train_size = train_sizeX/train_valid_size)"
   ]
  },
  {
   "cell_type": "markdown",
   "id": "certified-metro",
   "metadata": {},
   "source": [
    "__Function: to test model on validation data and using cross validation__"
   ]
  },
  {
   "cell_type": "code",
   "execution_count": 34,
   "id": "duplicate-seeker",
   "metadata": {},
   "outputs": [],
   "source": [
    "def model_performace_val_cv(model, X, y, X_valid, y_valid):\n",
    "    '''\n",
    "    Compute accuracy on validation set and using cross-validation\n",
    "    \n",
    "    Parameters:\n",
    "    model, X, y, X_valid, y_valid\n",
    "\n",
    "    \n",
    "    '''\n",
    "    print('Model = {}'.format(model))\n",
    "    \n",
    "    #1. Test on validation set\n",
    "    \n",
    "    #Predictions for the test data\n",
    "    y_pred = model.predict(X_valid)\n",
    "    \n",
    "    #Validation accuracy\n",
    "    validation_accuracy = metrics.accuracy_score(y_valid, y_pred)\n",
    "    print(\"Validation Accuracy: \" + str(validation_accuracy))\n",
    "    \n",
    "    #2. Cross validation\n",
    "    cv_scores = cross_val_score(model, X, y, cv=5)\n",
    "    print(\"Cross Validation (CV) accuracies: {}\".format(cv_scores)) \n",
    "    print(\"Mean CV accuracy: {}\".format(cv_scores.mean())) \n",
    "    print(\"Std CV accuracy: {}\".format(cv_scores.std()))"
   ]
  },
  {
   "cell_type": "markdown",
   "id": "alive-hurricane",
   "metadata": {},
   "source": [
    "##   Selection of Model Type\n",
    "\n",
    "__Modelling technique: Ensemble Methods only__\n",
    "\n",
    "- Only ensemble methods were tested given that they are the aggregate of multiple learning algorithms and therefore generally obtain a better predictive performance than could be obtained from any of the constituent learning algorithms alone\n",
    "\n",
    "- Random Forest, Gradient Boosting, XGBoost were tested\n",
    "\n",
    "__Approach Comparing models__:\n",
    "\n",
    "- Models will be fit on the training set\n",
    "- Predictions will be made on the validation set \n",
    "- Models will be compared using the accuracy given by the mean of the cross-validation models\n",
    "- When comparing models the __default hyper-parameter settings__ will be used\n",
    "- Once the final model is chosen then parameter tuning will be performed\n"
   ]
  },
  {
   "cell_type": "markdown",
   "id": "objective-coral",
   "metadata": {},
   "source": [
    "### Model 1: Random Forrest Classifier"
   ]
  },
  {
   "cell_type": "code",
   "execution_count": 35,
   "id": "documented-resort",
   "metadata": {},
   "outputs": [
    {
     "name": "stdout",
     "output_type": "stream",
     "text": [
      "Model = RandomForestClassifier()\n",
      "Validation Accuracy: 0.31683620019600556\n",
      "Cross Validation (CV) accuracies: [0.20019601 0.17012217 0.10819351 0.06589953 0.19567091]\n",
      "Mean CV accuracy: 0.14801642352780267\n",
      "Std CV accuracy: 0.05255734318836372\n"
     ]
    }
   ],
   "source": [
    "#Model\n",
    "random_forest_classifier = RandomForestClassifier()\n",
    "#Fit to data\n",
    "random_forest_classifier.fit(X_train, y_train)\n",
    "#Assess performance using validation set and cross validation\n",
    "model_performace_val_cv(random_forest_classifier, X, y, X_valid, y_valid)"
   ]
  },
  {
   "cell_type": "markdown",
   "id": "thick-creativity",
   "metadata": {},
   "source": [
    "### Model 2: Gradient Boosting Classifier"
   ]
  },
  {
   "cell_type": "code",
   "execution_count": 36,
   "id": "satellite-sampling",
   "metadata": {},
   "outputs": [
    {
     "name": "stdout",
     "output_type": "stream",
     "text": [
      "Model = GradientBoostingClassifier()\n",
      "Validation Accuracy: 0.37563786286370854\n",
      "Cross Validation (CV) accuracies: [0.27719577 0.31425626 0.28046163 0.29053243 0.31984928]\n",
      "Mean CV accuracy: 0.29645907573116714\n",
      "Std CV accuracy: 0.017469742908040927\n"
     ]
    }
   ],
   "source": [
    "#Model\n",
    "gradient_boosting_classifer = GradientBoostingClassifier()\n",
    "#Fit to data\n",
    "gradient_boosting_classifer.fit(X_train, y_train)\n",
    "#Assess performance using validation set and cross validation\n",
    "model_performace_val_cv(gradient_boosting_classifer, X, y, X_valid, y_valid)"
   ]
  },
  {
   "cell_type": "markdown",
   "id": "declared-timothy",
   "metadata": {},
   "source": [
    "### Model 3: XGboost"
   ]
  },
  {
   "cell_type": "code",
   "execution_count": 37,
   "id": "lined-coaching",
   "metadata": {},
   "outputs": [
    {
     "name": "stdout",
     "output_type": "stream",
     "text": [
      "[11:35:51] WARNING: C:/Users/Administrator/workspace/xgboost-win64_release_1.3.0/src/learner.cc:1061: Starting in XGBoost 1.3.0, the default evaluation metric used with the objective 'multi:softprob' was changed from 'merror' to 'mlogloss'. Explicitly set eval_metric if you'd like to restore the old behavior.\n",
      "Model = XGBClassifier(base_score=0.5, booster='gbtree', colsample_bylevel=1,\n",
      "              colsample_bynode=1, colsample_bytree=1, gamma=0, gpu_id=-1,\n",
      "              importance_type='gain', interaction_constraints='',\n",
      "              learning_rate=0.300000012, max_delta_step=0, max_depth=6,\n",
      "              min_child_weight=1, missing=nan, monotone_constraints='()',\n",
      "              n_estimators=100, n_jobs=8, num_parallel_tree=1,\n",
      "              objective='multi:softprob', random_state=0, reg_alpha=0,\n",
      "              reg_lambda=1, scale_pos_weight=None, subsample=1,\n",
      "              tree_method='exact', validate_parameters=1, verbosity=None)\n",
      "Validation Accuracy: 0.38146733804197225\n",
      "[11:38:14] WARNING: C:/Users/Administrator/workspace/xgboost-win64_release_1.3.0/src/learner.cc:1061: Starting in XGBoost 1.3.0, the default evaluation metric used with the objective 'multi:softprob' was changed from 'merror' to 'mlogloss'. Explicitly set eval_metric if you'd like to restore the old behavior.\n",
      "[11:41:37] WARNING: C:/Users/Administrator/workspace/xgboost-win64_release_1.3.0/src/learner.cc:1061: Starting in XGBoost 1.3.0, the default evaluation metric used with the objective 'multi:softprob' was changed from 'merror' to 'mlogloss'. Explicitly set eval_metric if you'd like to restore the old behavior.\n",
      "[11:44:50] WARNING: C:/Users/Administrator/workspace/xgboost-win64_release_1.3.0/src/learner.cc:1061: Starting in XGBoost 1.3.0, the default evaluation metric used with the objective 'multi:softprob' was changed from 'merror' to 'mlogloss'. Explicitly set eval_metric if you'd like to restore the old behavior.\n",
      "[11:48:04] WARNING: C:/Users/Administrator/workspace/xgboost-win64_release_1.3.0/src/learner.cc:1061: Starting in XGBoost 1.3.0, the default evaluation metric used with the objective 'multi:softprob' was changed from 'merror' to 'mlogloss'. Explicitly set eval_metric if you'd like to restore the old behavior.\n",
      "[11:51:18] WARNING: C:/Users/Administrator/workspace/xgboost-win64_release_1.3.0/src/learner.cc:1061: Starting in XGBoost 1.3.0, the default evaluation metric used with the objective 'multi:softprob' was changed from 'merror' to 'mlogloss'. Explicitly set eval_metric if you'd like to restore the old behavior.\n",
      "Cross Validation (CV) accuracies: [0.24436484 0.24279752 0.19660026 0.19050033 0.29234045]\n",
      "Mean CV accuracy: 0.23332067939088336\n",
      "Std CV accuracy: 0.03708662434375884\n"
     ]
    }
   ],
   "source": [
    "#Model\n",
    "xgboost_classifer = XGBClassifier()\n",
    "#Fit to data\n",
    "xgboost_classifer.fit(X_train, y_train)\n",
    "#Assess performance using validation set and cross validation\n",
    "model_performace_val_cv(xgboost_classifer, X, y, X_valid, y_valid)"
   ]
  },
  {
   "cell_type": "markdown",
   "id": "political-tomato",
   "metadata": {},
   "source": [
    "## Hyperparameter tuning"
   ]
  },
  {
   "cell_type": "code",
   "execution_count": 52,
   "id": "sorted-compiler",
   "metadata": {},
   "outputs": [],
   "source": [
    "# #Grid Search\n",
    "# param_grid = {'criterion': ['gini', \"entropy\"],\n",
    "#              'n_estimators': list(range(100, 500, 100)),\n",
    "#              'max_depth': list(range(3, 20, 5)),\n",
    "#              }"
   ]
  },
  {
   "cell_type": "code",
   "execution_count": 53,
   "id": "brief-avatar",
   "metadata": {},
   "outputs": [],
   "source": [
    "# # Use Grid Search to determine best performing hyper-parameters\n",
    "# tuned_GBC = GridSearchCV(ensemble.GradientBoostingClassifier(), param_grid, cv=5)\n",
    "# tuned_GBC.fit(X_train, y) #Should have been y_train "
   ]
  },
  {
   "cell_type": "code",
   "execution_count": 54,
   "id": "alert-college",
   "metadata": {},
   "outputs": [],
   "source": [
    "# final_model = GradientBoostingClassifier(n_estimators=300, criterion= 'entropy', max_depth=18)\n",
    "# final_model.fit(X_train, y_train)"
   ]
  },
  {
   "cell_type": "markdown",
   "id": "breeding-instrument",
   "metadata": {},
   "source": [
    "## Test Model on Test Set"
   ]
  },
  {
   "cell_type": "code",
   "execution_count": 60,
   "id": "floppy-graph",
   "metadata": {},
   "outputs": [],
   "source": [
    "y_predictedRFC = random_forest_classifier.predict(X_test)\n",
    "y_predictedGBC=gradient_boosting_classifer.predict(X_test)\n",
    "y_predictedXGB=xgboost_classifer.predict(X_test)"
   ]
  },
  {
   "cell_type": "code",
   "execution_count": 62,
   "id": "handmade-bridal",
   "metadata": {},
   "outputs": [
    {
     "data": {
      "text/plain": [
       "37.56251971342316"
      ]
     },
     "execution_count": 62,
     "metadata": {},
     "output_type": "execute_result"
    }
   ],
   "source": [
    "test_accuracyGBC = metrics.accuracy_score(y_test, y_predictedGBC)\n",
    "test_accuracyGBC*100"
   ]
  },
  {
   "cell_type": "code",
   "execution_count": 63,
   "id": "infinite-creativity",
   "metadata": {},
   "outputs": [
    {
     "data": {
      "text/plain": [
       "38.2767088721669"
      ]
     },
     "execution_count": 63,
     "metadata": {},
     "output_type": "execute_result"
    }
   ],
   "source": [
    "test_accuracyXGB = metrics.accuracy_score(y_test, y_predictedXGB)\n",
    "test_accuracyXGB*100"
   ]
  },
  {
   "cell_type": "code",
   "execution_count": 64,
   "id": "pursuant-equality",
   "metadata": {},
   "outputs": [
    {
     "data": {
      "text/plain": [
       "31.70143739016807"
      ]
     },
     "execution_count": 64,
     "metadata": {},
     "output_type": "execute_result"
    }
   ],
   "source": [
    "#Accuracy on the test set\n",
    "test_accuracyRFC = metrics.accuracy_score(y_test, y_predictedRFC)\n",
    "test_accuracyRFC*100"
   ]
  },
  {
   "cell_type": "code",
   "execution_count": 72,
   "id": "floral-assistant",
   "metadata": {},
   "outputs": [
    {
     "data": {
      "text/html": [
       "<div>\n",
       "<style scoped>\n",
       "    .dataframe tbody tr th:only-of-type {\n",
       "        vertical-align: middle;\n",
       "    }\n",
       "\n",
       "    .dataframe tbody tr th {\n",
       "        vertical-align: top;\n",
       "    }\n",
       "\n",
       "    .dataframe thead th {\n",
       "        text-align: right;\n",
       "    }\n",
       "</style>\n",
       "<table border=\"1\" class=\"dataframe\">\n",
       "  <thead>\n",
       "    <tr style=\"text-align: right;\">\n",
       "      <th></th>\n",
       "      <th>Actual</th>\n",
       "      <th>Predicted</th>\n",
       "    </tr>\n",
       "    <tr>\n",
       "      <th>StationNumber</th>\n",
       "      <th></th>\n",
       "      <th></th>\n",
       "    </tr>\n",
       "  </thead>\n",
       "  <tbody>\n",
       "    <tr>\n",
       "      <th>26</th>\n",
       "      <td>8</td>\n",
       "      <td>28</td>\n",
       "    </tr>\n",
       "    <tr>\n",
       "      <th>12</th>\n",
       "      <td>17</td>\n",
       "      <td>17</td>\n",
       "    </tr>\n",
       "    <tr>\n",
       "      <th>94</th>\n",
       "      <td>38</td>\n",
       "      <td>18</td>\n",
       "    </tr>\n",
       "    <tr>\n",
       "      <th>91</th>\n",
       "      <td>10</td>\n",
       "      <td>18</td>\n",
       "    </tr>\n",
       "    <tr>\n",
       "      <th>27</th>\n",
       "      <td>7</td>\n",
       "      <td>17</td>\n",
       "    </tr>\n",
       "    <tr>\n",
       "      <th>...</th>\n",
       "      <td>...</td>\n",
       "      <td>...</td>\n",
       "    </tr>\n",
       "    <tr>\n",
       "      <th>29</th>\n",
       "      <td>14</td>\n",
       "      <td>25</td>\n",
       "    </tr>\n",
       "    <tr>\n",
       "      <th>75</th>\n",
       "      <td>26</td>\n",
       "      <td>26</td>\n",
       "    </tr>\n",
       "    <tr>\n",
       "      <th>43</th>\n",
       "      <td>13</td>\n",
       "      <td>13</td>\n",
       "    </tr>\n",
       "    <tr>\n",
       "      <th>13</th>\n",
       "      <td>24</td>\n",
       "      <td>34</td>\n",
       "    </tr>\n",
       "    <tr>\n",
       "      <th>74</th>\n",
       "      <td>26</td>\n",
       "      <td>36</td>\n",
       "    </tr>\n",
       "  </tbody>\n",
       "</table>\n",
       "<p>88772 rows × 2 columns</p>\n",
       "</div>"
      ],
      "text/plain": [
       "               Actual  Predicted\n",
       "StationNumber                   \n",
       "26                  8         28\n",
       "12                 17         17\n",
       "94                 38         18\n",
       "91                 10         18\n",
       "27                  7         17\n",
       "...               ...        ...\n",
       "29                 14         25\n",
       "75                 26         26\n",
       "43                 13         13\n",
       "13                 24         34\n",
       "74                 26         36\n",
       "\n",
       "[88772 rows x 2 columns]"
      ]
     },
     "execution_count": 72,
     "metadata": {},
     "output_type": "execute_result"
    }
   ],
   "source": [
    "dfRFC=pd.DataFrame({'Actual':y_test, 'Predicted':y_predictedRFC})\n",
    "dfRFC"
   ]
  },
  {
   "cell_type": "code",
   "execution_count": 73,
   "id": "emotional-bumper",
   "metadata": {},
   "outputs": [
    {
     "data": {
      "text/html": [
       "<div>\n",
       "<style scoped>\n",
       "    .dataframe tbody tr th:only-of-type {\n",
       "        vertical-align: middle;\n",
       "    }\n",
       "\n",
       "    .dataframe tbody tr th {\n",
       "        vertical-align: top;\n",
       "    }\n",
       "\n",
       "    .dataframe thead th {\n",
       "        text-align: right;\n",
       "    }\n",
       "</style>\n",
       "<table border=\"1\" class=\"dataframe\">\n",
       "  <thead>\n",
       "    <tr style=\"text-align: right;\">\n",
       "      <th></th>\n",
       "      <th>Actual</th>\n",
       "      <th>Predicted</th>\n",
       "    </tr>\n",
       "    <tr>\n",
       "      <th>StationNumber</th>\n",
       "      <th></th>\n",
       "      <th></th>\n",
       "    </tr>\n",
       "  </thead>\n",
       "  <tbody>\n",
       "    <tr>\n",
       "      <th>26</th>\n",
       "      <td>8</td>\n",
       "      <td>28</td>\n",
       "    </tr>\n",
       "    <tr>\n",
       "      <th>12</th>\n",
       "      <td>17</td>\n",
       "      <td>37</td>\n",
       "    </tr>\n",
       "    <tr>\n",
       "      <th>94</th>\n",
       "      <td>38</td>\n",
       "      <td>18</td>\n",
       "    </tr>\n",
       "    <tr>\n",
       "      <th>91</th>\n",
       "      <td>10</td>\n",
       "      <td>20</td>\n",
       "    </tr>\n",
       "    <tr>\n",
       "      <th>27</th>\n",
       "      <td>7</td>\n",
       "      <td>27</td>\n",
       "    </tr>\n",
       "    <tr>\n",
       "      <th>...</th>\n",
       "      <td>...</td>\n",
       "      <td>...</td>\n",
       "    </tr>\n",
       "    <tr>\n",
       "      <th>29</th>\n",
       "      <td>14</td>\n",
       "      <td>25</td>\n",
       "    </tr>\n",
       "    <tr>\n",
       "      <th>75</th>\n",
       "      <td>26</td>\n",
       "      <td>26</td>\n",
       "    </tr>\n",
       "    <tr>\n",
       "      <th>43</th>\n",
       "      <td>13</td>\n",
       "      <td>23</td>\n",
       "    </tr>\n",
       "    <tr>\n",
       "      <th>13</th>\n",
       "      <td>24</td>\n",
       "      <td>34</td>\n",
       "    </tr>\n",
       "    <tr>\n",
       "      <th>74</th>\n",
       "      <td>26</td>\n",
       "      <td>16</td>\n",
       "    </tr>\n",
       "  </tbody>\n",
       "</table>\n",
       "<p>88772 rows × 2 columns</p>\n",
       "</div>"
      ],
      "text/plain": [
       "               Actual  Predicted\n",
       "StationNumber                   \n",
       "26                  8         28\n",
       "12                 17         37\n",
       "94                 38         18\n",
       "91                 10         20\n",
       "27                  7         27\n",
       "...               ...        ...\n",
       "29                 14         25\n",
       "75                 26         26\n",
       "43                 13         23\n",
       "13                 24         34\n",
       "74                 26         16\n",
       "\n",
       "[88772 rows x 2 columns]"
      ]
     },
     "execution_count": 73,
     "metadata": {},
     "output_type": "execute_result"
    }
   ],
   "source": [
    "dfGBX=pd.DataFrame({'Actual':y_test, 'Predicted':y_predictedGBC})\n",
    "dfGBX"
   ]
  },
  {
   "cell_type": "code",
   "execution_count": 74,
   "id": "charitable-series",
   "metadata": {},
   "outputs": [
    {
     "data": {
      "text/html": [
       "<div>\n",
       "<style scoped>\n",
       "    .dataframe tbody tr th:only-of-type {\n",
       "        vertical-align: middle;\n",
       "    }\n",
       "\n",
       "    .dataframe tbody tr th {\n",
       "        vertical-align: top;\n",
       "    }\n",
       "\n",
       "    .dataframe thead th {\n",
       "        text-align: right;\n",
       "    }\n",
       "</style>\n",
       "<table border=\"1\" class=\"dataframe\">\n",
       "  <thead>\n",
       "    <tr style=\"text-align: right;\">\n",
       "      <th></th>\n",
       "      <th>Actual</th>\n",
       "      <th>Predicted</th>\n",
       "    </tr>\n",
       "    <tr>\n",
       "      <th>StationNumber</th>\n",
       "      <th></th>\n",
       "      <th></th>\n",
       "    </tr>\n",
       "  </thead>\n",
       "  <tbody>\n",
       "    <tr>\n",
       "      <th>26</th>\n",
       "      <td>8</td>\n",
       "      <td>28</td>\n",
       "    </tr>\n",
       "    <tr>\n",
       "      <th>12</th>\n",
       "      <td>17</td>\n",
       "      <td>37</td>\n",
       "    </tr>\n",
       "    <tr>\n",
       "      <th>94</th>\n",
       "      <td>38</td>\n",
       "      <td>18</td>\n",
       "    </tr>\n",
       "    <tr>\n",
       "      <th>91</th>\n",
       "      <td>10</td>\n",
       "      <td>20</td>\n",
       "    </tr>\n",
       "    <tr>\n",
       "      <th>27</th>\n",
       "      <td>7</td>\n",
       "      <td>17</td>\n",
       "    </tr>\n",
       "    <tr>\n",
       "      <th>...</th>\n",
       "      <td>...</td>\n",
       "      <td>...</td>\n",
       "    </tr>\n",
       "    <tr>\n",
       "      <th>29</th>\n",
       "      <td>14</td>\n",
       "      <td>25</td>\n",
       "    </tr>\n",
       "    <tr>\n",
       "      <th>75</th>\n",
       "      <td>26</td>\n",
       "      <td>26</td>\n",
       "    </tr>\n",
       "    <tr>\n",
       "      <th>43</th>\n",
       "      <td>13</td>\n",
       "      <td>13</td>\n",
       "    </tr>\n",
       "    <tr>\n",
       "      <th>13</th>\n",
       "      <td>24</td>\n",
       "      <td>34</td>\n",
       "    </tr>\n",
       "    <tr>\n",
       "      <th>74</th>\n",
       "      <td>26</td>\n",
       "      <td>26</td>\n",
       "    </tr>\n",
       "  </tbody>\n",
       "</table>\n",
       "<p>88772 rows × 2 columns</p>\n",
       "</div>"
      ],
      "text/plain": [
       "               Actual  Predicted\n",
       "StationNumber                   \n",
       "26                  8         28\n",
       "12                 17         37\n",
       "94                 38         18\n",
       "91                 10         20\n",
       "27                  7         17\n",
       "...               ...        ...\n",
       "29                 14         25\n",
       "75                 26         26\n",
       "43                 13         13\n",
       "13                 24         34\n",
       "74                 26         26\n",
       "\n",
       "[88772 rows x 2 columns]"
      ]
     },
     "execution_count": 74,
     "metadata": {},
     "output_type": "execute_result"
    }
   ],
   "source": [
    "dfXGB=pd.DataFrame({'Actual':y_test, 'Predicted':y_predictedXGB})\n",
    "dfXGB"
   ]
  },
  {
   "cell_type": "code",
   "execution_count": 70,
   "id": "relevant-stock",
   "metadata": {},
   "outputs": [
    {
     "data": {
      "image/png": "[encoded data removed]",
      "text/plain": [
       "<Figure size 360x504 with 1 Axes>"
      ]
     },
     "metadata": {
      "needs_background": "light"
     },
     "output_type": "display_data"
    }
   ],
   "source": [
    "import seaborn as sns\n",
    "import matplotlib.pyplot as plt\n",
    "%matplotlib inline\n",
    "plt.figure(figsize=(5, 7))\n",
    "\n",
    "\n",
    "ax = sns.distplot(y_test, hist=False, color=\"b\", label=\"Actual Value\")\n",
    "sns.distplot(y_predictedRFC, hist=False, color=\"g\", label=\"Fitted Values\" , ax=ax)\n",
    "plt.legend()\n",
    "\n",
    "plt.title('Actual vs Fitted Number of stands RFC Model')\n",
    "\n",
    "\n",
    "plt.show()\n",
    "plt.close()"
   ]
  },
  {
   "cell_type": "code",
   "execution_count": 69,
   "id": "revised-afghanistan",
   "metadata": {},
   "outputs": [
    {
     "data": {
      "image/png": "[encoded data removed]",
      "text/plain": [
       "<Figure size 360x504 with 1 Axes>"
      ]
     },
     "metadata": {
      "needs_background": "light"
     },
     "output_type": "display_data"
    }
   ],
   "source": [
    "plt.figure(figsize=(5, 7))\n",
    "\n",
    "\n",
    "ax = sns.distplot(y_test, hist=False, color=\"b\", label=\"Actual Value\")\n",
    "sns.distplot(y_predictedGBC, hist=False, color=\"g\", label=\"Fitted Values\" , ax=ax)\n",
    "plt.legend()\n",
    "\n",
    "plt.title('Actual vs Fitted Number of stands GBC Model')\n",
    "\n",
    "\n",
    "plt.show()\n",
    "plt.close()"
   ]
  },
  {
   "cell_type": "code",
   "execution_count": 68,
   "id": "unlikely-heater",
   "metadata": {},
   "outputs": [
    {
     "data": {
      "image/png": "[encoded data removed]",
      "text/plain": [
       "<Figure size 360x504 with 1 Axes>"
      ]
     },
     "metadata": {
      "needs_background": "light"
     },
     "output_type": "display_data"
    }
   ],
   "source": [
    "plt.figure(figsize=(5, 7))\n",
    "\n",
    "\n",
    "ax = sns.distplot(y_test, hist=False, color=\"b\", label=\"Actual Value\")\n",
    "sns.distplot(y_predictedXGB, hist=False, color=\"g\", label=\"Fitted Values\" , ax=ax)\n",
    "plt.legend()\n",
    "\n",
    "plt.title('Actual vs Fitted Number of stands XGB Model')\n",
    "\n",
    "\n",
    "plt.show()\n",
    "plt.close()"
   ]
  },
  {
   "cell_type": "code",
   "execution_count": null,
   "id": "suspected-talent",
   "metadata": {},
   "outputs": [],
   "source": []
  }
 ],
 "metadata": {
  "kernelspec": {
   "display_name": "Python 3",
   "language": "python",
   "name": "python3"
  },
  "language_info": {
   "codemirror_mode": {
    "name": "ipython",
    "version": 3
   },
   "file_extension": ".py",
   "mimetype": "text/x-python",
   "name": "python",
   "nbconvert_exporter": "python",
   "pygments_lexer": "ipython3",
   "version": "3.9.1"
  }
 },
 "nbformat": 4,
 "nbformat_minor": 5
}
