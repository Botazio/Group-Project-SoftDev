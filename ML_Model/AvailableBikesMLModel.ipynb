{
 "cells": [
  {
   "cell_type": "markdown",
   "id": "warming-killer",
   "metadata": {},
   "source": [
    "# ML Model for Available Bikes"
   ]
  },
  {
   "cell_type": "code",
   "execution_count": 1,
   "id": "moderate-seating",
   "metadata": {},
   "outputs": [],
   "source": [
    "#import modules needed\n",
    "import pandas as pd\n",
    "import numpy as np\n",
    "from datetime import datetime, timedelta, date\n",
    "from sklearn import preprocessing\n",
    "from sklearn.ensemble import RandomForestClassifier\n",
    "from sklearn.model_selection import train_test_split\n",
    "from sklearn.model_selection import cross_val_score\n",
    "from sklearn import metrics\n",
    "from sklearn.model_selection import GridSearchCV\n",
    "from xgboost import XGBClassifier\n",
    "from sklearn.ensemble import GradientBoostingClassifier\n",
    "import sklearn\n",
    "# hide ipykernel warnings \n",
    "import warnings\n",
    "warnings.filterwarnings('ignore')"
   ]
  },
  {
   "cell_type": "code",
   "execution_count": 2,
   "id": "intellectual-version",
   "metadata": {},
   "outputs": [],
   "source": [
    "df = pd.read_csv('availbikes.csv', sep=',\\s+', delimiter=',', skipinitialspace=True, index_col=0)"
   ]
  },
  {
   "cell_type": "code",
   "execution_count": 3,
   "id": "innocent-separate",
   "metadata": {},
   "outputs": [
    {
     "data": {
      "text/html": [
       "<div>\n",
       "<style scoped>\n",
       "    .dataframe tbody tr th:only-of-type {\n",
       "        vertical-align: middle;\n",
       "    }\n",
       "\n",
       "    .dataframe tbody tr th {\n",
       "        vertical-align: top;\n",
       "    }\n",
       "\n",
       "    .dataframe thead th {\n",
       "        text-align: right;\n",
       "    }\n",
       "</style>\n",
       "<table border=\"1\" class=\"dataframe\">\n",
       "  <thead>\n",
       "    <tr style=\"text-align: right;\">\n",
       "      <th></th>\n",
       "      <th>available_bikes_stands</th>\n",
       "      <th>available_bikes</th>\n",
       "      <th>description</th>\n",
       "      <th>temp</th>\n",
       "      <th>temp_min</th>\n",
       "      <th>temp_max</th>\n",
       "      <th>humidity</th>\n",
       "      <th>Day</th>\n",
       "      <th>TimeOfDay</th>\n",
       "    </tr>\n",
       "    <tr>\n",
       "      <th>StationNumber</th>\n",
       "      <th></th>\n",
       "      <th></th>\n",
       "      <th></th>\n",
       "      <th></th>\n",
       "      <th></th>\n",
       "      <th></th>\n",
       "      <th></th>\n",
       "      <th></th>\n",
       "      <th></th>\n",
       "    </tr>\n",
       "  </thead>\n",
       "  <tbody>\n",
       "    <tr>\n",
       "      <th>107</th>\n",
       "      <td>24</td>\n",
       "      <td>16</td>\n",
       "      <td>mist</td>\n",
       "      <td>7</td>\n",
       "      <td>6</td>\n",
       "      <td>7</td>\n",
       "      <td>81</td>\n",
       "      <td>Tuesday</td>\n",
       "      <td>Afternoon</td>\n",
       "    </tr>\n",
       "    <tr>\n",
       "      <th>19</th>\n",
       "      <td>19</td>\n",
       "      <td>11</td>\n",
       "      <td>mist</td>\n",
       "      <td>7</td>\n",
       "      <td>6</td>\n",
       "      <td>7</td>\n",
       "      <td>81</td>\n",
       "      <td>Tuesday</td>\n",
       "      <td>Afternoon</td>\n",
       "    </tr>\n",
       "    <tr>\n",
       "      <th>6</th>\n",
       "      <td>19</td>\n",
       "      <td>1</td>\n",
       "      <td>mist</td>\n",
       "      <td>7</td>\n",
       "      <td>6</td>\n",
       "      <td>7</td>\n",
       "      <td>81</td>\n",
       "      <td>Tuesday</td>\n",
       "      <td>Afternoon</td>\n",
       "    </tr>\n",
       "    <tr>\n",
       "      <th>72</th>\n",
       "      <td>18</td>\n",
       "      <td>13</td>\n",
       "      <td>mist</td>\n",
       "      <td>7</td>\n",
       "      <td>6</td>\n",
       "      <td>7</td>\n",
       "      <td>81</td>\n",
       "      <td>Tuesday</td>\n",
       "      <td>Afternoon</td>\n",
       "    </tr>\n",
       "    <tr>\n",
       "      <th>41</th>\n",
       "      <td>12</td>\n",
       "      <td>8</td>\n",
       "      <td>mist</td>\n",
       "      <td>7</td>\n",
       "      <td>6</td>\n",
       "      <td>7</td>\n",
       "      <td>81</td>\n",
       "      <td>Tuesday</td>\n",
       "      <td>Afternoon</td>\n",
       "    </tr>\n",
       "  </tbody>\n",
       "</table>\n",
       "</div>"
      ],
      "text/plain": [
       "               available_bikes_stands  available_bikes description  temp  \\\n",
       "StationNumber                                                              \n",
       "107                                24               16        mist     7   \n",
       "19                                 19               11        mist     7   \n",
       "6                                  19                1        mist     7   \n",
       "72                                 18               13        mist     7   \n",
       "41                                 12                8        mist     7   \n",
       "\n",
       "               temp_min  temp_max  humidity      Day  TimeOfDay  \n",
       "StationNumber                                                    \n",
       "107                   6         7        81  Tuesday  Afternoon  \n",
       "19                    6         7        81  Tuesday  Afternoon  \n",
       "6                     6         7        81  Tuesday  Afternoon  \n",
       "72                    6         7        81  Tuesday  Afternoon  \n",
       "41                    6         7        81  Tuesday  Afternoon  "
      ]
     },
     "execution_count": 3,
     "metadata": {},
     "output_type": "execute_result"
    }
   ],
   "source": [
    "df.head()"
   ]
  },
  {
   "cell_type": "markdown",
   "id": "structural-potato",
   "metadata": {},
   "source": [
    "### Data Formatting for Categorical Columns"
   ]
  },
  {
   "cell_type": "code",
   "execution_count": 4,
   "id": "corporate-heater",
   "metadata": {},
   "outputs": [],
   "source": [
    "def label_enocder(data, list_cat_cols):\n",
    "    '''\n",
    "    Apply Label encoder to the categorical columns (list_cat_cols) in data\n",
    "    \n",
    "    '''\n",
    "    \n",
    "    #Create Label Encoder \n",
    "    for column_name in list_cat_cols:\n",
    "        #Apply label encoder to each column\n",
    "        data[column_name] = preprocessing.LabelEncoder().fit_transform(data[column_name])\n",
    "    \n",
    "    return data"
   ]
  },
  {
   "cell_type": "code",
   "execution_count": 5,
   "id": "applicable-passenger",
   "metadata": {},
   "outputs": [],
   "source": [
    "list_le_cols=['description', 'Day', 'TimeOfDay']"
   ]
  },
  {
   "cell_type": "code",
   "execution_count": 6,
   "id": "cutting-iceland",
   "metadata": {},
   "outputs": [],
   "source": [
    "dataBikes = label_enocder(df, list_le_cols)"
   ]
  },
  {
   "cell_type": "markdown",
   "id": "temporal-motorcycle",
   "metadata": {},
   "source": [
    "### Split into features (x) and target variable (y)"
   ]
  },
  {
   "cell_type": "code",
   "execution_count": 7,
   "id": "loved-daughter",
   "metadata": {},
   "outputs": [],
   "source": [
    "X=dataBikes.drop(['available_bikes'], axis=1)"
   ]
  },
  {
   "cell_type": "code",
   "execution_count": 8,
   "id": "important-wiring",
   "metadata": {},
   "outputs": [],
   "source": [
    "y=dataBikes['available_bikes']"
   ]
  },
  {
   "cell_type": "code",
   "execution_count": 9,
   "id": "demographic-international",
   "metadata": {
    "scrolled": true
   },
   "outputs": [
    {
     "data": {
      "text/html": [
       "<div>\n",
       "<style scoped>\n",
       "    .dataframe tbody tr th:only-of-type {\n",
       "        vertical-align: middle;\n",
       "    }\n",
       "\n",
       "    .dataframe tbody tr th {\n",
       "        vertical-align: top;\n",
       "    }\n",
       "\n",
       "    .dataframe thead th {\n",
       "        text-align: right;\n",
       "    }\n",
       "</style>\n",
       "<table border=\"1\" class=\"dataframe\">\n",
       "  <thead>\n",
       "    <tr style=\"text-align: right;\">\n",
       "      <th></th>\n",
       "      <th>available_bikes_stands</th>\n",
       "      <th>description</th>\n",
       "      <th>temp</th>\n",
       "      <th>temp_min</th>\n",
       "      <th>temp_max</th>\n",
       "      <th>humidity</th>\n",
       "      <th>Day</th>\n",
       "      <th>TimeOfDay</th>\n",
       "    </tr>\n",
       "    <tr>\n",
       "      <th>StationNumber</th>\n",
       "      <th></th>\n",
       "      <th></th>\n",
       "      <th></th>\n",
       "      <th></th>\n",
       "      <th></th>\n",
       "      <th></th>\n",
       "      <th></th>\n",
       "      <th></th>\n",
       "    </tr>\n",
       "  </thead>\n",
       "  <tbody>\n",
       "    <tr>\n",
       "      <th>107</th>\n",
       "      <td>24</td>\n",
       "      <td>6</td>\n",
       "      <td>7</td>\n",
       "      <td>6</td>\n",
       "      <td>7</td>\n",
       "      <td>81</td>\n",
       "      <td>5</td>\n",
       "      <td>0</td>\n",
       "    </tr>\n",
       "    <tr>\n",
       "      <th>19</th>\n",
       "      <td>19</td>\n",
       "      <td>6</td>\n",
       "      <td>7</td>\n",
       "      <td>6</td>\n",
       "      <td>7</td>\n",
       "      <td>81</td>\n",
       "      <td>5</td>\n",
       "      <td>0</td>\n",
       "    </tr>\n",
       "    <tr>\n",
       "      <th>6</th>\n",
       "      <td>19</td>\n",
       "      <td>6</td>\n",
       "      <td>7</td>\n",
       "      <td>6</td>\n",
       "      <td>7</td>\n",
       "      <td>81</td>\n",
       "      <td>5</td>\n",
       "      <td>0</td>\n",
       "    </tr>\n",
       "    <tr>\n",
       "      <th>72</th>\n",
       "      <td>18</td>\n",
       "      <td>6</td>\n",
       "      <td>7</td>\n",
       "      <td>6</td>\n",
       "      <td>7</td>\n",
       "      <td>81</td>\n",
       "      <td>5</td>\n",
       "      <td>0</td>\n",
       "    </tr>\n",
       "    <tr>\n",
       "      <th>41</th>\n",
       "      <td>12</td>\n",
       "      <td>6</td>\n",
       "      <td>7</td>\n",
       "      <td>6</td>\n",
       "      <td>7</td>\n",
       "      <td>81</td>\n",
       "      <td>5</td>\n",
       "      <td>0</td>\n",
       "    </tr>\n",
       "  </tbody>\n",
       "</table>\n",
       "</div>"
      ],
      "text/plain": [
       "               available_bikes_stands  description  temp  temp_min  temp_max  \\\n",
       "StationNumber                                                                  \n",
       "107                                24            6     7         6         7   \n",
       "19                                 19            6     7         6         7   \n",
       "6                                  19            6     7         6         7   \n",
       "72                                 18            6     7         6         7   \n",
       "41                                 12            6     7         6         7   \n",
       "\n",
       "               humidity  Day  TimeOfDay  \n",
       "StationNumber                            \n",
       "107                  81    5          0  \n",
       "19                   81    5          0  \n",
       "6                    81    5          0  \n",
       "72                   81    5          0  \n",
       "41                   81    5          0  "
      ]
     },
     "execution_count": 9,
     "metadata": {},
     "output_type": "execute_result"
    }
   ],
   "source": [
    "X.head()"
   ]
  },
  {
   "cell_type": "code",
   "execution_count": 10,
   "id": "welsh-sauce",
   "metadata": {},
   "outputs": [
    {
     "data": {
      "text/plain": [
       "available_bikes_stands    41\n",
       "description               10\n",
       "temp                      17\n",
       "temp_min                  18\n",
       "temp_max                  18\n",
       "humidity                  29\n",
       "Day                        7\n",
       "TimeOfDay                  4\n",
       "dtype: int64"
      ]
     },
     "execution_count": 10,
     "metadata": {},
     "output_type": "execute_result"
    }
   ],
   "source": [
    "X.nunique()"
   ]
  },
  {
   "cell_type": "code",
   "execution_count": 11,
   "id": "growing-sharing",
   "metadata": {},
   "outputs": [
    {
     "data": {
      "text/plain": [
       "41"
      ]
     },
     "execution_count": 11,
     "metadata": {},
     "output_type": "execute_result"
    }
   ],
   "source": [
    "y.nunique()"
   ]
  },
  {
   "cell_type": "code",
   "execution_count": 12,
   "id": "pleasant-immune",
   "metadata": {},
   "outputs": [
    {
     "data": {
      "text/plain": [
       "295906"
      ]
     },
     "execution_count": 12,
     "metadata": {},
     "output_type": "execute_result"
    }
   ],
   "source": [
    "y.shape[0]"
   ]
  },
  {
   "cell_type": "markdown",
   "id": "compound-constitution",
   "metadata": {},
   "source": [
    "### Test Design\n",
    "- Split data into train, validation and test sets;\n",
    "\n",
    "\n",
    "- __Training set__: Fit model to training set\n",
    "\n",
    "    \n",
    "- __Validation set__: Use the validation set to select the select best performing model (hyper-parameters tuning etc)\n",
    "\n",
    "\n",
    "- __Test set__: Use test set to get an unbiased evaluation of the final model fit"
   ]
  },
  {
   "cell_type": "code",
   "execution_count": 13,
   "id": "drawn-airplane",
   "metadata": {},
   "outputs": [
    {
     "name": "stdout",
     "output_type": "stream",
     "text": [
      "Training size = 0.5\n",
      "Validation size = 0.2\n",
      "Test size = 0.3\n"
     ]
    }
   ],
   "source": [
    "#Set sizes\n",
    "train_sizeX = 0.5\n",
    "test_sizeX = 0.3\n",
    "valid_sizeX = round((1.0 - (train_sizeX + test_sizeX)), 3)\n",
    "#Combine train + valid\n",
    "train_valid_size = train_sizeX + valid_sizeX\n",
    "print('Training size = {}'.format(train_sizeX))\n",
    "print('Validation size = {}'.format(valid_sizeX)) \n",
    "print('Test size = {}'.format(test_sizeX))"
   ]
  },
  {
   "cell_type": "code",
   "execution_count": 14,
   "id": "applicable-claim",
   "metadata": {},
   "outputs": [],
   "source": [
    "#Split Data\n",
    "X_train_plus_valid, X_test, y_train_plus_valid, y_test \\\n",
    "    = train_test_split(X, y, random_state=0, \\\n",
    "                                    train_size = train_sizeX + valid_sizeX)\n",
    "\n",
    "X_train, X_valid, y_train, y_valid \\\n",
    "    = train_test_split(X_train_plus_valid, \\\n",
    "                                        y_train_plus_valid, \\\n",
    "                                        random_state=0, \\\n",
    "                                        train_size = train_sizeX/train_valid_size)"
   ]
  },
  {
   "cell_type": "markdown",
   "id": "graduate-disclaimer",
   "metadata": {},
   "source": [
    "__Function: to test model on validation data and using cross validation__"
   ]
  },
  {
   "cell_type": "code",
   "execution_count": 15,
   "id": "naughty-diameter",
   "metadata": {},
   "outputs": [],
   "source": [
    "def model_performace_val_cv(model, X, y, X_valid, y_valid):\n",
    "    '''\n",
    "    Compute accuracy on validation set and using cross-validation\n",
    "    \n",
    "    Parameters:\n",
    "    model, X, y, X_valid, y_valid\n",
    "\n",
    "    \n",
    "    '''\n",
    "    print('Model = {}'.format(model))\n",
    "    \n",
    "    #1. Test on validation set\n",
    "    \n",
    "    #Predictions for the test data\n",
    "    y_pred = model.predict(X_valid)\n",
    "    \n",
    "    #Validation accuracy\n",
    "    validation_accuracy = metrics.accuracy_score(y_valid, y_pred)\n",
    "    print(\"Validation Accuracy: \" + str(validation_accuracy))\n",
    "    \n",
    "    #2. Cross validation\n",
    "    cv_scores = cross_val_score(model, X, y, cv=5)\n",
    "    print(\"Cross Validation (CV) accuracies: {}\".format(cv_scores)) \n",
    "    print(\"Mean CV accuracy: {}\".format(cv_scores.mean())) \n",
    "    print(\"Std CV accuracy: {}\".format(cv_scores.std()))"
   ]
  },
  {
   "cell_type": "markdown",
   "id": "educated-offering",
   "metadata": {},
   "source": [
    "###   Selection of Model Type\n",
    "\n",
    "__Modelling technique: Ensemble Methods only__\n",
    "\n",
    "- Only ensemble methods were tested given that they are the aggregate of multiple learning algorithms and therefore generally obtain a better predictive performance than could be obtained from any of the constituent learning algorithms alone\n",
    "\n",
    "- Random Forest, Gradient Boosting, XGBoost were tested\n",
    "\n",
    "__Approach Comparing models__:\n",
    "\n",
    "- Models will be fit on the training set\n",
    "- Predictions will be made on the validation set \n",
    "- Models will be compared using the accuracy given by the mean of the cross-validation models\n",
    "- When comparing models the __default hyper-parameter settings__ will be used\n",
    "- Once the final model is chosen then parameter tuning will be performed\n"
   ]
  },
  {
   "cell_type": "markdown",
   "id": "floating-roads",
   "metadata": {},
   "source": [
    "### Model 1: Random Forrest Classifier"
   ]
  },
  {
   "cell_type": "code",
   "execution_count": 16,
   "id": "established-leadership",
   "metadata": {},
   "outputs": [
    {
     "name": "stdout",
     "output_type": "stream",
     "text": [
      "Model = RandomForestClassifier()\n",
      "Validation Accuracy: 0.4443242877902065\n",
      "Cross Validation (CV) accuracies: [0.15496266 0.13193424 0.11792636 0.09051892 0.28515909]\n",
      "Mean CV accuracy: 0.15610025189619114\n",
      "Std CV accuracy: 0.06782275598942715\n"
     ]
    }
   ],
   "source": [
    "#Model\n",
    "random_forest_classifier = RandomForestClassifier()\n",
    "#Fit to data\n",
    "random_forest_classifier.fit(X_train, y_train)\n",
    "#Assess performance using validation set and cross validation\n",
    "model_performace_val_cv(random_forest_classifier, X, y, X_valid, y_valid)"
   ]
  },
  {
   "cell_type": "markdown",
   "id": "eight-destiny",
   "metadata": {},
   "source": [
    "### Model 2: Gradient Boosting Model"
   ]
  },
  {
   "cell_type": "code",
   "execution_count": 17,
   "id": "enclosed-masters",
   "metadata": {},
   "outputs": [
    {
     "name": "stdout",
     "output_type": "stream",
     "text": [
      "Model = GradientBoostingClassifier()\n",
      "Validation Accuracy: 0.493274982258119\n",
      "Cross Validation (CV) accuracies: [0.32945828 0.44245619 0.44693398 0.38549534 0.44382488]\n",
      "Mean CV accuracy: 0.4096337356304177\n",
      "Std CV accuracy: 0.04614850299455962\n"
     ]
    }
   ],
   "source": [
    "#Model\n",
    "gradient_boosting_classifer = GradientBoostingClassifier()\n",
    "#Fit to data\n",
    "gradient_boosting_classifer.fit(X_train, y_train)\n",
    "#Assess performance using validation set and cross validation\n",
    "model_performace_val_cv(gradient_boosting_classifer, X, y, X_valid, y_valid)"
   ]
  },
  {
   "cell_type": "markdown",
   "id": "promotional-blanket",
   "metadata": {},
   "source": [
    "### Model 3: XGboost"
   ]
  },
  {
   "cell_type": "code",
   "execution_count": 18,
   "id": "important-wisconsin",
   "metadata": {},
   "outputs": [
    {
     "name": "stdout",
     "output_type": "stream",
     "text": [
      "[12:01:56] WARNING: C:/Users/Administrator/workspace/xgboost-win64_release_1.3.0/src/learner.cc:1061: Starting in XGBoost 1.3.0, the default evaluation metric used with the objective 'multi:softprob' was changed from 'merror' to 'mlogloss'. Explicitly set eval_metric if you'd like to restore the old behavior.\n",
      "Model = XGBClassifier(base_score=0.5, booster='gbtree', colsample_bylevel=1,\n",
      "              colsample_bynode=1, colsample_bytree=1, gamma=0, gpu_id=-1,\n",
      "              importance_type='gain', interaction_constraints='',\n",
      "              learning_rate=0.300000012, max_delta_step=0, max_depth=6,\n",
      "              min_child_weight=1, missing=nan, monotone_constraints='()',\n",
      "              n_estimators=100, n_jobs=8, num_parallel_tree=1,\n",
      "              objective='multi:softprob', random_state=0, reg_alpha=0,\n",
      "              reg_lambda=1, scale_pos_weight=None, subsample=1,\n",
      "              tree_method='exact', validate_parameters=1, verbosity=None)\n",
      "Validation Accuracy: 0.5169477205907201\n",
      "[12:03:49] WARNING: C:/Users/Administrator/workspace/xgboost-win64_release_1.3.0/src/learner.cc:1061: Starting in XGBoost 1.3.0, the default evaluation metric used with the objective 'multi:softprob' was changed from 'merror' to 'mlogloss'. Explicitly set eval_metric if you'd like to restore the old behavior.\n",
      "[12:06:24] WARNING: C:/Users/Administrator/workspace/xgboost-win64_release_1.3.0/src/learner.cc:1061: Starting in XGBoost 1.3.0, the default evaluation metric used with the objective 'multi:softprob' was changed from 'merror' to 'mlogloss'. Explicitly set eval_metric if you'd like to restore the old behavior.\n",
      "[12:08:55] WARNING: C:/Users/Administrator/workspace/xgboost-win64_release_1.3.0/src/learner.cc:1061: Starting in XGBoost 1.3.0, the default evaluation metric used with the objective 'multi:softprob' was changed from 'merror' to 'mlogloss'. Explicitly set eval_metric if you'd like to restore the old behavior.\n",
      "[12:11:37] WARNING: C:/Users/Administrator/workspace/xgboost-win64_release_1.3.0/src/learner.cc:1061: Starting in XGBoost 1.3.0, the default evaluation metric used with the objective 'multi:softprob' was changed from 'merror' to 'mlogloss'. Explicitly set eval_metric if you'd like to restore the old behavior.\n",
      "[12:14:13] WARNING: C:/Users/Administrator/workspace/xgboost-win64_release_1.3.0/src/learner.cc:1061: Starting in XGBoost 1.3.0, the default evaluation metric used with the objective 'multi:softprob' was changed from 'merror' to 'mlogloss'. Explicitly set eval_metric if you'd like to restore the old behavior.\n",
      "Cross Validation (CV) accuracies: [0.28479943 0.35418462 0.3530525  0.25780234 0.36623241]\n",
      "Mean CV accuracy: 0.3232142586322223\n",
      "Std CV accuracy: 0.04348439609421272\n"
     ]
    }
   ],
   "source": [
    "#Model\n",
    "xgboost_classifer = XGBClassifier()\n",
    "#Fit to data\n",
    "xgboost_classifer.fit(X_train, y_train)\n",
    "#Assess performance using validation set and cross validation\n",
    "model_performace_val_cv(xgboost_classifer, X, y, X_valid, y_valid)"
   ]
  },
  {
   "cell_type": "markdown",
   "id": "sealed-landing",
   "metadata": {},
   "source": [
    "## Hyperparameter tuning"
   ]
  },
  {
   "cell_type": "code",
   "execution_count": null,
   "id": "planned-basket",
   "metadata": {},
   "outputs": [],
   "source": [
    "# #Grid Search\n",
    "# param_grid = {'criterion': ['gini', \"entropy\"],\n",
    "#              'n_estimators': list(range(100, 500, 100)),\n",
    "#              'max_depth': list(range(3, 20, 5)),\n",
    "#              }"
   ]
  },
  {
   "cell_type": "code",
   "execution_count": null,
   "id": "infinite-malawi",
   "metadata": {},
   "outputs": [],
   "source": [
    "# # Use Grid Search to determine best performing hyper-parameters\n",
    "# tuned_GBC = GridSearchCV(ensemble.GradientBoostingClassifier(), param_grid, cv=5)\n",
    "# tuned_GBC.fit(X_train, y) #Should have been y_train "
   ]
  },
  {
   "cell_type": "code",
   "execution_count": null,
   "id": "understood-richmond",
   "metadata": {},
   "outputs": [],
   "source": [
    "# final_model = GradientBoostingClassifier(n_estimators=300, criterion= 'entropy', max_depth=18)\n",
    "# final_model.fit(X_train, y_train)"
   ]
  },
  {
   "cell_type": "markdown",
   "id": "complete-vector",
   "metadata": {},
   "source": [
    "## Test Model on Test Set"
   ]
  },
  {
   "cell_type": "code",
   "execution_count": 25,
   "id": "operational-executive",
   "metadata": {},
   "outputs": [],
   "source": [
    "y_predictedRFC = random_forest_classifier.predict(X_test)\n",
    "y_predictedGBC=gradient_boosting_classifer.predict(X_test)\n",
    "y_predictedXGB=xgboost_classifer.predict(X_test)"
   ]
  },
  {
   "cell_type": "code",
   "execution_count": 26,
   "id": "correct-estimate",
   "metadata": {},
   "outputs": [
    {
     "data": {
      "text/plain": [
       "49.59559320506466"
      ]
     },
     "execution_count": 26,
     "metadata": {},
     "output_type": "execute_result"
    }
   ],
   "source": [
    "#Accuracy on the test set\n",
    "test_accuracyGBC = metrics.accuracy_score(y_test, y_predictedGBC)\n",
    "test_accuracyGBC*100"
   ]
  },
  {
   "cell_type": "code",
   "execution_count": 27,
   "id": "abroad-visit",
   "metadata": {},
   "outputs": [
    {
     "data": {
      "text/plain": [
       "51.70098679763889"
      ]
     },
     "execution_count": 27,
     "metadata": {},
     "output_type": "execute_result"
    }
   ],
   "source": [
    "test_accuracyXGB = metrics.accuracy_score(y_test, y_predictedXGB)\n",
    "test_accuracyXGB*100"
   ]
  },
  {
   "cell_type": "code",
   "execution_count": 28,
   "id": "chemical-tiffany",
   "metadata": {},
   "outputs": [
    {
     "data": {
      "text/plain": [
       "44.42842337674041"
      ]
     },
     "execution_count": 28,
     "metadata": {},
     "output_type": "execute_result"
    }
   ],
   "source": [
    "#Accuracy on the test set\n",
    "test_accuracyRFC = metrics.accuracy_score(y_test, y_predictedRFC)\n",
    "test_accuracyRFC*100"
   ]
  },
  {
   "cell_type": "code",
   "execution_count": 23,
   "id": "sunrise-minimum",
   "metadata": {
    "scrolled": false
   },
   "outputs": [
    {
     "data": {
      "text/html": [
       "<div>\n",
       "<style scoped>\n",
       "    .dataframe tbody tr th:only-of-type {\n",
       "        vertical-align: middle;\n",
       "    }\n",
       "\n",
       "    .dataframe tbody tr th {\n",
       "        vertical-align: top;\n",
       "    }\n",
       "\n",
       "    .dataframe thead th {\n",
       "        text-align: right;\n",
       "    }\n",
       "</style>\n",
       "<table border=\"1\" class=\"dataframe\">\n",
       "  <thead>\n",
       "    <tr style=\"text-align: right;\">\n",
       "      <th></th>\n",
       "      <th>Actual</th>\n",
       "      <th>Predicted</th>\n",
       "    </tr>\n",
       "    <tr>\n",
       "      <th>StationNumber</th>\n",
       "      <th></th>\n",
       "      <th></th>\n",
       "    </tr>\n",
       "  </thead>\n",
       "  <tbody>\n",
       "    <tr>\n",
       "      <th>26</th>\n",
       "      <td>12</td>\n",
       "      <td>12</td>\n",
       "    </tr>\n",
       "    <tr>\n",
       "      <th>12</th>\n",
       "      <td>3</td>\n",
       "      <td>13</td>\n",
       "    </tr>\n",
       "    <tr>\n",
       "      <th>94</th>\n",
       "      <td>2</td>\n",
       "      <td>2</td>\n",
       "    </tr>\n",
       "    <tr>\n",
       "      <th>91</th>\n",
       "      <td>20</td>\n",
       "      <td>19</td>\n",
       "    </tr>\n",
       "    <tr>\n",
       "      <th>27</th>\n",
       "      <td>13</td>\n",
       "      <td>13</td>\n",
       "    </tr>\n",
       "    <tr>\n",
       "      <th>...</th>\n",
       "      <td>...</td>\n",
       "      <td>...</td>\n",
       "    </tr>\n",
       "    <tr>\n",
       "      <th>29</th>\n",
       "      <td>15</td>\n",
       "      <td>16</td>\n",
       "    </tr>\n",
       "    <tr>\n",
       "      <th>75</th>\n",
       "      <td>14</td>\n",
       "      <td>4</td>\n",
       "    </tr>\n",
       "    <tr>\n",
       "      <th>43</th>\n",
       "      <td>17</td>\n",
       "      <td>17</td>\n",
       "    </tr>\n",
       "    <tr>\n",
       "      <th>13</th>\n",
       "      <td>6</td>\n",
       "      <td>16</td>\n",
       "    </tr>\n",
       "    <tr>\n",
       "      <th>74</th>\n",
       "      <td>4</td>\n",
       "      <td>14</td>\n",
       "    </tr>\n",
       "  </tbody>\n",
       "</table>\n",
       "<p>88772 rows × 2 columns</p>\n",
       "</div>"
      ],
      "text/plain": [
       "               Actual  Predicted\n",
       "StationNumber                   \n",
       "26                 12         12\n",
       "12                  3         13\n",
       "94                  2          2\n",
       "91                 20         19\n",
       "27                 13         13\n",
       "...               ...        ...\n",
       "29                 15         16\n",
       "75                 14          4\n",
       "43                 17         17\n",
       "13                  6         16\n",
       "74                  4         14\n",
       "\n",
       "[88772 rows x 2 columns]"
      ]
     },
     "execution_count": 23,
     "metadata": {},
     "output_type": "execute_result"
    }
   ],
   "source": [
    "dfRFC=pd.DataFrame({'Actual':y_test, 'Predicted':y_predictedRFC})\n",
    "dfRFC"
   ]
  },
  {
   "cell_type": "code",
   "execution_count": 29,
   "id": "optimum-provision",
   "metadata": {},
   "outputs": [
    {
     "data": {
      "text/html": [
       "<div>\n",
       "<style scoped>\n",
       "    .dataframe tbody tr th:only-of-type {\n",
       "        vertical-align: middle;\n",
       "    }\n",
       "\n",
       "    .dataframe tbody tr th {\n",
       "        vertical-align: top;\n",
       "    }\n",
       "\n",
       "    .dataframe thead th {\n",
       "        text-align: right;\n",
       "    }\n",
       "</style>\n",
       "<table border=\"1\" class=\"dataframe\">\n",
       "  <thead>\n",
       "    <tr style=\"text-align: right;\">\n",
       "      <th></th>\n",
       "      <th>Actual</th>\n",
       "      <th>Predicted</th>\n",
       "    </tr>\n",
       "    <tr>\n",
       "      <th>StationNumber</th>\n",
       "      <th></th>\n",
       "      <th></th>\n",
       "    </tr>\n",
       "  </thead>\n",
       "  <tbody>\n",
       "    <tr>\n",
       "      <th>26</th>\n",
       "      <td>12</td>\n",
       "      <td>12</td>\n",
       "    </tr>\n",
       "    <tr>\n",
       "      <th>12</th>\n",
       "      <td>3</td>\n",
       "      <td>13</td>\n",
       "    </tr>\n",
       "    <tr>\n",
       "      <th>94</th>\n",
       "      <td>2</td>\n",
       "      <td>2</td>\n",
       "    </tr>\n",
       "    <tr>\n",
       "      <th>91</th>\n",
       "      <td>20</td>\n",
       "      <td>10</td>\n",
       "    </tr>\n",
       "    <tr>\n",
       "      <th>27</th>\n",
       "      <td>13</td>\n",
       "      <td>13</td>\n",
       "    </tr>\n",
       "    <tr>\n",
       "      <th>...</th>\n",
       "      <td>...</td>\n",
       "      <td>...</td>\n",
       "    </tr>\n",
       "    <tr>\n",
       "      <th>29</th>\n",
       "      <td>15</td>\n",
       "      <td>16</td>\n",
       "    </tr>\n",
       "    <tr>\n",
       "      <th>75</th>\n",
       "      <td>14</td>\n",
       "      <td>14</td>\n",
       "    </tr>\n",
       "    <tr>\n",
       "      <th>43</th>\n",
       "      <td>17</td>\n",
       "      <td>7</td>\n",
       "    </tr>\n",
       "    <tr>\n",
       "      <th>13</th>\n",
       "      <td>6</td>\n",
       "      <td>16</td>\n",
       "    </tr>\n",
       "    <tr>\n",
       "      <th>74</th>\n",
       "      <td>4</td>\n",
       "      <td>14</td>\n",
       "    </tr>\n",
       "  </tbody>\n",
       "</table>\n",
       "<p>88772 rows × 2 columns</p>\n",
       "</div>"
      ],
      "text/plain": [
       "               Actual  Predicted\n",
       "StationNumber                   \n",
       "26                 12         12\n",
       "12                  3         13\n",
       "94                  2          2\n",
       "91                 20         10\n",
       "27                 13         13\n",
       "...               ...        ...\n",
       "29                 15         16\n",
       "75                 14         14\n",
       "43                 17          7\n",
       "13                  6         16\n",
       "74                  4         14\n",
       "\n",
       "[88772 rows x 2 columns]"
      ]
     },
     "execution_count": 29,
     "metadata": {},
     "output_type": "execute_result"
    }
   ],
   "source": [
    "dfGBX=pd.DataFrame({'Actual':y_test, 'Predicted':y_predictedGBC})\n",
    "dfGBX"
   ]
  },
  {
   "cell_type": "code",
   "execution_count": 30,
   "id": "rotary-meeting",
   "metadata": {},
   "outputs": [
    {
     "data": {
      "text/html": [
       "<div>\n",
       "<style scoped>\n",
       "    .dataframe tbody tr th:only-of-type {\n",
       "        vertical-align: middle;\n",
       "    }\n",
       "\n",
       "    .dataframe tbody tr th {\n",
       "        vertical-align: top;\n",
       "    }\n",
       "\n",
       "    .dataframe thead th {\n",
       "        text-align: right;\n",
       "    }\n",
       "</style>\n",
       "<table border=\"1\" class=\"dataframe\">\n",
       "  <thead>\n",
       "    <tr style=\"text-align: right;\">\n",
       "      <th></th>\n",
       "      <th>Actual</th>\n",
       "      <th>Predicted</th>\n",
       "    </tr>\n",
       "    <tr>\n",
       "      <th>StationNumber</th>\n",
       "      <th></th>\n",
       "      <th></th>\n",
       "    </tr>\n",
       "  </thead>\n",
       "  <tbody>\n",
       "    <tr>\n",
       "      <th>26</th>\n",
       "      <td>12</td>\n",
       "      <td>12</td>\n",
       "    </tr>\n",
       "    <tr>\n",
       "      <th>12</th>\n",
       "      <td>3</td>\n",
       "      <td>13</td>\n",
       "    </tr>\n",
       "    <tr>\n",
       "      <th>94</th>\n",
       "      <td>2</td>\n",
       "      <td>2</td>\n",
       "    </tr>\n",
       "    <tr>\n",
       "      <th>91</th>\n",
       "      <td>20</td>\n",
       "      <td>20</td>\n",
       "    </tr>\n",
       "    <tr>\n",
       "      <th>27</th>\n",
       "      <td>13</td>\n",
       "      <td>13</td>\n",
       "    </tr>\n",
       "    <tr>\n",
       "      <th>...</th>\n",
       "      <td>...</td>\n",
       "      <td>...</td>\n",
       "    </tr>\n",
       "    <tr>\n",
       "      <th>29</th>\n",
       "      <td>15</td>\n",
       "      <td>16</td>\n",
       "    </tr>\n",
       "    <tr>\n",
       "      <th>75</th>\n",
       "      <td>14</td>\n",
       "      <td>14</td>\n",
       "    </tr>\n",
       "    <tr>\n",
       "      <th>43</th>\n",
       "      <td>17</td>\n",
       "      <td>17</td>\n",
       "    </tr>\n",
       "    <tr>\n",
       "      <th>13</th>\n",
       "      <td>6</td>\n",
       "      <td>16</td>\n",
       "    </tr>\n",
       "    <tr>\n",
       "      <th>74</th>\n",
       "      <td>4</td>\n",
       "      <td>14</td>\n",
       "    </tr>\n",
       "  </tbody>\n",
       "</table>\n",
       "<p>88772 rows × 2 columns</p>\n",
       "</div>"
      ],
      "text/plain": [
       "               Actual  Predicted\n",
       "StationNumber                   \n",
       "26                 12         12\n",
       "12                  3         13\n",
       "94                  2          2\n",
       "91                 20         20\n",
       "27                 13         13\n",
       "...               ...        ...\n",
       "29                 15         16\n",
       "75                 14         14\n",
       "43                 17         17\n",
       "13                  6         16\n",
       "74                  4         14\n",
       "\n",
       "[88772 rows x 2 columns]"
      ]
     },
     "execution_count": 30,
     "metadata": {},
     "output_type": "execute_result"
    }
   ],
   "source": [
    "dfXGB=pd.DataFrame({'Actual':y_test, 'Predicted':y_predictedXGB})\n",
    "dfXGB"
   ]
  },
  {
   "cell_type": "code",
   "execution_count": 32,
   "id": "above-navigation",
   "metadata": {},
   "outputs": [
    {
     "data": {
      "image/png": "[encoded data removed]",
      "text/plain": [
       "<Figure size 360x504 with 1 Axes>"
      ]
     },
     "metadata": {
      "needs_background": "light"
     },
     "output_type": "display_data"
    }
   ],
   "source": [
    "import seaborn as sns\n",
    "import matplotlib.pyplot as plt\n",
    "%matplotlib inline\n",
    "plt.figure(figsize=(5, 7))\n",
    "\n",
    "\n",
    "ax = sns.distplot(y_test, hist=False, color=\"b\", label=\"Actual Value\")\n",
    "sns.distplot(y_predictedRFC, hist=False, color=\"g\", label=\"Fitted Values\" , ax=ax)\n",
    "plt.legend()\n",
    "\n",
    "plt.title('Actual vs Fitted Number of stands RFC Model')\n",
    "\n",
    "\n",
    "plt.show()\n",
    "plt.close()"
   ]
  },
  {
   "cell_type": "code",
   "execution_count": 33,
   "id": "acceptable-peninsula",
   "metadata": {},
   "outputs": [
    {
     "data": {
      "image/png": "[encoded data removed]",
      "text/plain": [
       "<Figure size 360x504 with 1 Axes>"
      ]
     },
     "metadata": {
      "needs_background": "light"
     },
     "output_type": "display_data"
    }
   ],
   "source": [
    "plt.figure(figsize=(5, 7))\n",
    "\n",
    "\n",
    "ax = sns.distplot(y_test, hist=False, color=\"b\", label=\"Actual Value\")\n",
    "sns.distplot(y_predictedGBC, hist=False, color=\"g\", label=\"Fitted Values\" , ax=ax)\n",
    "plt.legend()\n",
    "\n",
    "plt.title('Actual vs Fitted Number of stands GBC Model')\n",
    "\n",
    "\n",
    "plt.show()\n",
    "plt.close()"
   ]
  },
  {
   "cell_type": "code",
   "execution_count": 34,
   "id": "fitted-disabled",
   "metadata": {},
   "outputs": [
    {
     "data": {
      "image/png": "[encoded data removed]",
      "text/plain": [
       "<Figure size 360x504 with 1 Axes>"
      ]
     },
     "metadata": {
      "needs_background": "light"
     },
     "output_type": "display_data"
    }
   ],
   "source": [
    "plt.figure(figsize=(5, 7))\n",
    "\n",
    "\n",
    "ax = sns.distplot(y_test, hist=False, color=\"b\", label=\"Actual Value\")\n",
    "sns.distplot(y_predictedXGB, hist=False, color=\"g\", label=\"Fitted Values\" , ax=ax)\n",
    "plt.legend()\n",
    "\n",
    "plt.title('Actual vs Fitted Number of stands XGB Model')\n",
    "\n",
    "\n",
    "plt.show()\n",
    "plt.close()"
   ]
  },
  {
   "cell_type": "code",
   "execution_count": null,
   "id": "canadian-stranger",
   "metadata": {},
   "outputs": [],
   "source": []
  }
 ],
 "metadata": {
  "kernelspec": {
   "display_name": "Python 3",
   "language": "python",
   "name": "python3"
  },
  "language_info": {
   "codemirror_mode": {
    "name": "ipython",
    "version": 3
   },
   "file_extension": ".py",
   "mimetype": "text/x-python",
   "name": "python",
   "nbconvert_exporter": "python",
   "pygments_lexer": "ipython3",
   "version": "3.9.1"
  }
 },
 "nbformat": 4,
 "nbformat_minor": 5
}
