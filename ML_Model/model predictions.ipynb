{
 "cells": [
  {
   "cell_type": "code",
   "execution_count": 17,
   "id": "fitted-record",
   "metadata": {},
   "outputs": [],
   "source": [
    "import os\n",
    "import re\n",
    "import pickle\n",
    "import numpy as np\n",
    "def get_Models_get_predictions(num, temp, hour, description, day):\n",
    "    Bikesfiles={}\n",
    "    Standsfiles={}\n",
    "    \n",
    "    if hour <11:\n",
    "        hours = list(range(hour, hour+12, 1))\n",
    "        print(hours)\n",
    "    else:\n",
    "        hours_left = 23- hour\n",
    "        hours_start = list(range(hour, hour+hours_left+1, 1))\n",
    "        hours_to_add = 12 - hours_left\n",
    "        other_hours = list(range(hours_to_add))\n",
    "        hours = hours_start + other_hours\n",
    "        \n",
    "\n",
    "    for file in os.listdir():\n",
    "        if file.endswith(\"Bikes.pkl\"):\n",
    "            regex = re.compile(r'\\d+')\n",
    "            station = [int(x) for x in regex.findall(file)]\n",
    "            Bikesfiles[station[0]] = file\n",
    "\n",
    "        elif file.endswith(\"Stands.pkl\"):\n",
    "            regex = re.compile(r'\\d+')\n",
    "            station = [int(x) for x in regex.findall(file)]\n",
    "            Standsfiles[station[0]] = file\n",
    "\n",
    "    BikesModelName = Bikesfiles.get(num)\n",
    "    StandsModelName = Standsfiles.get(num)\n",
    "\n",
    "    with open(BikesModelName, 'rb') as handle:\n",
    "        modelBikes = pickle.load(handle)\n",
    "\n",
    "    with open(StandsModelName, 'rb') as handle:\n",
    "        modelStands = pickle.load(handle)\n",
    "    predictionsBikes={}\n",
    "    for x in hours:\n",
    "        array = np.array([temp, x, description, day])\n",
    "        x_test = array.reshape(1, -1)\n",
    "        p = modelBikes.predict(x_test)\n",
    "        predictionsBikes[x] =p.astype(int)\n",
    "    \n",
    "    predictionsStands={}\n",
    "    for x in hours:\n",
    "        array = np.array([temp, x, description, day])\n",
    "        x_test = array.reshape(1, -1)\n",
    "        p = modelStands.predict(x_test)\n",
    "        predictionsStands[x] =p.astype(int)\n",
    "    \n",
    "\n",
    "    print(\"predictions for bikes at station:\", num, \"is: \", predictionsBikes)\n",
    "    print(\"predictions for stands at station:\", num, \"is: \", predictionsStands)"
   ]
  },
  {
   "cell_type": "code",
   "execution_count": 18,
   "id": "residential-shakespeare",
   "metadata": {
    "scrolled": true
   },
   "outputs": [
    {
     "name": "stdout",
     "output_type": "stream",
     "text": [
      "predictions for bikes at station: 7 is:  {18: array([2]), 19: array([2]), 20: array([1]), 21: array([0]), 22: array([0]), 23: array([0]), 0: array([15]), 1: array([15]), 2: array([15]), 3: array([15]), 4: array([15]), 5: array([16]), 6: array([16])}\n",
      "predictions for stands at station: 7 is:  {18: array([17]), 19: array([28]), 20: array([27]), 21: array([29]), 22: array([14]), 23: array([14]), 0: array([14]), 1: array([14]), 2: array([14]), 3: array([14]), 4: array([14]), 5: array([13]), 6: array([13])}\n"
     ]
    }
   ],
   "source": [
    "get_Models_get_predictions(7, 3, 18, 2, 3)"
   ]
  },
  {
   "cell_type": "code",
   "execution_count": null,
   "id": "ongoing-parent",
   "metadata": {},
   "outputs": [],
   "source": [
    "\n"
   ]
  }
 ],
 "metadata": {
  "kernelspec": {
   "display_name": "Python 3",
   "language": "python",
   "name": "python3"
  },
  "language_info": {
   "codemirror_mode": {
    "name": "ipython",
    "version": 3
   },
   "file_extension": ".py",
   "mimetype": "text/x-python",
   "name": "python",
   "nbconvert_exporter": "python",
   "pygments_lexer": "ipython3",
   "version": "3.9.1"
  }
 },
 "nbformat": 4,
 "nbformat_minor": 5
}
