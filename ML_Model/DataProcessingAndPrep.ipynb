{
 "cells": [
  {
   "cell_type": "markdown",
   "id": "plastic-tunisia",
   "metadata": {},
   "source": [
    "# Machine Learning Model for Available Bikes and Bikes Stands"
   ]
  },
  {
   "cell_type": "markdown",
   "id": "related-fight",
   "metadata": {},
   "source": [
    "## Contents"
   ]
  },
  {
   "cell_type": "markdown",
   "id": "terminal-document",
   "metadata": {},
   "source": [
    "* [1. Data Processing](#data_pros) \n",
    ".\n",
    ".\n",
    ".\n"
   ]
  },
  {
   "cell_type": "code",
   "execution_count": 1,
   "id": "compressed-concert",
   "metadata": {},
   "outputs": [],
   "source": [
    "#import modules needed\n",
    "import pandas as pd\n",
    "import numpy as np\n",
    "from datetime import datetime, timedelta, date\n",
    "from sklearn import preprocessing\n",
    "from sklearn.ensemble import RandomForestClassifier\n",
    "from sklearn.model_selection import train_test_split\n",
    "from sklearn.model_selection import cross_val_score\n",
    "from sklearn import metrics\n",
    "from sklearn.model_selection import GridSearchCV\n",
    "# hide ipykernel warnings \n",
    "import warnings\n",
    "warnings.filterwarnings('ignore')\n",
    "import sqlalchemy as sqla\n",
    "from sqlalchemy import create_engine"
   ]
  },
  {
   "cell_type": "markdown",
   "id": "judicial-species",
   "metadata": {},
   "source": [
    "## 1. Data Processing <a class=\"anchor\" id=\"data_pros\"></a>"
   ]
  },
  {
   "cell_type": "code",
   "execution_count": 2,
   "id": "hidden-senator",
   "metadata": {},
   "outputs": [],
   "source": [
    "URI=\"dublinbikes.cjriubtfwhtu.us-east-1.rds.amazonaws.com\"\n",
    "PORT=\"3306\"\n",
    "DB=\"dbbikes\"\n",
    "USER=\"ellie\"\n",
    "PASSWORD=\"1994Pamoelda\""
   ]
  },
  {
   "cell_type": "code",
   "execution_count": 3,
   "id": "crucial-hollywood",
   "metadata": {},
   "outputs": [],
   "source": [
    "engine = create_engine(\"mysql+mysqldb://{}:{}@{}:{}/{}\".format(USER, PASSWORD, URI, PORT, DB), echo = True)"
   ]
  },
  {
   "cell_type": "markdown",
   "id": "divided-ferry",
   "metadata": {},
   "source": [
    "#### Read in the tables"
   ]
  },
  {
   "cell_type": "code",
   "execution_count": 4,
   "id": "offshore-congress",
   "metadata": {},
   "outputs": [],
   "source": [
    "# #read in weather table\n",
    "# dfweather = pd.read_csv('weather_table.csv', sep=',\\s+', delimiter=',', skipinitialspace=True)"
   ]
  },
  {
   "cell_type": "code",
   "execution_count": 5,
   "id": "three-schema",
   "metadata": {},
   "outputs": [],
   "source": [
    "# #read in availability table\n",
    "# dfavailability = pd.read_csv('av_table.csv', sep=',\\s+', delimiter=',', skipinitialspace=True)"
   ]
  },
  {
   "cell_type": "code",
   "execution_count": 6,
   "id": "weekly-constitution",
   "metadata": {},
   "outputs": [],
   "source": [
    "sql1=\"\"\"\n",
    "Select description, dt, temp,temp_min, temp_max, humidity From dbbikes.weather \n",
    "\"\"\""
   ]
  },
  {
   "cell_type": "code",
   "execution_count": 7,
   "id": "thousand-newton",
   "metadata": {},
   "outputs": [],
   "source": [
    "sql2=\"\"\"\n",
    "Select number, last_update, available_bikes_stands,available_bikes From dbbikes.availability \n",
    "\"\"\""
   ]
  },
  {
   "cell_type": "code",
   "execution_count": 8,
   "id": "attempted-genealogy",
   "metadata": {},
   "outputs": [
    {
     "name": "stdout",
     "output_type": "stream",
     "text": [
      "2021-03-26 09:30:17,383 INFO sqlalchemy.engine.base.Engine SHOW VARIABLES LIKE 'sql_mode'\n",
      "2021-03-26 09:30:17,389 INFO sqlalchemy.engine.base.Engine ()\n",
      "2021-03-26 09:30:17,521 INFO sqlalchemy.engine.base.Engine SHOW VARIABLES LIKE 'lower_case_table_names'\n",
      "2021-03-26 09:30:17,521 INFO sqlalchemy.engine.base.Engine ()\n",
      "2021-03-26 09:30:17,756 INFO sqlalchemy.engine.base.Engine SELECT DATABASE()\n",
      "2021-03-26 09:30:17,757 INFO sqlalchemy.engine.base.Engine ()\n",
      "2021-03-26 09:30:17,995 INFO sqlalchemy.engine.base.Engine show collation where `Charset` = 'utf8mb4' and `Collation` = 'utf8mb4_bin'\n",
      "2021-03-26 09:30:17,996 INFO sqlalchemy.engine.base.Engine ()\n",
      "2021-03-26 09:30:18,137 INFO sqlalchemy.engine.base.Engine SELECT CAST('test plain returns' AS CHAR(60)) AS anon_1\n",
      "2021-03-26 09:30:18,138 INFO sqlalchemy.engine.base.Engine ()\n",
      "2021-03-26 09:30:18,269 INFO sqlalchemy.engine.base.Engine SELECT CAST('test unicode returns' AS CHAR(60)) AS anon_1\n",
      "2021-03-26 09:30:18,270 INFO sqlalchemy.engine.base.Engine ()\n",
      "2021-03-26 09:30:18,406 INFO sqlalchemy.engine.base.Engine SELECT CAST('test collated returns' AS CHAR CHARACTER SET utf8mb4) COLLATE utf8mb4_bin AS anon_1\n",
      "2021-03-26 09:30:18,408 INFO sqlalchemy.engine.base.Engine ()\n",
      "2021-03-26 09:30:18,756 INFO sqlalchemy.engine.base.OptionEngine \n",
      "Select description, dt, temp,temp_min, temp_max, humidity From dbbikes.weather \n",
      "\n",
      "2021-03-26 09:30:18,758 INFO sqlalchemy.engine.base.OptionEngine ()\n"
     ]
    }
   ],
   "source": [
    "dfweather=pd.read_sql_query(sql1, engine)"
   ]
  },
  {
   "cell_type": "code",
   "execution_count": 9,
   "id": "boring-shift",
   "metadata": {},
   "outputs": [
    {
     "name": "stdout",
     "output_type": "stream",
     "text": [
      "2021-03-26 09:30:19,431 INFO sqlalchemy.engine.base.OptionEngine \n",
      "Select number, last_update, available_bikes_stands,available_bikes From dbbikes.availability \n",
      "\n",
      "2021-03-26 09:30:19,433 INFO sqlalchemy.engine.base.OptionEngine ()\n"
     ]
    }
   ],
   "source": [
    "dfavailability=pd.read_sql_query(sql2, engine)"
   ]
  },
  {
   "cell_type": "markdown",
   "id": "hired-uncle",
   "metadata": {},
   "source": [
    "#### Check the number of columns and rows in the tables"
   ]
  },
  {
   "cell_type": "code",
   "execution_count": 10,
   "id": "adaptive-institute",
   "metadata": {},
   "outputs": [
    {
     "data": {
      "text/plain": [
       "(2279, 6)"
      ]
     },
     "execution_count": 10,
     "metadata": {},
     "output_type": "execute_result"
    }
   ],
   "source": [
    "dfweather.shape"
   ]
  },
  {
   "cell_type": "code",
   "execution_count": 11,
   "id": "cross-indonesia",
   "metadata": {},
   "outputs": [
    {
     "data": {
      "text/plain": [
       "(483687, 4)"
      ]
     },
     "execution_count": 11,
     "metadata": {},
     "output_type": "execute_result"
    }
   ],
   "source": [
    "dfavailability.shape"
   ]
  },
  {
   "cell_type": "markdown",
   "id": "armed-dimension",
   "metadata": {},
   "source": [
    "#### View the tables"
   ]
  },
  {
   "cell_type": "code",
   "execution_count": 12,
   "id": "flexible-audio",
   "metadata": {
    "scrolled": true
   },
   "outputs": [
    {
     "data": {
      "text/html": [
       "<div>\n",
       "<style scoped>\n",
       "    .dataframe tbody tr th:only-of-type {\n",
       "        vertical-align: middle;\n",
       "    }\n",
       "\n",
       "    .dataframe tbody tr th {\n",
       "        vertical-align: top;\n",
       "    }\n",
       "\n",
       "    .dataframe thead th {\n",
       "        text-align: right;\n",
       "    }\n",
       "</style>\n",
       "<table border=\"1\" class=\"dataframe\">\n",
       "  <thead>\n",
       "    <tr style=\"text-align: right;\">\n",
       "      <th></th>\n",
       "      <th>description</th>\n",
       "      <th>dt</th>\n",
       "      <th>temp</th>\n",
       "      <th>temp_min</th>\n",
       "      <th>temp_max</th>\n",
       "      <th>humidity</th>\n",
       "    </tr>\n",
       "  </thead>\n",
       "  <tbody>\n",
       "    <tr>\n",
       "      <th>0</th>\n",
       "      <td>few clouds</td>\n",
       "      <td>2021-03-05 21:23:28</td>\n",
       "      <td>-1</td>\n",
       "      <td>-3</td>\n",
       "      <td>3</td>\n",
       "      <td>86</td>\n",
       "    </tr>\n",
       "    <tr>\n",
       "      <th>1</th>\n",
       "      <td>few clouds</td>\n",
       "      <td>2021-03-05 21:39:47</td>\n",
       "      <td>-1</td>\n",
       "      <td>-3</td>\n",
       "      <td>3</td>\n",
       "      <td>86</td>\n",
       "    </tr>\n",
       "    <tr>\n",
       "      <th>2</th>\n",
       "      <td>few clouds</td>\n",
       "      <td>2021-03-05 21:57:39</td>\n",
       "      <td>-1</td>\n",
       "      <td>-3</td>\n",
       "      <td>3</td>\n",
       "      <td>86</td>\n",
       "    </tr>\n",
       "    <tr>\n",
       "      <th>3</th>\n",
       "      <td>few clouds</td>\n",
       "      <td>2021-03-05 22:10:25</td>\n",
       "      <td>-1</td>\n",
       "      <td>-3</td>\n",
       "      <td>-1</td>\n",
       "      <td>86</td>\n",
       "    </tr>\n",
       "    <tr>\n",
       "      <th>4</th>\n",
       "      <td>scattered clouds</td>\n",
       "      <td>2021-03-05 22:27:23</td>\n",
       "      <td>-1</td>\n",
       "      <td>-3</td>\n",
       "      <td>-1</td>\n",
       "      <td>86</td>\n",
       "    </tr>\n",
       "  </tbody>\n",
       "</table>\n",
       "</div>"
      ],
      "text/plain": [
       "        description                  dt  temp  temp_min  temp_max  humidity\n",
       "0        few clouds 2021-03-05 21:23:28    -1        -3         3        86\n",
       "1        few clouds 2021-03-05 21:39:47    -1        -3         3        86\n",
       "2        few clouds 2021-03-05 21:57:39    -1        -3         3        86\n",
       "3        few clouds 2021-03-05 22:10:25    -1        -3        -1        86\n",
       "4  scattered clouds 2021-03-05 22:27:23    -1        -3        -1        86"
      ]
     },
     "execution_count": 12,
     "metadata": {},
     "output_type": "execute_result"
    }
   ],
   "source": [
    "dfweather.head()"
   ]
  },
  {
   "cell_type": "code",
   "execution_count": 13,
   "id": "mental-piece",
   "metadata": {
    "scrolled": false
   },
   "outputs": [
    {
     "data": {
      "text/html": [
       "<div>\n",
       "<style scoped>\n",
       "    .dataframe tbody tr th:only-of-type {\n",
       "        vertical-align: middle;\n",
       "    }\n",
       "\n",
       "    .dataframe tbody tr th {\n",
       "        vertical-align: top;\n",
       "    }\n",
       "\n",
       "    .dataframe thead th {\n",
       "        text-align: right;\n",
       "    }\n",
       "</style>\n",
       "<table border=\"1\" class=\"dataframe\">\n",
       "  <thead>\n",
       "    <tr style=\"text-align: right;\">\n",
       "      <th></th>\n",
       "      <th>number</th>\n",
       "      <th>last_update</th>\n",
       "      <th>available_bikes_stands</th>\n",
       "      <th>available_bikes</th>\n",
       "    </tr>\n",
       "  </thead>\n",
       "  <tbody>\n",
       "    <tr>\n",
       "      <th>0</th>\n",
       "      <td>2</td>\n",
       "      <td>2021-02-25 20:06:43</td>\n",
       "      <td>9</td>\n",
       "      <td>11</td>\n",
       "    </tr>\n",
       "    <tr>\n",
       "      <th>1</th>\n",
       "      <td>2</td>\n",
       "      <td>2021-02-25 20:16:51</td>\n",
       "      <td>9</td>\n",
       "      <td>11</td>\n",
       "    </tr>\n",
       "    <tr>\n",
       "      <th>2</th>\n",
       "      <td>2</td>\n",
       "      <td>2021-02-25 20:26:59</td>\n",
       "      <td>9</td>\n",
       "      <td>11</td>\n",
       "    </tr>\n",
       "    <tr>\n",
       "      <th>3</th>\n",
       "      <td>2</td>\n",
       "      <td>2021-02-25 20:37:07</td>\n",
       "      <td>9</td>\n",
       "      <td>11</td>\n",
       "    </tr>\n",
       "    <tr>\n",
       "      <th>4</th>\n",
       "      <td>2</td>\n",
       "      <td>2021-02-25 20:47:17</td>\n",
       "      <td>9</td>\n",
       "      <td>11</td>\n",
       "    </tr>\n",
       "  </tbody>\n",
       "</table>\n",
       "</div>"
      ],
      "text/plain": [
       "   number         last_update  available_bikes_stands  available_bikes\n",
       "0       2 2021-02-25 20:06:43                       9               11\n",
       "1       2 2021-02-25 20:16:51                       9               11\n",
       "2       2 2021-02-25 20:26:59                       9               11\n",
       "3       2 2021-02-25 20:37:07                       9               11\n",
       "4       2 2021-02-25 20:47:17                       9               11"
      ]
     },
     "execution_count": 13,
     "metadata": {},
     "output_type": "execute_result"
    }
   ],
   "source": [
    "dfavailability.head()"
   ]
  },
  {
   "cell_type": "code",
   "execution_count": 14,
   "id": "tutorial-christmas",
   "metadata": {},
   "outputs": [],
   "source": [
    "dfavailability.rename(columns = {'number':'StationNumber'}, inplace = True)"
   ]
  },
  {
   "cell_type": "markdown",
   "id": "suited-specialist",
   "metadata": {},
   "source": [
    "#### Check Feature types and change into appropriate types if needed "
   ]
  },
  {
   "cell_type": "code",
   "execution_count": 15,
   "id": "sharing-guard",
   "metadata": {
    "scrolled": true
   },
   "outputs": [
    {
     "data": {
      "text/plain": [
       "StationNumber                      int64\n",
       "last_update               datetime64[ns]\n",
       "available_bikes_stands             int64\n",
       "available_bikes                    int64\n",
       "dtype: object"
      ]
     },
     "execution_count": 15,
     "metadata": {},
     "output_type": "execute_result"
    }
   ],
   "source": [
    "dfavailability.dtypes"
   ]
  },
  {
   "cell_type": "code",
   "execution_count": 16,
   "id": "trying-animation",
   "metadata": {},
   "outputs": [],
   "source": [
    "dfavailability['last_update']=dfavailability['last_update'].apply(pd.to_datetime, format='%Y/%m/%d')"
   ]
  },
  {
   "cell_type": "code",
   "execution_count": 17,
   "id": "parliamentary-rocket",
   "metadata": {},
   "outputs": [],
   "source": [
    "# dfavailability['Day']=dfavailability['last_update'].dt.day_name()"
   ]
  },
  {
   "cell_type": "code",
   "execution_count": 18,
   "id": "secure-burst",
   "metadata": {},
   "outputs": [],
   "source": [
    "# dfavailability.Day.unique()"
   ]
  },
  {
   "cell_type": "code",
   "execution_count": 19,
   "id": "occasional-sport",
   "metadata": {
    "scrolled": false
   },
   "outputs": [
    {
     "data": {
      "text/plain": [
       "StationNumber                109\n",
       "last_update               377640\n",
       "available_bikes_stands        41\n",
       "available_bikes               41\n",
       "dtype: int64"
      ]
     },
     "execution_count": 19,
     "metadata": {},
     "output_type": "execute_result"
    }
   ],
   "source": [
    "dfavailability.nunique()"
   ]
  },
  {
   "cell_type": "code",
   "execution_count": 20,
   "id": "accurate-threat",
   "metadata": {},
   "outputs": [
    {
     "data": {
      "text/plain": [
       "StationNumber                      int64\n",
       "last_update               datetime64[ns]\n",
       "available_bikes_stands             int64\n",
       "available_bikes                    int64\n",
       "dtype: object"
      ]
     },
     "execution_count": 20,
     "metadata": {},
     "output_type": "execute_result"
    }
   ],
   "source": [
    "dfavailability.dtypes"
   ]
  },
  {
   "cell_type": "code",
   "execution_count": 21,
   "id": "federal-termination",
   "metadata": {},
   "outputs": [
    {
     "data": {
      "text/plain": [
       "description            object\n",
       "dt             datetime64[ns]\n",
       "temp                    int64\n",
       "temp_min                int64\n",
       "temp_max                int64\n",
       "humidity                int64\n",
       "dtype: object"
      ]
     },
     "execution_count": 21,
     "metadata": {},
     "output_type": "execute_result"
    }
   ],
   "source": [
    "dfweather.dtypes"
   ]
  },
  {
   "cell_type": "code",
   "execution_count": 22,
   "id": "french-setting",
   "metadata": {},
   "outputs": [],
   "source": [
    "dfweather['dt']=dfweather['dt'].apply(pd.to_datetime, format='%Y/%m/%d')\n"
   ]
  },
  {
   "cell_type": "code",
   "execution_count": 23,
   "id": "intense-therapy",
   "metadata": {},
   "outputs": [],
   "source": [
    "# dfweather['Day']=dfweather['dt'].dt.day_name()"
   ]
  },
  {
   "cell_type": "code",
   "execution_count": 24,
   "id": "equal-prison",
   "metadata": {},
   "outputs": [],
   "source": [
    "# dfweather.Day.unique()"
   ]
  },
  {
   "cell_type": "code",
   "execution_count": 25,
   "id": "sublime-lloyd",
   "metadata": {
    "scrolled": false
   },
   "outputs": [
    {
     "data": {
      "text/plain": [
       "description      10\n",
       "dt             2279\n",
       "temp             17\n",
       "temp_min         18\n",
       "temp_max         18\n",
       "humidity         29\n",
       "dtype: int64"
      ]
     },
     "execution_count": 25,
     "metadata": {},
     "output_type": "execute_result"
    }
   ],
   "source": [
    "dfweather.nunique()"
   ]
  },
  {
   "cell_type": "code",
   "execution_count": 26,
   "id": "cosmetic-african",
   "metadata": {},
   "outputs": [],
   "source": [
    "dfweather['description'] = dfweather['description'].astype('category')"
   ]
  },
  {
   "cell_type": "code",
   "execution_count": 27,
   "id": "attended-setup",
   "metadata": {},
   "outputs": [],
   "source": [
    "# #do not need icon for model \n",
    "# dfweather =dfweather.drop(['icon'], axis=1)"
   ]
  },
  {
   "cell_type": "code",
   "execution_count": 28,
   "id": "sexual-james",
   "metadata": {},
   "outputs": [
    {
     "data": {
      "text/plain": [
       "description          category\n",
       "dt             datetime64[ns]\n",
       "temp                    int64\n",
       "temp_min                int64\n",
       "temp_max                int64\n",
       "humidity                int64\n",
       "dtype: object"
      ]
     },
     "execution_count": 28,
     "metadata": {},
     "output_type": "execute_result"
    }
   ],
   "source": [
    "dfweather.dtypes"
   ]
  },
  {
   "cell_type": "markdown",
   "id": "killing-verification",
   "metadata": {},
   "source": [
    "#### Check for Missing Data \n",
    "-Result: None"
   ]
  },
  {
   "cell_type": "code",
   "execution_count": 29,
   "id": "decimal-norfolk",
   "metadata": {
    "scrolled": true
   },
   "outputs": [
    {
     "data": {
      "text/plain": [
       "description    0.0\n",
       "dt             0.0\n",
       "temp           0.0\n",
       "temp_min       0.0\n",
       "temp_max       0.0\n",
       "humidity       0.0\n",
       "dtype: float64"
      ]
     },
     "execution_count": 29,
     "metadata": {},
     "output_type": "execute_result"
    }
   ],
   "source": [
    "dfweather.isnull().sum().sort_values(ascending=False)/len(dfweather)*100"
   ]
  },
  {
   "cell_type": "code",
   "execution_count": 30,
   "id": "hungry-blackjack",
   "metadata": {},
   "outputs": [
    {
     "data": {
      "text/plain": [
       "StationNumber             0.0\n",
       "last_update               0.0\n",
       "available_bikes_stands    0.0\n",
       "available_bikes           0.0\n",
       "dtype: float64"
      ]
     },
     "execution_count": 30,
     "metadata": {},
     "output_type": "execute_result"
    }
   ],
   "source": [
    "dfavailability.isnull().sum().sort_values(ascending=False)/len(dfavailability)*100"
   ]
  },
  {
   "cell_type": "markdown",
   "id": "heard-pizza",
   "metadata": {},
   "source": [
    "#### Check for Duplicate Columns/Rows\n",
    "\n",
    "-Result: None, will further evaluate below"
   ]
  },
  {
   "cell_type": "code",
   "execution_count": 31,
   "id": "frequent-minute",
   "metadata": {},
   "outputs": [
    {
     "name": "stdout",
     "output_type": "stream",
     "text": [
      "Number of duplicate (excluding first) rows in the table is:  0\n",
      "Number of duplicate rows (including first) in the table is: 0\n"
     ]
    }
   ],
   "source": [
    "#Print the number of duplicates, without the original rows that were duplicated\n",
    "print('Number of duplicate (excluding first) rows in the table is: ', dfweather.duplicated().sum())\n",
    "\n",
    "# Check for duplicate rows. \n",
    "# Use \"keep=False\" to mark all duplicates as true, including the original rows that were duplicated.\n",
    "print('Number of duplicate rows (including first) in the table is:', dfweather[dfweather.duplicated(keep=False)].shape[0])"
   ]
  },
  {
   "cell_type": "code",
   "execution_count": 32,
   "id": "dirty-collect",
   "metadata": {},
   "outputs": [
    {
     "name": "stdout",
     "output_type": "stream",
     "text": [
      "Number of duplicate (excluding first) rows in the table is:  0\n",
      "Number of duplicate rows (including first) in the table is: 0\n"
     ]
    }
   ],
   "source": [
    "#Print the number of duplicates, without the original rows that were duplicated\n",
    "print('Number of duplicate (excluding first) rows in the table is: ', dfavailability.duplicated().sum())\n",
    "\n",
    "# Check for duplicate rows. \n",
    "# Use \"keep=False\" to mark all duplicates as true, including the original rows that were duplicated.\n",
    "print('Number of duplicate rows (including first) in the table is:', dfavailability[dfavailability.duplicated(keep=False)].shape[0])"
   ]
  },
  {
   "cell_type": "markdown",
   "id": "korean-cabinet",
   "metadata": {},
   "source": [
    "### Descriptive Stats for Both tables - checking for constant columns\n",
    "\n",
    "- Results: std >0 - no constant columns"
   ]
  },
  {
   "cell_type": "code",
   "execution_count": 33,
   "id": "existing-metallic",
   "metadata": {
    "scrolled": false
   },
   "outputs": [
    {
     "data": {
      "text/html": [
       "<div>\n",
       "<style scoped>\n",
       "    .dataframe tbody tr th:only-of-type {\n",
       "        vertical-align: middle;\n",
       "    }\n",
       "\n",
       "    .dataframe tbody tr th {\n",
       "        vertical-align: top;\n",
       "    }\n",
       "\n",
       "    .dataframe thead th {\n",
       "        text-align: right;\n",
       "    }\n",
       "</style>\n",
       "<table border=\"1\" class=\"dataframe\">\n",
       "  <thead>\n",
       "    <tr style=\"text-align: right;\">\n",
       "      <th></th>\n",
       "      <th>count</th>\n",
       "      <th>mean</th>\n",
       "      <th>std</th>\n",
       "      <th>min</th>\n",
       "      <th>25%</th>\n",
       "      <th>50%</th>\n",
       "      <th>75%</th>\n",
       "      <th>max</th>\n",
       "    </tr>\n",
       "  </thead>\n",
       "  <tbody>\n",
       "    <tr>\n",
       "      <th>StationNumber</th>\n",
       "      <td>483687.0</td>\n",
       "      <td>59.954836</td>\n",
       "      <td>33.773269</td>\n",
       "      <td>2.0</td>\n",
       "      <td>31.0</td>\n",
       "      <td>61.0</td>\n",
       "      <td>90.0</td>\n",
       "      <td>117.0</td>\n",
       "    </tr>\n",
       "    <tr>\n",
       "      <th>available_bikes_stands</th>\n",
       "      <td>483687.0</td>\n",
       "      <td>20.815953</td>\n",
       "      <td>9.214039</td>\n",
       "      <td>0.0</td>\n",
       "      <td>14.0</td>\n",
       "      <td>20.0</td>\n",
       "      <td>28.0</td>\n",
       "      <td>40.0</td>\n",
       "    </tr>\n",
       "    <tr>\n",
       "      <th>available_bikes</th>\n",
       "      <td>483687.0</td>\n",
       "      <td>11.171036</td>\n",
       "      <td>7.004490</td>\n",
       "      <td>0.0</td>\n",
       "      <td>6.0</td>\n",
       "      <td>10.0</td>\n",
       "      <td>15.0</td>\n",
       "      <td>40.0</td>\n",
       "    </tr>\n",
       "  </tbody>\n",
       "</table>\n",
       "</div>"
      ],
      "text/plain": [
       "                           count       mean        std  min   25%   50%   75%  \\\n",
       "StationNumber           483687.0  59.954836  33.773269  2.0  31.0  61.0  90.0   \n",
       "available_bikes_stands  483687.0  20.815953   9.214039  0.0  14.0  20.0  28.0   \n",
       "available_bikes         483687.0  11.171036   7.004490  0.0   6.0  10.0  15.0   \n",
       "\n",
       "                          max  \n",
       "StationNumber           117.0  \n",
       "available_bikes_stands   40.0  \n",
       "available_bikes          40.0  "
      ]
     },
     "execution_count": 33,
     "metadata": {},
     "output_type": "execute_result"
    }
   ],
   "source": [
    "dfavailability.describe().T"
   ]
  },
  {
   "cell_type": "code",
   "execution_count": 34,
   "id": "blank-plumbing",
   "metadata": {},
   "outputs": [
    {
     "data": {
      "text/html": [
       "<div>\n",
       "<style scoped>\n",
       "    .dataframe tbody tr th:only-of-type {\n",
       "        vertical-align: middle;\n",
       "    }\n",
       "\n",
       "    .dataframe tbody tr th {\n",
       "        vertical-align: top;\n",
       "    }\n",
       "\n",
       "    .dataframe thead th {\n",
       "        text-align: right;\n",
       "    }\n",
       "</style>\n",
       "<table border=\"1\" class=\"dataframe\">\n",
       "  <thead>\n",
       "    <tr style=\"text-align: right;\">\n",
       "      <th></th>\n",
       "      <th>count</th>\n",
       "      <th>mean</th>\n",
       "      <th>std</th>\n",
       "      <th>min</th>\n",
       "      <th>25%</th>\n",
       "      <th>50%</th>\n",
       "      <th>75%</th>\n",
       "      <th>max</th>\n",
       "    </tr>\n",
       "  </thead>\n",
       "  <tbody>\n",
       "    <tr>\n",
       "      <th>temp</th>\n",
       "      <td>2279.0</td>\n",
       "      <td>7.448442</td>\n",
       "      <td>2.936831</td>\n",
       "      <td>-1.0</td>\n",
       "      <td>5.0</td>\n",
       "      <td>8.0</td>\n",
       "      <td>9.0</td>\n",
       "      <td>15.0</td>\n",
       "    </tr>\n",
       "    <tr>\n",
       "      <th>temp_min</th>\n",
       "      <td>2279.0</td>\n",
       "      <td>6.660816</td>\n",
       "      <td>3.053288</td>\n",
       "      <td>-3.0</td>\n",
       "      <td>4.0</td>\n",
       "      <td>7.0</td>\n",
       "      <td>9.0</td>\n",
       "      <td>14.0</td>\n",
       "    </tr>\n",
       "    <tr>\n",
       "      <th>temp_max</th>\n",
       "      <td>2279.0</td>\n",
       "      <td>8.222027</td>\n",
       "      <td>2.802361</td>\n",
       "      <td>-1.0</td>\n",
       "      <td>6.0</td>\n",
       "      <td>8.0</td>\n",
       "      <td>10.0</td>\n",
       "      <td>16.0</td>\n",
       "    </tr>\n",
       "    <tr>\n",
       "      <th>humidity</th>\n",
       "      <td>2279.0</td>\n",
       "      <td>79.922773</td>\n",
       "      <td>10.735965</td>\n",
       "      <td>43.0</td>\n",
       "      <td>75.0</td>\n",
       "      <td>81.0</td>\n",
       "      <td>87.0</td>\n",
       "      <td>100.0</td>\n",
       "    </tr>\n",
       "  </tbody>\n",
       "</table>\n",
       "</div>"
      ],
      "text/plain": [
       "           count       mean        std   min   25%   50%   75%    max\n",
       "temp      2279.0   7.448442   2.936831  -1.0   5.0   8.0   9.0   15.0\n",
       "temp_min  2279.0   6.660816   3.053288  -3.0   4.0   7.0   9.0   14.0\n",
       "temp_max  2279.0   8.222027   2.802361  -1.0   6.0   8.0  10.0   16.0\n",
       "humidity  2279.0  79.922773  10.735965  43.0  75.0  81.0  87.0  100.0"
      ]
     },
     "execution_count": 34,
     "metadata": {},
     "output_type": "execute_result"
    }
   ],
   "source": [
    "dfweather.describe().T"
   ]
  },
  {
   "cell_type": "markdown",
   "id": "initial-fairy",
   "metadata": {},
   "source": [
    "#### Create new intervals columns which converts the datetime colums into 30 min intervals"
   ]
  },
  {
   "cell_type": "code",
   "execution_count": 35,
   "id": "popular-confusion",
   "metadata": {},
   "outputs": [
    {
     "data": {
      "text/html": [
       "<div>\n",
       "<style scoped>\n",
       "    .dataframe tbody tr th:only-of-type {\n",
       "        vertical-align: middle;\n",
       "    }\n",
       "\n",
       "    .dataframe tbody tr th {\n",
       "        vertical-align: top;\n",
       "    }\n",
       "\n",
       "    .dataframe thead th {\n",
       "        text-align: right;\n",
       "    }\n",
       "</style>\n",
       "<table border=\"1\" class=\"dataframe\">\n",
       "  <thead>\n",
       "    <tr style=\"text-align: right;\">\n",
       "      <th></th>\n",
       "      <th>StationNumber</th>\n",
       "      <th>last_update</th>\n",
       "      <th>available_bikes_stands</th>\n",
       "      <th>available_bikes</th>\n",
       "    </tr>\n",
       "  </thead>\n",
       "  <tbody>\n",
       "    <tr>\n",
       "      <th>0</th>\n",
       "      <td>2</td>\n",
       "      <td>2021-02-25 20:06:43</td>\n",
       "      <td>9</td>\n",
       "      <td>11</td>\n",
       "    </tr>\n",
       "    <tr>\n",
       "      <th>1</th>\n",
       "      <td>2</td>\n",
       "      <td>2021-02-25 20:16:51</td>\n",
       "      <td>9</td>\n",
       "      <td>11</td>\n",
       "    </tr>\n",
       "    <tr>\n",
       "      <th>2</th>\n",
       "      <td>2</td>\n",
       "      <td>2021-02-25 20:26:59</td>\n",
       "      <td>9</td>\n",
       "      <td>11</td>\n",
       "    </tr>\n",
       "    <tr>\n",
       "      <th>3</th>\n",
       "      <td>2</td>\n",
       "      <td>2021-02-25 20:37:07</td>\n",
       "      <td>9</td>\n",
       "      <td>11</td>\n",
       "    </tr>\n",
       "    <tr>\n",
       "      <th>4</th>\n",
       "      <td>2</td>\n",
       "      <td>2021-02-25 20:47:17</td>\n",
       "      <td>9</td>\n",
       "      <td>11</td>\n",
       "    </tr>\n",
       "  </tbody>\n",
       "</table>\n",
       "</div>"
      ],
      "text/plain": [
       "   StationNumber         last_update  available_bikes_stands  available_bikes\n",
       "0              2 2021-02-25 20:06:43                       9               11\n",
       "1              2 2021-02-25 20:16:51                       9               11\n",
       "2              2 2021-02-25 20:26:59                       9               11\n",
       "3              2 2021-02-25 20:37:07                       9               11\n",
       "4              2 2021-02-25 20:47:17                       9               11"
      ]
     },
     "execution_count": 35,
     "metadata": {},
     "output_type": "execute_result"
    }
   ],
   "source": [
    "dfavailability.head()"
   ]
  },
  {
   "cell_type": "code",
   "execution_count": 36,
   "id": "northern-essay",
   "metadata": {},
   "outputs": [],
   "source": [
    "dfavailability['intervals']=dfavailability['last_update'].dt.round('15min')"
   ]
  },
  {
   "cell_type": "code",
   "execution_count": 37,
   "id": "interesting-jordan",
   "metadata": {},
   "outputs": [],
   "source": [
    "dfweather['intervals']=dfweather['dt'].dt.round('15min')"
   ]
  },
  {
   "cell_type": "code",
   "execution_count": 38,
   "id": "relative-carnival",
   "metadata": {
    "scrolled": true
   },
   "outputs": [
    {
     "data": {
      "text/html": [
       "<div>\n",
       "<style scoped>\n",
       "    .dataframe tbody tr th:only-of-type {\n",
       "        vertical-align: middle;\n",
       "    }\n",
       "\n",
       "    .dataframe tbody tr th {\n",
       "        vertical-align: top;\n",
       "    }\n",
       "\n",
       "    .dataframe thead th {\n",
       "        text-align: right;\n",
       "    }\n",
       "</style>\n",
       "<table border=\"1\" class=\"dataframe\">\n",
       "  <thead>\n",
       "    <tr style=\"text-align: right;\">\n",
       "      <th></th>\n",
       "      <th>description</th>\n",
       "      <th>dt</th>\n",
       "      <th>temp</th>\n",
       "      <th>temp_min</th>\n",
       "      <th>temp_max</th>\n",
       "      <th>humidity</th>\n",
       "      <th>intervals</th>\n",
       "    </tr>\n",
       "  </thead>\n",
       "  <tbody>\n",
       "    <tr>\n",
       "      <th>0</th>\n",
       "      <td>few clouds</td>\n",
       "      <td>2021-03-05 21:23:28</td>\n",
       "      <td>-1</td>\n",
       "      <td>-3</td>\n",
       "      <td>3</td>\n",
       "      <td>86</td>\n",
       "      <td>2021-03-05 21:30:00</td>\n",
       "    </tr>\n",
       "    <tr>\n",
       "      <th>1</th>\n",
       "      <td>few clouds</td>\n",
       "      <td>2021-03-05 21:39:47</td>\n",
       "      <td>-1</td>\n",
       "      <td>-3</td>\n",
       "      <td>3</td>\n",
       "      <td>86</td>\n",
       "      <td>2021-03-05 21:45:00</td>\n",
       "    </tr>\n",
       "    <tr>\n",
       "      <th>2</th>\n",
       "      <td>few clouds</td>\n",
       "      <td>2021-03-05 21:57:39</td>\n",
       "      <td>-1</td>\n",
       "      <td>-3</td>\n",
       "      <td>3</td>\n",
       "      <td>86</td>\n",
       "      <td>2021-03-05 22:00:00</td>\n",
       "    </tr>\n",
       "    <tr>\n",
       "      <th>3</th>\n",
       "      <td>few clouds</td>\n",
       "      <td>2021-03-05 22:10:25</td>\n",
       "      <td>-1</td>\n",
       "      <td>-3</td>\n",
       "      <td>-1</td>\n",
       "      <td>86</td>\n",
       "      <td>2021-03-05 22:15:00</td>\n",
       "    </tr>\n",
       "    <tr>\n",
       "      <th>4</th>\n",
       "      <td>scattered clouds</td>\n",
       "      <td>2021-03-05 22:27:23</td>\n",
       "      <td>-1</td>\n",
       "      <td>-3</td>\n",
       "      <td>-1</td>\n",
       "      <td>86</td>\n",
       "      <td>2021-03-05 22:30:00</td>\n",
       "    </tr>\n",
       "  </tbody>\n",
       "</table>\n",
       "</div>"
      ],
      "text/plain": [
       "        description                  dt  temp  temp_min  temp_max  humidity  \\\n",
       "0        few clouds 2021-03-05 21:23:28    -1        -3         3        86   \n",
       "1        few clouds 2021-03-05 21:39:47    -1        -3         3        86   \n",
       "2        few clouds 2021-03-05 21:57:39    -1        -3         3        86   \n",
       "3        few clouds 2021-03-05 22:10:25    -1        -3        -1        86   \n",
       "4  scattered clouds 2021-03-05 22:27:23    -1        -3        -1        86   \n",
       "\n",
       "            intervals  \n",
       "0 2021-03-05 21:30:00  \n",
       "1 2021-03-05 21:45:00  \n",
       "2 2021-03-05 22:00:00  \n",
       "3 2021-03-05 22:15:00  \n",
       "4 2021-03-05 22:30:00  "
      ]
     },
     "execution_count": 38,
     "metadata": {},
     "output_type": "execute_result"
    }
   ],
   "source": [
    "dfweather.head().sort_values('dt')"
   ]
  },
  {
   "cell_type": "code",
   "execution_count": 39,
   "id": "dense-signal",
   "metadata": {
    "scrolled": true
   },
   "outputs": [
    {
     "data": {
      "text/html": [
       "<div>\n",
       "<style scoped>\n",
       "    .dataframe tbody tr th:only-of-type {\n",
       "        vertical-align: middle;\n",
       "    }\n",
       "\n",
       "    .dataframe tbody tr th {\n",
       "        vertical-align: top;\n",
       "    }\n",
       "\n",
       "    .dataframe thead th {\n",
       "        text-align: right;\n",
       "    }\n",
       "</style>\n",
       "<table border=\"1\" class=\"dataframe\">\n",
       "  <thead>\n",
       "    <tr style=\"text-align: right;\">\n",
       "      <th></th>\n",
       "      <th>StationNumber</th>\n",
       "      <th>last_update</th>\n",
       "      <th>available_bikes_stands</th>\n",
       "      <th>available_bikes</th>\n",
       "      <th>intervals</th>\n",
       "    </tr>\n",
       "  </thead>\n",
       "  <tbody>\n",
       "    <tr>\n",
       "      <th>0</th>\n",
       "      <td>2</td>\n",
       "      <td>2021-02-25 20:06:43</td>\n",
       "      <td>9</td>\n",
       "      <td>11</td>\n",
       "      <td>2021-02-25 20:00:00</td>\n",
       "    </tr>\n",
       "    <tr>\n",
       "      <th>1</th>\n",
       "      <td>2</td>\n",
       "      <td>2021-02-25 20:16:51</td>\n",
       "      <td>9</td>\n",
       "      <td>11</td>\n",
       "      <td>2021-02-25 20:15:00</td>\n",
       "    </tr>\n",
       "    <tr>\n",
       "      <th>2</th>\n",
       "      <td>2</td>\n",
       "      <td>2021-02-25 20:26:59</td>\n",
       "      <td>9</td>\n",
       "      <td>11</td>\n",
       "      <td>2021-02-25 20:30:00</td>\n",
       "    </tr>\n",
       "    <tr>\n",
       "      <th>3</th>\n",
       "      <td>2</td>\n",
       "      <td>2021-02-25 20:37:07</td>\n",
       "      <td>9</td>\n",
       "      <td>11</td>\n",
       "      <td>2021-02-25 20:30:00</td>\n",
       "    </tr>\n",
       "    <tr>\n",
       "      <th>4</th>\n",
       "      <td>2</td>\n",
       "      <td>2021-02-25 20:47:17</td>\n",
       "      <td>9</td>\n",
       "      <td>11</td>\n",
       "      <td>2021-02-25 20:45:00</td>\n",
       "    </tr>\n",
       "  </tbody>\n",
       "</table>\n",
       "</div>"
      ],
      "text/plain": [
       "   StationNumber         last_update  available_bikes_stands  available_bikes  \\\n",
       "0              2 2021-02-25 20:06:43                       9               11   \n",
       "1              2 2021-02-25 20:16:51                       9               11   \n",
       "2              2 2021-02-25 20:26:59                       9               11   \n",
       "3              2 2021-02-25 20:37:07                       9               11   \n",
       "4              2 2021-02-25 20:47:17                       9               11   \n",
       "\n",
       "            intervals  \n",
       "0 2021-02-25 20:00:00  \n",
       "1 2021-02-25 20:15:00  \n",
       "2 2021-02-25 20:30:00  \n",
       "3 2021-02-25 20:30:00  \n",
       "4 2021-02-25 20:45:00  "
      ]
     },
     "execution_count": 39,
     "metadata": {},
     "output_type": "execute_result"
    }
   ],
   "source": [
    "dfavailability.head().sort_values('last_update')"
   ]
  },
  {
   "cell_type": "markdown",
   "id": "retired-flight",
   "metadata": {},
   "source": [
    "#### Drop Initial Datetime columns as New Intervals Feature will be used to combine the Tables"
   ]
  },
  {
   "cell_type": "code",
   "execution_count": 40,
   "id": "violent-drunk",
   "metadata": {},
   "outputs": [],
   "source": [
    "mergeweather= dfweather.drop(['dt'], axis=1)"
   ]
  },
  {
   "cell_type": "code",
   "execution_count": 41,
   "id": "tested-mattress",
   "metadata": {},
   "outputs": [],
   "source": [
    "mergeavail=dfavailability.drop(['last_update'], axis=1)"
   ]
  },
  {
   "cell_type": "markdown",
   "id": "minus-protocol",
   "metadata": {},
   "source": [
    "#### Sort the Intervals Features before merge"
   ]
  },
  {
   "cell_type": "code",
   "execution_count": 42,
   "id": "developmental-scientist",
   "metadata": {},
   "outputs": [
    {
     "data": {
      "text/plain": [
       "description          category\n",
       "temp                    int64\n",
       "temp_min                int64\n",
       "temp_max                int64\n",
       "humidity                int64\n",
       "intervals      datetime64[ns]\n",
       "dtype: object"
      ]
     },
     "execution_count": 42,
     "metadata": {},
     "output_type": "execute_result"
    }
   ],
   "source": [
    "mergeavail.dtypes\n",
    "mergeweather.dtypes"
   ]
  },
  {
   "cell_type": "code",
   "execution_count": 43,
   "id": "qualified-poverty",
   "metadata": {},
   "outputs": [
    {
     "data": {
      "text/plain": [
       "description          category\n",
       "temp                    int64\n",
       "temp_min                int64\n",
       "temp_max                int64\n",
       "humidity                int64\n",
       "intervals      datetime64[ns]\n",
       "dtype: object"
      ]
     },
     "execution_count": 43,
     "metadata": {},
     "output_type": "execute_result"
    }
   ],
   "source": [
    "mergeavail.dtypes\n",
    "mergeweather.dtypes"
   ]
  },
  {
   "cell_type": "code",
   "execution_count": 44,
   "id": "centered-purpose",
   "metadata": {
    "scrolled": true
   },
   "outputs": [
    {
     "data": {
      "text/plain": [
       "StationNumber             0\n",
       "available_bikes_stands    0\n",
       "available_bikes           0\n",
       "intervals                 0\n",
       "dtype: int64"
      ]
     },
     "execution_count": 44,
     "metadata": {},
     "output_type": "execute_result"
    }
   ],
   "source": [
    "mergeavail=mergeavail.sort_values('intervals')\n",
    "mergeavail.isnull().sum()"
   ]
  },
  {
   "cell_type": "code",
   "execution_count": 45,
   "id": "creative-motor",
   "metadata": {
    "scrolled": true
   },
   "outputs": [
    {
     "data": {
      "text/plain": [
       "description    0\n",
       "temp           0\n",
       "temp_min       0\n",
       "temp_max       0\n",
       "humidity       0\n",
       "intervals      0\n",
       "dtype: int64"
      ]
     },
     "execution_count": 45,
     "metadata": {},
     "output_type": "execute_result"
    }
   ],
   "source": [
    "mergeweather=mergeweather.sort_values('intervals')\n",
    "mergeweather.isnull().sum()"
   ]
  },
  {
   "cell_type": "code",
   "execution_count": 46,
   "id": "desperate-williams",
   "metadata": {},
   "outputs": [],
   "source": [
    "BothMerge=pd.merge( mergeavail, mergeweather,how='inner', on='intervals')\n",
    "# FinalMerge=pd.merge_asof(mergeweather, mergeavail, on='intervals')\n",
    "# FinalMerge = mergeavail.merge(mergeweather, on='intervals')"
   ]
  },
  {
   "cell_type": "code",
   "execution_count": 47,
   "id": "central-philip",
   "metadata": {
    "scrolled": true
   },
   "outputs": [
    {
     "data": {
      "text/plain": [
       "StationNumber                      int64\n",
       "available_bikes_stands             int64\n",
       "available_bikes                    int64\n",
       "intervals                 datetime64[ns]\n",
       "description                     category\n",
       "temp                               int64\n",
       "temp_min                           int64\n",
       "temp_max                           int64\n",
       "humidity                           int64\n",
       "dtype: object"
      ]
     },
     "execution_count": 47,
     "metadata": {},
     "output_type": "execute_result"
    }
   ],
   "source": [
    "BothMerge.dtypes"
   ]
  },
  {
   "cell_type": "code",
   "execution_count": 48,
   "id": "honey-clause",
   "metadata": {},
   "outputs": [
    {
     "data": {
      "text/plain": [
       "StationNumber             0.0\n",
       "available_bikes_stands    0.0\n",
       "available_bikes           0.0\n",
       "intervals                 0.0\n",
       "description               0.0\n",
       "temp                      0.0\n",
       "temp_min                  0.0\n",
       "temp_max                  0.0\n",
       "humidity                  0.0\n",
       "dtype: float64"
      ]
     },
     "execution_count": 48,
     "metadata": {},
     "output_type": "execute_result"
    }
   ],
   "source": [
    "BothMerge.isnull().sum().sort_values(ascending=False)/len(BothMerge)*100"
   ]
  },
  {
   "cell_type": "code",
   "execution_count": 49,
   "id": "sonic-cuisine",
   "metadata": {},
   "outputs": [
    {
     "name": "stdout",
     "output_type": "stream",
     "text": [
      "Number of duplicate (excluding first) rows in the table is:  106266\n",
      "Number of duplicate rows (including first) in the table is: 210713\n"
     ]
    }
   ],
   "source": [
    "#Print the number of duplicates, without the original rows that were duplicated\n",
    "print('Number of duplicate (excluding first) rows in the table is: ', BothMerge.duplicated().sum())\n",
    "\n",
    "# Check for duplicate rows. \n",
    "# Use \"keep=False\" to mark all duplicates as true, including the original rows that were duplicated.\n",
    "print('Number of duplicate rows (including first) in the table is:', BothMerge[BothMerge.duplicated(keep=False)].shape[0])"
   ]
  },
  {
   "cell_type": "code",
   "execution_count": 50,
   "id": "continent-niger",
   "metadata": {},
   "outputs": [],
   "source": [
    "FinalMerge=BothMerge[~BothMerge.duplicated()]"
   ]
  },
  {
   "cell_type": "code",
   "execution_count": 51,
   "id": "elder-rough",
   "metadata": {},
   "outputs": [
    {
     "data": {
      "text/plain": [
       "(295906, 9)"
      ]
     },
     "execution_count": 51,
     "metadata": {},
     "output_type": "execute_result"
    }
   ],
   "source": [
    "FinalMerge.shape"
   ]
  },
  {
   "cell_type": "markdown",
   "id": "diverse-conviction",
   "metadata": {},
   "source": [
    "#### Create a Day Feature from the new merged table so that it is used for the model"
   ]
  },
  {
   "cell_type": "code",
   "execution_count": 52,
   "id": "collaborative-treat",
   "metadata": {},
   "outputs": [],
   "source": [
    "FinalMerge['Day']=FinalMerge['intervals'].dt.day_name()"
   ]
  },
  {
   "cell_type": "code",
   "execution_count": 53,
   "id": "identified-machine",
   "metadata": {},
   "outputs": [],
   "source": [
    "FinalMerge['Hour']=FinalMerge['intervals'].dt.hour"
   ]
  },
  {
   "cell_type": "code",
   "execution_count": 54,
   "id": "bridal-texture",
   "metadata": {},
   "outputs": [],
   "source": [
    "choices=['Morning', 'Afternoon', 'Evening']\n",
    "conditions=[(FinalMerge['Hour'] > 6) & (FinalMerge['Hour'] < 12), (FinalMerge['Hour'] >= 12) & (FinalMerge['Hour'] < 16),(FinalMerge['Hour'] >= 16) & (FinalMerge['Hour'] < 23)]"
   ]
  },
  {
   "cell_type": "code",
   "execution_count": 55,
   "id": "qualified-batch",
   "metadata": {},
   "outputs": [],
   "source": [
    "FinalMerge['TimeOfDay']= np.select(conditions, choices, default='Night')"
   ]
  },
  {
   "cell_type": "code",
   "execution_count": 61,
   "id": "separate-albuquerque",
   "metadata": {},
   "outputs": [
    {
     "data": {
      "text/html": [
       "<div>\n",
       "<style scoped>\n",
       "    .dataframe tbody tr th:only-of-type {\n",
       "        vertical-align: middle;\n",
       "    }\n",
       "\n",
       "    .dataframe tbody tr th {\n",
       "        vertical-align: top;\n",
       "    }\n",
       "\n",
       "    .dataframe thead th {\n",
       "        text-align: right;\n",
       "    }\n",
       "</style>\n",
       "<table border=\"1\" class=\"dataframe\">\n",
       "  <thead>\n",
       "    <tr style=\"text-align: right;\">\n",
       "      <th></th>\n",
       "      <th>StationNumber</th>\n",
       "      <th>available_bikes_stands</th>\n",
       "      <th>available_bikes</th>\n",
       "      <th>intervals</th>\n",
       "      <th>description</th>\n",
       "      <th>temp</th>\n",
       "      <th>temp_min</th>\n",
       "      <th>temp_max</th>\n",
       "      <th>humidity</th>\n",
       "      <th>Day</th>\n",
       "      <th>Hour</th>\n",
       "      <th>TimeOfDay</th>\n",
       "    </tr>\n",
       "  </thead>\n",
       "  <tbody>\n",
       "    <tr>\n",
       "      <th>0</th>\n",
       "      <td>107</td>\n",
       "      <td>24</td>\n",
       "      <td>16</td>\n",
       "      <td>2021-03-02 15:30:00</td>\n",
       "      <td>mist</td>\n",
       "      <td>7</td>\n",
       "      <td>6</td>\n",
       "      <td>7</td>\n",
       "      <td>81</td>\n",
       "      <td>Tuesday</td>\n",
       "      <td>15</td>\n",
       "      <td>Afternoon</td>\n",
       "    </tr>\n",
       "    <tr>\n",
       "      <th>1</th>\n",
       "      <td>19</td>\n",
       "      <td>19</td>\n",
       "      <td>11</td>\n",
       "      <td>2021-03-02 15:30:00</td>\n",
       "      <td>mist</td>\n",
       "      <td>7</td>\n",
       "      <td>6</td>\n",
       "      <td>7</td>\n",
       "      <td>81</td>\n",
       "      <td>Tuesday</td>\n",
       "      <td>15</td>\n",
       "      <td>Afternoon</td>\n",
       "    </tr>\n",
       "    <tr>\n",
       "      <th>2</th>\n",
       "      <td>6</td>\n",
       "      <td>19</td>\n",
       "      <td>1</td>\n",
       "      <td>2021-03-02 15:30:00</td>\n",
       "      <td>mist</td>\n",
       "      <td>7</td>\n",
       "      <td>6</td>\n",
       "      <td>7</td>\n",
       "      <td>81</td>\n",
       "      <td>Tuesday</td>\n",
       "      <td>15</td>\n",
       "      <td>Afternoon</td>\n",
       "    </tr>\n",
       "    <tr>\n",
       "      <th>3</th>\n",
       "      <td>72</td>\n",
       "      <td>18</td>\n",
       "      <td>13</td>\n",
       "      <td>2021-03-02 15:30:00</td>\n",
       "      <td>mist</td>\n",
       "      <td>7</td>\n",
       "      <td>6</td>\n",
       "      <td>7</td>\n",
       "      <td>81</td>\n",
       "      <td>Tuesday</td>\n",
       "      <td>15</td>\n",
       "      <td>Afternoon</td>\n",
       "    </tr>\n",
       "    <tr>\n",
       "      <th>5</th>\n",
       "      <td>41</td>\n",
       "      <td>12</td>\n",
       "      <td>8</td>\n",
       "      <td>2021-03-02 15:30:00</td>\n",
       "      <td>mist</td>\n",
       "      <td>7</td>\n",
       "      <td>6</td>\n",
       "      <td>7</td>\n",
       "      <td>81</td>\n",
       "      <td>Tuesday</td>\n",
       "      <td>15</td>\n",
       "      <td>Afternoon</td>\n",
       "    </tr>\n",
       "  </tbody>\n",
       "</table>\n",
       "</div>"
      ],
      "text/plain": [
       "   StationNumber  available_bikes_stands  available_bikes           intervals  \\\n",
       "0            107                      24               16 2021-03-02 15:30:00   \n",
       "1             19                      19               11 2021-03-02 15:30:00   \n",
       "2              6                      19                1 2021-03-02 15:30:00   \n",
       "3             72                      18               13 2021-03-02 15:30:00   \n",
       "5             41                      12                8 2021-03-02 15:30:00   \n",
       "\n",
       "  description  temp  temp_min  temp_max  humidity      Day  Hour  TimeOfDay  \n",
       "0        mist     7         6         7        81  Tuesday    15  Afternoon  \n",
       "1        mist     7         6         7        81  Tuesday    15  Afternoon  \n",
       "2        mist     7         6         7        81  Tuesday    15  Afternoon  \n",
       "3        mist     7         6         7        81  Tuesday    15  Afternoon  \n",
       "5        mist     7         6         7        81  Tuesday    15  Afternoon  "
      ]
     },
     "execution_count": 61,
     "metadata": {},
     "output_type": "execute_result"
    }
   ],
   "source": [
    "FinalMerge.head()"
   ]
  },
  {
   "cell_type": "code",
   "execution_count": 62,
   "id": "checked-formula",
   "metadata": {
    "scrolled": false
   },
   "outputs": [
    {
     "data": {
      "text/plain": [
       "StationNumber              109\n",
       "available_bikes_stands      41\n",
       "available_bikes             41\n",
       "intervals                 2260\n",
       "description                 10\n",
       "temp                        17\n",
       "temp_min                    18\n",
       "temp_max                    18\n",
       "humidity                    29\n",
       "Day                          7\n",
       "Hour                        24\n",
       "TimeOfDay                    4\n",
       "dtype: int64"
      ]
     },
     "execution_count": 62,
     "metadata": {},
     "output_type": "execute_result"
    }
   ],
   "source": [
    "FinalMerge.nunique()"
   ]
  },
  {
   "cell_type": "markdown",
   "id": "matched-extra",
   "metadata": {},
   "source": [
    "#### 2 models will be created, one for Available Bikes and one for available bike stands - create 2 copies of merged df"
   ]
  },
  {
   "cell_type": "code",
   "execution_count": 65,
   "id": "electoral-dominant",
   "metadata": {},
   "outputs": [],
   "source": [
    "availableBikes=FinalMerge.drop(['intervals', 'Hour'], axis=1)\n",
    "availableStands=FinalMerge.drop(['intervals', 'Hour'], axis=1)"
   ]
  },
  {
   "cell_type": "code",
   "execution_count": 66,
   "id": "settled-concern",
   "metadata": {},
   "outputs": [],
   "source": [
    "availableBikes.to_csv('availbikes.csv', index=False)\n",
    "availableStands.to_csv('availstands.csv', index=False)"
   ]
  },
  {
   "cell_type": "code",
   "execution_count": null,
   "id": "innovative-dallas",
   "metadata": {},
   "outputs": [],
   "source": []
  }
 ],
 "metadata": {
  "kernelspec": {
   "display_name": "Python 3",
   "language": "python",
   "name": "python3"
  },
  "language_info": {
   "codemirror_mode": {
    "name": "ipython",
    "version": 3
   },
   "file_extension": ".py",
   "mimetype": "text/x-python",
   "name": "python",
   "nbconvert_exporter": "python",
   "pygments_lexer": "ipython3",
   "version": "3.9.1"
  }
 },
 "nbformat": 4,
 "nbformat_minor": 5
}
