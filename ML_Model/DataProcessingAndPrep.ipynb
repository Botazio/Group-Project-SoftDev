{
 "cells": [
  {
   "cell_type": "markdown",
   "id": "adaptive-transparency",
   "metadata": {},
   "source": [
    "# Machine Learning Model for Available Bikes and Bikes Stands"
   ]
  },
  {
   "cell_type": "markdown",
   "id": "official-delay",
   "metadata": {},
   "source": [
    "## Contents"
   ]
  },
  {
   "cell_type": "markdown",
   "id": "fossil-template",
   "metadata": {},
   "source": [
    "* [1. Data Processing](#data_pros) \n",
    "* [2. Machine Learning Model Implementation](#mlm) "
   ]
  },
  {
   "cell_type": "code",
   "execution_count": 1,
   "id": "retained-walker",
   "metadata": {},
   "outputs": [],
   "source": [
    "#import modules needed\n",
    "import pandas as pd\n",
    "import numpy as np\n",
    "from datetime import datetime, timedelta, date\n",
    "from sklearn import preprocessing\n",
    "from sklearn.ensemble import RandomForestClassifier\n",
    "from sklearn.model_selection import train_test_split\n",
    "from sklearn.model_selection import cross_val_score\n",
    "from sklearn import metrics\n",
    "from sklearn.model_selection import GridSearchCV\n",
    "# hide ipykernel warnings \n",
    "import warnings\n",
    "warnings.filterwarnings('ignore')"
   ]
  },
  {
   "cell_type": "markdown",
   "id": "biblical-simpson",
   "metadata": {},
   "source": [
    "## 1. Data Processing <a class=\"anchor\" id=\"data_pros\"></a>"
   ]
  },
  {
   "cell_type": "markdown",
   "id": "liberal-society",
   "metadata": {},
   "source": [
    "#### Read in the tables"
   ]
  },
  {
   "cell_type": "code",
   "execution_count": 2,
   "id": "detected-watson",
   "metadata": {},
   "outputs": [],
   "source": [
    "#read in weather table\n",
    "dfweather = pd.read_csv('weather_table.csv', sep=',\\s+', delimiter=',', skipinitialspace=True)"
   ]
  },
  {
   "cell_type": "code",
   "execution_count": 3,
   "id": "seventh-kruger",
   "metadata": {},
   "outputs": [],
   "source": [
    "#read in availability table\n",
    "dfavailability = pd.read_csv('av_table.csv', sep=',\\s+', delimiter=',', skipinitialspace=True)"
   ]
  },
  {
   "cell_type": "markdown",
   "id": "conservative-october",
   "metadata": {},
   "source": [
    "#### Check the number of columns and rows in the tables"
   ]
  },
  {
   "cell_type": "code",
   "execution_count": 4,
   "id": "royal-bridge",
   "metadata": {},
   "outputs": [
    {
     "data": {
      "text/plain": [
       "(1916, 7)"
      ]
     },
     "execution_count": 4,
     "metadata": {},
     "output_type": "execute_result"
    }
   ],
   "source": [
    "dfweather.shape"
   ]
  },
  {
   "cell_type": "code",
   "execution_count": 5,
   "id": "consistent-audience",
   "metadata": {},
   "outputs": [
    {
     "data": {
      "text/plain": [
       "(50000, 4)"
      ]
     },
     "execution_count": 5,
     "metadata": {},
     "output_type": "execute_result"
    }
   ],
   "source": [
    "dfavailability.shape"
   ]
  },
  {
   "cell_type": "markdown",
   "id": "developed-arrangement",
   "metadata": {},
   "source": [
    "#### View the tables"
   ]
  },
  {
   "cell_type": "code",
   "execution_count": 6,
   "id": "brave-treasury",
   "metadata": {
    "scrolled": true
   },
   "outputs": [
    {
     "data": {
      "text/html": [
       "<div>\n",
       "<style scoped>\n",
       "    .dataframe tbody tr th:only-of-type {\n",
       "        vertical-align: middle;\n",
       "    }\n",
       "\n",
       "    .dataframe tbody tr th {\n",
       "        vertical-align: top;\n",
       "    }\n",
       "\n",
       "    .dataframe thead th {\n",
       "        text-align: right;\n",
       "    }\n",
       "</style>\n",
       "<table border=\"1\" class=\"dataframe\">\n",
       "  <thead>\n",
       "    <tr style=\"text-align: right;\">\n",
       "      <th></th>\n",
       "      <th>description</th>\n",
       "      <th>icon</th>\n",
       "      <th>temp</th>\n",
       "      <th>temp_min</th>\n",
       "      <th>temp_max</th>\n",
       "      <th>humidity</th>\n",
       "      <th>dt</th>\n",
       "    </tr>\n",
       "  </thead>\n",
       "  <tbody>\n",
       "    <tr>\n",
       "      <th>0</th>\n",
       "      <td>broken clouds</td>\n",
       "      <td>04d</td>\n",
       "      <td>9</td>\n",
       "      <td>9</td>\n",
       "      <td>10</td>\n",
       "      <td>66</td>\n",
       "      <td>2021-03-22 14:32:26</td>\n",
       "    </tr>\n",
       "    <tr>\n",
       "      <th>1</th>\n",
       "      <td>broken clouds</td>\n",
       "      <td>04d</td>\n",
       "      <td>9</td>\n",
       "      <td>8</td>\n",
       "      <td>9</td>\n",
       "      <td>76</td>\n",
       "      <td>2021-03-22 14:14:56</td>\n",
       "    </tr>\n",
       "    <tr>\n",
       "      <th>2</th>\n",
       "      <td>broken clouds</td>\n",
       "      <td>04d</td>\n",
       "      <td>9</td>\n",
       "      <td>8</td>\n",
       "      <td>9</td>\n",
       "      <td>76</td>\n",
       "      <td>2021-03-22 14:00:25</td>\n",
       "    </tr>\n",
       "    <tr>\n",
       "      <th>3</th>\n",
       "      <td>broken clouds</td>\n",
       "      <td>04d</td>\n",
       "      <td>9</td>\n",
       "      <td>8</td>\n",
       "      <td>9</td>\n",
       "      <td>76</td>\n",
       "      <td>2021-03-22 13:43:53</td>\n",
       "    </tr>\n",
       "    <tr>\n",
       "      <th>4</th>\n",
       "      <td>broken clouds</td>\n",
       "      <td>04d</td>\n",
       "      <td>9</td>\n",
       "      <td>8</td>\n",
       "      <td>9</td>\n",
       "      <td>76</td>\n",
       "      <td>2021-03-22 13:27:37</td>\n",
       "    </tr>\n",
       "  </tbody>\n",
       "</table>\n",
       "</div>"
      ],
      "text/plain": [
       "     description icon  temp  temp_min  temp_max  humidity                   dt\n",
       "0  broken clouds  04d     9         9        10        66  2021-03-22 14:32:26\n",
       "1  broken clouds  04d     9         8         9        76  2021-03-22 14:14:56\n",
       "2  broken clouds  04d     9         8         9        76  2021-03-22 14:00:25\n",
       "3  broken clouds  04d     9         8         9        76  2021-03-22 13:43:53\n",
       "4  broken clouds  04d     9         8         9        76  2021-03-22 13:27:37"
      ]
     },
     "execution_count": 6,
     "metadata": {},
     "output_type": "execute_result"
    }
   ],
   "source": [
    "dfweather.head()"
   ]
  },
  {
   "cell_type": "code",
   "execution_count": 7,
   "id": "advised-tampa",
   "metadata": {
    "scrolled": true
   },
   "outputs": [
    {
     "data": {
      "text/html": [
       "<div>\n",
       "<style scoped>\n",
       "    .dataframe tbody tr th:only-of-type {\n",
       "        vertical-align: middle;\n",
       "    }\n",
       "\n",
       "    .dataframe tbody tr th {\n",
       "        vertical-align: top;\n",
       "    }\n",
       "\n",
       "    .dataframe thead th {\n",
       "        text-align: right;\n",
       "    }\n",
       "</style>\n",
       "<table border=\"1\" class=\"dataframe\">\n",
       "  <thead>\n",
       "    <tr style=\"text-align: right;\">\n",
       "      <th></th>\n",
       "      <th>number</th>\n",
       "      <th>available_bikes</th>\n",
       "      <th>available_bikes_stands</th>\n",
       "      <th>last_update</th>\n",
       "    </tr>\n",
       "  </thead>\n",
       "  <tbody>\n",
       "    <tr>\n",
       "      <th>0</th>\n",
       "      <td>47</td>\n",
       "      <td>6</td>\n",
       "      <td>34</td>\n",
       "      <td>2021-03-22 13:59:38</td>\n",
       "    </tr>\n",
       "    <tr>\n",
       "      <th>1</th>\n",
       "      <td>21</td>\n",
       "      <td>16</td>\n",
       "      <td>14</td>\n",
       "      <td>2021-03-22 13:59:38</td>\n",
       "    </tr>\n",
       "    <tr>\n",
       "      <th>2</th>\n",
       "      <td>54</td>\n",
       "      <td>12</td>\n",
       "      <td>21</td>\n",
       "      <td>2021-03-22 13:59:32</td>\n",
       "    </tr>\n",
       "    <tr>\n",
       "      <th>3</th>\n",
       "      <td>109</td>\n",
       "      <td>11</td>\n",
       "      <td>18</td>\n",
       "      <td>2021-03-22 13:59:31</td>\n",
       "    </tr>\n",
       "    <tr>\n",
       "      <th>4</th>\n",
       "      <td>84</td>\n",
       "      <td>19</td>\n",
       "      <td>11</td>\n",
       "      <td>2021-03-22 13:59:25</td>\n",
       "    </tr>\n",
       "  </tbody>\n",
       "</table>\n",
       "</div>"
      ],
      "text/plain": [
       "   number  available_bikes  available_bikes_stands          last_update\n",
       "0      47                6                      34  2021-03-22 13:59:38\n",
       "1      21               16                      14  2021-03-22 13:59:38\n",
       "2      54               12                      21  2021-03-22 13:59:32\n",
       "3     109               11                      18  2021-03-22 13:59:31\n",
       "4      84               19                      11  2021-03-22 13:59:25"
      ]
     },
     "execution_count": 7,
     "metadata": {},
     "output_type": "execute_result"
    }
   ],
   "source": [
    "dfavailability.head()"
   ]
  },
  {
   "cell_type": "code",
   "execution_count": 8,
   "id": "checked-continent",
   "metadata": {},
   "outputs": [],
   "source": [
    "dfavailability.rename(columns = {'number':'StationNumber'}, inplace = True)"
   ]
  },
  {
   "cell_type": "markdown",
   "id": "adverse-emergency",
   "metadata": {},
   "source": [
    "#### Check Feature types and change into appropriate types if needed "
   ]
  },
  {
   "cell_type": "code",
   "execution_count": 9,
   "id": "potential-museum",
   "metadata": {
    "scrolled": true
   },
   "outputs": [
    {
     "data": {
      "text/plain": [
       "StationNumber              int64\n",
       "available_bikes            int64\n",
       "available_bikes_stands     int64\n",
       "last_update               object\n",
       "dtype: object"
      ]
     },
     "execution_count": 9,
     "metadata": {},
     "output_type": "execute_result"
    }
   ],
   "source": [
    "dfavailability.dtypes"
   ]
  },
  {
   "cell_type": "code",
   "execution_count": 10,
   "id": "important-africa",
   "metadata": {},
   "outputs": [],
   "source": [
    "dfavailability['last_update']=dfavailability['last_update'].apply(pd.to_datetime, format='%Y/%m/%d')"
   ]
  },
  {
   "cell_type": "code",
   "execution_count": 11,
   "id": "civil-token",
   "metadata": {},
   "outputs": [
    {
     "data": {
      "text/plain": [
       "StationNumber                      int64\n",
       "available_bikes                    int64\n",
       "available_bikes_stands             int64\n",
       "last_update               datetime64[ns]\n",
       "dtype: object"
      ]
     },
     "execution_count": 11,
     "metadata": {},
     "output_type": "execute_result"
    }
   ],
   "source": [
    "dfavailability.dtypes"
   ]
  },
  {
   "cell_type": "code",
   "execution_count": 12,
   "id": "broadband-moment",
   "metadata": {},
   "outputs": [
    {
     "data": {
      "text/plain": [
       "description    object\n",
       "icon           object\n",
       "temp            int64\n",
       "temp_min        int64\n",
       "temp_max        int64\n",
       "humidity        int64\n",
       "dt             object\n",
       "dtype: object"
      ]
     },
     "execution_count": 12,
     "metadata": {},
     "output_type": "execute_result"
    }
   ],
   "source": [
    "dfweather.dtypes"
   ]
  },
  {
   "cell_type": "code",
   "execution_count": 13,
   "id": "judicial-heading",
   "metadata": {},
   "outputs": [],
   "source": [
    "dfweather['dt']=dfweather['dt'].apply(pd.to_datetime, format='%Y/%m/%d')\n"
   ]
  },
  {
   "cell_type": "code",
   "execution_count": 14,
   "id": "rough-master",
   "metadata": {},
   "outputs": [],
   "source": [
    "dfweather['description'] = dfweather['description'].astype('category')"
   ]
  },
  {
   "cell_type": "code",
   "execution_count": 15,
   "id": "caroline-creator",
   "metadata": {},
   "outputs": [],
   "source": [
    "#do not need icon for model \n",
    "dfweather =dfweather.drop(['icon'], axis=1)"
   ]
  },
  {
   "cell_type": "code",
   "execution_count": 16,
   "id": "solid-musician",
   "metadata": {},
   "outputs": [
    {
     "data": {
      "text/plain": [
       "description          category\n",
       "temp                    int64\n",
       "temp_min                int64\n",
       "temp_max                int64\n",
       "humidity                int64\n",
       "dt             datetime64[ns]\n",
       "dtype: object"
      ]
     },
     "execution_count": 16,
     "metadata": {},
     "output_type": "execute_result"
    }
   ],
   "source": [
    "dfweather.dtypes"
   ]
  },
  {
   "cell_type": "markdown",
   "id": "decent-fence",
   "metadata": {},
   "source": [
    "#### Check for Missing Data \n",
    "-Result: None"
   ]
  },
  {
   "cell_type": "code",
   "execution_count": 17,
   "id": "signal-scheduling",
   "metadata": {
    "scrolled": true
   },
   "outputs": [
    {
     "data": {
      "text/plain": [
       "description    0.0\n",
       "temp           0.0\n",
       "temp_min       0.0\n",
       "temp_max       0.0\n",
       "humidity       0.0\n",
       "dt             0.0\n",
       "dtype: float64"
      ]
     },
     "execution_count": 17,
     "metadata": {},
     "output_type": "execute_result"
    }
   ],
   "source": [
    "dfweather.isnull().sum().sort_values(ascending=False)/len(dfweather)*100"
   ]
  },
  {
   "cell_type": "code",
   "execution_count": 18,
   "id": "tribal-fighter",
   "metadata": {},
   "outputs": [
    {
     "data": {
      "text/plain": [
       "StationNumber             0.0\n",
       "available_bikes           0.0\n",
       "available_bikes_stands    0.0\n",
       "last_update               0.0\n",
       "dtype: float64"
      ]
     },
     "execution_count": 18,
     "metadata": {},
     "output_type": "execute_result"
    }
   ],
   "source": [
    "dfavailability.isnull().sum().sort_values(ascending=False)/len(dfavailability)*100"
   ]
  },
  {
   "cell_type": "markdown",
   "id": "outside-conducting",
   "metadata": {},
   "source": [
    "#### Check for Duplicate Columns/Rows\n",
    "\n",
    "-Result: None, will further evaluate below"
   ]
  },
  {
   "cell_type": "code",
   "execution_count": 19,
   "id": "detailed-dating",
   "metadata": {},
   "outputs": [
    {
     "name": "stdout",
     "output_type": "stream",
     "text": [
      "Number of duplicate (excluding first) rows in the table is:  0\n",
      "Number of duplicate rows (including first) in the table is: 0\n"
     ]
    }
   ],
   "source": [
    "#Print the number of duplicates, without the original rows that were duplicated\n",
    "print('Number of duplicate (excluding first) rows in the table is: ', dfweather.duplicated().sum())\n",
    "\n",
    "# Check for duplicate rows. \n",
    "# Use \"keep=False\" to mark all duplicates as true, including the original rows that were duplicated.\n",
    "print('Number of duplicate rows (including first) in the table is:', dfweather[dfweather.duplicated(keep=False)].shape[0])"
   ]
  },
  {
   "cell_type": "code",
   "execution_count": 20,
   "id": "personal-library",
   "metadata": {},
   "outputs": [
    {
     "name": "stdout",
     "output_type": "stream",
     "text": [
      "Number of duplicate (excluding first) rows in the table is:  0\n",
      "Number of duplicate rows (including first) in the table is: 0\n"
     ]
    }
   ],
   "source": [
    "#Print the number of duplicates, without the original rows that were duplicated\n",
    "print('Number of duplicate (excluding first) rows in the table is: ', dfavailability.duplicated().sum())\n",
    "\n",
    "# Check for duplicate rows. \n",
    "# Use \"keep=False\" to mark all duplicates as true, including the original rows that were duplicated.\n",
    "print('Number of duplicate rows (including first) in the table is:', dfavailability[dfavailability.duplicated(keep=False)].shape[0])"
   ]
  },
  {
   "cell_type": "markdown",
   "id": "thorough-guitar",
   "metadata": {},
   "source": [
    "### Descriptive Stats for Both tables - checking for constant columns\n",
    "\n",
    "- Results: std >0 - no constant columns"
   ]
  },
  {
   "cell_type": "code",
   "execution_count": 21,
   "id": "laughing-mirror",
   "metadata": {
    "scrolled": false
   },
   "outputs": [
    {
     "data": {
      "text/html": [
       "<div>\n",
       "<style scoped>\n",
       "    .dataframe tbody tr th:only-of-type {\n",
       "        vertical-align: middle;\n",
       "    }\n",
       "\n",
       "    .dataframe tbody tr th {\n",
       "        vertical-align: top;\n",
       "    }\n",
       "\n",
       "    .dataframe thead th {\n",
       "        text-align: right;\n",
       "    }\n",
       "</style>\n",
       "<table border=\"1\" class=\"dataframe\">\n",
       "  <thead>\n",
       "    <tr style=\"text-align: right;\">\n",
       "      <th></th>\n",
       "      <th>count</th>\n",
       "      <th>mean</th>\n",
       "      <th>std</th>\n",
       "      <th>min</th>\n",
       "      <th>25%</th>\n",
       "      <th>50%</th>\n",
       "      <th>75%</th>\n",
       "      <th>max</th>\n",
       "    </tr>\n",
       "  </thead>\n",
       "  <tbody>\n",
       "    <tr>\n",
       "      <th>StationNumber</th>\n",
       "      <td>50000.0</td>\n",
       "      <td>59.96366</td>\n",
       "      <td>33.745736</td>\n",
       "      <td>2.0</td>\n",
       "      <td>31.0</td>\n",
       "      <td>60.0</td>\n",
       "      <td>90.0</td>\n",
       "      <td>117.0</td>\n",
       "    </tr>\n",
       "    <tr>\n",
       "      <th>available_bikes</th>\n",
       "      <td>50000.0</td>\n",
       "      <td>11.25690</td>\n",
       "      <td>7.596840</td>\n",
       "      <td>0.0</td>\n",
       "      <td>5.0</td>\n",
       "      <td>11.0</td>\n",
       "      <td>16.0</td>\n",
       "      <td>40.0</td>\n",
       "    </tr>\n",
       "    <tr>\n",
       "      <th>available_bikes_stands</th>\n",
       "      <td>50000.0</td>\n",
       "      <td>20.81686</td>\n",
       "      <td>9.774298</td>\n",
       "      <td>0.0</td>\n",
       "      <td>14.0</td>\n",
       "      <td>20.0</td>\n",
       "      <td>28.0</td>\n",
       "      <td>40.0</td>\n",
       "    </tr>\n",
       "  </tbody>\n",
       "</table>\n",
       "</div>"
      ],
      "text/plain": [
       "                          count      mean        std  min   25%   50%   75%  \\\n",
       "StationNumber           50000.0  59.96366  33.745736  2.0  31.0  60.0  90.0   \n",
       "available_bikes         50000.0  11.25690   7.596840  0.0   5.0  11.0  16.0   \n",
       "available_bikes_stands  50000.0  20.81686   9.774298  0.0  14.0  20.0  28.0   \n",
       "\n",
       "                          max  \n",
       "StationNumber           117.0  \n",
       "available_bikes          40.0  \n",
       "available_bikes_stands   40.0  "
      ]
     },
     "execution_count": 21,
     "metadata": {},
     "output_type": "execute_result"
    }
   ],
   "source": [
    "dfavailability.describe().T"
   ]
  },
  {
   "cell_type": "code",
   "execution_count": 22,
   "id": "political-product",
   "metadata": {},
   "outputs": [
    {
     "data": {
      "text/html": [
       "<div>\n",
       "<style scoped>\n",
       "    .dataframe tbody tr th:only-of-type {\n",
       "        vertical-align: middle;\n",
       "    }\n",
       "\n",
       "    .dataframe tbody tr th {\n",
       "        vertical-align: top;\n",
       "    }\n",
       "\n",
       "    .dataframe thead th {\n",
       "        text-align: right;\n",
       "    }\n",
       "</style>\n",
       "<table border=\"1\" class=\"dataframe\">\n",
       "  <thead>\n",
       "    <tr style=\"text-align: right;\">\n",
       "      <th></th>\n",
       "      <th>count</th>\n",
       "      <th>mean</th>\n",
       "      <th>std</th>\n",
       "      <th>min</th>\n",
       "      <th>25%</th>\n",
       "      <th>50%</th>\n",
       "      <th>75%</th>\n",
       "      <th>max</th>\n",
       "    </tr>\n",
       "  </thead>\n",
       "  <tbody>\n",
       "    <tr>\n",
       "      <th>temp</th>\n",
       "      <td>1916.0</td>\n",
       "      <td>7.202505</td>\n",
       "      <td>3.013930</td>\n",
       "      <td>-1.0</td>\n",
       "      <td>5.0</td>\n",
       "      <td>7.0</td>\n",
       "      <td>9.0</td>\n",
       "      <td>15.0</td>\n",
       "    </tr>\n",
       "    <tr>\n",
       "      <th>temp_min</th>\n",
       "      <td>1916.0</td>\n",
       "      <td>6.412317</td>\n",
       "      <td>3.139096</td>\n",
       "      <td>-3.0</td>\n",
       "      <td>4.0</td>\n",
       "      <td>7.0</td>\n",
       "      <td>9.0</td>\n",
       "      <td>14.0</td>\n",
       "    </tr>\n",
       "    <tr>\n",
       "      <th>temp_max</th>\n",
       "      <td>1916.0</td>\n",
       "      <td>8.014092</td>\n",
       "      <td>2.882795</td>\n",
       "      <td>-1.0</td>\n",
       "      <td>6.0</td>\n",
       "      <td>8.0</td>\n",
       "      <td>10.0</td>\n",
       "      <td>16.0</td>\n",
       "    </tr>\n",
       "    <tr>\n",
       "      <th>humidity</th>\n",
       "      <td>1916.0</td>\n",
       "      <td>80.850731</td>\n",
       "      <td>10.914654</td>\n",
       "      <td>43.0</td>\n",
       "      <td>75.0</td>\n",
       "      <td>82.0</td>\n",
       "      <td>87.0</td>\n",
       "      <td>100.0</td>\n",
       "    </tr>\n",
       "  </tbody>\n",
       "</table>\n",
       "</div>"
      ],
      "text/plain": [
       "           count       mean        std   min   25%   50%   75%    max\n",
       "temp      1916.0   7.202505   3.013930  -1.0   5.0   7.0   9.0   15.0\n",
       "temp_min  1916.0   6.412317   3.139096  -3.0   4.0   7.0   9.0   14.0\n",
       "temp_max  1916.0   8.014092   2.882795  -1.0   6.0   8.0  10.0   16.0\n",
       "humidity  1916.0  80.850731  10.914654  43.0  75.0  82.0  87.0  100.0"
      ]
     },
     "execution_count": 22,
     "metadata": {},
     "output_type": "execute_result"
    }
   ],
   "source": [
    "dfweather.describe().T"
   ]
  },
  {
   "cell_type": "markdown",
   "id": "relative-winner",
   "metadata": {},
   "source": [
    "#### Create new intervals columns which converts the datetime colums into 30 min intervals"
   ]
  },
  {
   "cell_type": "code",
   "execution_count": 23,
   "id": "freelance-bridal",
   "metadata": {},
   "outputs": [
    {
     "data": {
      "text/html": [
       "<div>\n",
       "<style scoped>\n",
       "    .dataframe tbody tr th:only-of-type {\n",
       "        vertical-align: middle;\n",
       "    }\n",
       "\n",
       "    .dataframe tbody tr th {\n",
       "        vertical-align: top;\n",
       "    }\n",
       "\n",
       "    .dataframe thead th {\n",
       "        text-align: right;\n",
       "    }\n",
       "</style>\n",
       "<table border=\"1\" class=\"dataframe\">\n",
       "  <thead>\n",
       "    <tr style=\"text-align: right;\">\n",
       "      <th></th>\n",
       "      <th>StationNumber</th>\n",
       "      <th>available_bikes</th>\n",
       "      <th>available_bikes_stands</th>\n",
       "      <th>last_update</th>\n",
       "    </tr>\n",
       "  </thead>\n",
       "  <tbody>\n",
       "    <tr>\n",
       "      <th>0</th>\n",
       "      <td>47</td>\n",
       "      <td>6</td>\n",
       "      <td>34</td>\n",
       "      <td>2021-03-22 13:59:38</td>\n",
       "    </tr>\n",
       "    <tr>\n",
       "      <th>1</th>\n",
       "      <td>21</td>\n",
       "      <td>16</td>\n",
       "      <td>14</td>\n",
       "      <td>2021-03-22 13:59:38</td>\n",
       "    </tr>\n",
       "    <tr>\n",
       "      <th>2</th>\n",
       "      <td>54</td>\n",
       "      <td>12</td>\n",
       "      <td>21</td>\n",
       "      <td>2021-03-22 13:59:32</td>\n",
       "    </tr>\n",
       "    <tr>\n",
       "      <th>3</th>\n",
       "      <td>109</td>\n",
       "      <td>11</td>\n",
       "      <td>18</td>\n",
       "      <td>2021-03-22 13:59:31</td>\n",
       "    </tr>\n",
       "    <tr>\n",
       "      <th>4</th>\n",
       "      <td>84</td>\n",
       "      <td>19</td>\n",
       "      <td>11</td>\n",
       "      <td>2021-03-22 13:59:25</td>\n",
       "    </tr>\n",
       "  </tbody>\n",
       "</table>\n",
       "</div>"
      ],
      "text/plain": [
       "   StationNumber  available_bikes  available_bikes_stands         last_update\n",
       "0             47                6                      34 2021-03-22 13:59:38\n",
       "1             21               16                      14 2021-03-22 13:59:38\n",
       "2             54               12                      21 2021-03-22 13:59:32\n",
       "3            109               11                      18 2021-03-22 13:59:31\n",
       "4             84               19                      11 2021-03-22 13:59:25"
      ]
     },
     "execution_count": 23,
     "metadata": {},
     "output_type": "execute_result"
    }
   ],
   "source": [
    "dfavailability.head()"
   ]
  },
  {
   "cell_type": "code",
   "execution_count": 24,
   "id": "extraordinary-petroleum",
   "metadata": {},
   "outputs": [],
   "source": [
    "dfavailability['intervals']=dfavailability['last_update'].dt.round('15min')"
   ]
  },
  {
   "cell_type": "code",
   "execution_count": 25,
   "id": "raised-greene",
   "metadata": {},
   "outputs": [],
   "source": [
    "dfweather['intervals']=dfweather['dt'].dt.round('15min')"
   ]
  },
  {
   "cell_type": "code",
   "execution_count": 26,
   "id": "under-young",
   "metadata": {
    "scrolled": true
   },
   "outputs": [
    {
     "data": {
      "text/html": [
       "<div>\n",
       "<style scoped>\n",
       "    .dataframe tbody tr th:only-of-type {\n",
       "        vertical-align: middle;\n",
       "    }\n",
       "\n",
       "    .dataframe tbody tr th {\n",
       "        vertical-align: top;\n",
       "    }\n",
       "\n",
       "    .dataframe thead th {\n",
       "        text-align: right;\n",
       "    }\n",
       "</style>\n",
       "<table border=\"1\" class=\"dataframe\">\n",
       "  <thead>\n",
       "    <tr style=\"text-align: right;\">\n",
       "      <th></th>\n",
       "      <th>description</th>\n",
       "      <th>temp</th>\n",
       "      <th>temp_min</th>\n",
       "      <th>temp_max</th>\n",
       "      <th>humidity</th>\n",
       "      <th>dt</th>\n",
       "      <th>intervals</th>\n",
       "    </tr>\n",
       "  </thead>\n",
       "  <tbody>\n",
       "    <tr>\n",
       "      <th>4</th>\n",
       "      <td>broken clouds</td>\n",
       "      <td>9</td>\n",
       "      <td>8</td>\n",
       "      <td>9</td>\n",
       "      <td>76</td>\n",
       "      <td>2021-03-22 13:27:37</td>\n",
       "      <td>2021-03-22 13:30:00</td>\n",
       "    </tr>\n",
       "    <tr>\n",
       "      <th>3</th>\n",
       "      <td>broken clouds</td>\n",
       "      <td>9</td>\n",
       "      <td>8</td>\n",
       "      <td>9</td>\n",
       "      <td>76</td>\n",
       "      <td>2021-03-22 13:43:53</td>\n",
       "      <td>2021-03-22 13:45:00</td>\n",
       "    </tr>\n",
       "    <tr>\n",
       "      <th>2</th>\n",
       "      <td>broken clouds</td>\n",
       "      <td>9</td>\n",
       "      <td>8</td>\n",
       "      <td>9</td>\n",
       "      <td>76</td>\n",
       "      <td>2021-03-22 14:00:25</td>\n",
       "      <td>2021-03-22 14:00:00</td>\n",
       "    </tr>\n",
       "    <tr>\n",
       "      <th>1</th>\n",
       "      <td>broken clouds</td>\n",
       "      <td>9</td>\n",
       "      <td>8</td>\n",
       "      <td>9</td>\n",
       "      <td>76</td>\n",
       "      <td>2021-03-22 14:14:56</td>\n",
       "      <td>2021-03-22 14:15:00</td>\n",
       "    </tr>\n",
       "    <tr>\n",
       "      <th>0</th>\n",
       "      <td>broken clouds</td>\n",
       "      <td>9</td>\n",
       "      <td>9</td>\n",
       "      <td>10</td>\n",
       "      <td>66</td>\n",
       "      <td>2021-03-22 14:32:26</td>\n",
       "      <td>2021-03-22 14:30:00</td>\n",
       "    </tr>\n",
       "  </tbody>\n",
       "</table>\n",
       "</div>"
      ],
      "text/plain": [
       "     description  temp  temp_min  temp_max  humidity                  dt  \\\n",
       "4  broken clouds     9         8         9        76 2021-03-22 13:27:37   \n",
       "3  broken clouds     9         8         9        76 2021-03-22 13:43:53   \n",
       "2  broken clouds     9         8         9        76 2021-03-22 14:00:25   \n",
       "1  broken clouds     9         8         9        76 2021-03-22 14:14:56   \n",
       "0  broken clouds     9         9        10        66 2021-03-22 14:32:26   \n",
       "\n",
       "            intervals  \n",
       "4 2021-03-22 13:30:00  \n",
       "3 2021-03-22 13:45:00  \n",
       "2 2021-03-22 14:00:00  \n",
       "1 2021-03-22 14:15:00  \n",
       "0 2021-03-22 14:30:00  "
      ]
     },
     "execution_count": 26,
     "metadata": {},
     "output_type": "execute_result"
    }
   ],
   "source": [
    "dfweather.head().sort_values('dt')"
   ]
  },
  {
   "cell_type": "code",
   "execution_count": 27,
   "id": "interim-wallpaper",
   "metadata": {},
   "outputs": [
    {
     "data": {
      "text/html": [
       "<div>\n",
       "<style scoped>\n",
       "    .dataframe tbody tr th:only-of-type {\n",
       "        vertical-align: middle;\n",
       "    }\n",
       "\n",
       "    .dataframe tbody tr th {\n",
       "        vertical-align: top;\n",
       "    }\n",
       "\n",
       "    .dataframe thead th {\n",
       "        text-align: right;\n",
       "    }\n",
       "</style>\n",
       "<table border=\"1\" class=\"dataframe\">\n",
       "  <thead>\n",
       "    <tr style=\"text-align: right;\">\n",
       "      <th></th>\n",
       "      <th>StationNumber</th>\n",
       "      <th>available_bikes</th>\n",
       "      <th>available_bikes_stands</th>\n",
       "      <th>last_update</th>\n",
       "      <th>intervals</th>\n",
       "    </tr>\n",
       "  </thead>\n",
       "  <tbody>\n",
       "    <tr>\n",
       "      <th>4</th>\n",
       "      <td>84</td>\n",
       "      <td>19</td>\n",
       "      <td>11</td>\n",
       "      <td>2021-03-22 13:59:25</td>\n",
       "      <td>2021-03-22 14:00:00</td>\n",
       "    </tr>\n",
       "    <tr>\n",
       "      <th>3</th>\n",
       "      <td>109</td>\n",
       "      <td>11</td>\n",
       "      <td>18</td>\n",
       "      <td>2021-03-22 13:59:31</td>\n",
       "      <td>2021-03-22 14:00:00</td>\n",
       "    </tr>\n",
       "    <tr>\n",
       "      <th>2</th>\n",
       "      <td>54</td>\n",
       "      <td>12</td>\n",
       "      <td>21</td>\n",
       "      <td>2021-03-22 13:59:32</td>\n",
       "      <td>2021-03-22 14:00:00</td>\n",
       "    </tr>\n",
       "    <tr>\n",
       "      <th>0</th>\n",
       "      <td>47</td>\n",
       "      <td>6</td>\n",
       "      <td>34</td>\n",
       "      <td>2021-03-22 13:59:38</td>\n",
       "      <td>2021-03-22 14:00:00</td>\n",
       "    </tr>\n",
       "    <tr>\n",
       "      <th>1</th>\n",
       "      <td>21</td>\n",
       "      <td>16</td>\n",
       "      <td>14</td>\n",
       "      <td>2021-03-22 13:59:38</td>\n",
       "      <td>2021-03-22 14:00:00</td>\n",
       "    </tr>\n",
       "  </tbody>\n",
       "</table>\n",
       "</div>"
      ],
      "text/plain": [
       "   StationNumber  available_bikes  available_bikes_stands         last_update  \\\n",
       "4             84               19                      11 2021-03-22 13:59:25   \n",
       "3            109               11                      18 2021-03-22 13:59:31   \n",
       "2             54               12                      21 2021-03-22 13:59:32   \n",
       "0             47                6                      34 2021-03-22 13:59:38   \n",
       "1             21               16                      14 2021-03-22 13:59:38   \n",
       "\n",
       "            intervals  \n",
       "4 2021-03-22 14:00:00  \n",
       "3 2021-03-22 14:00:00  \n",
       "2 2021-03-22 14:00:00  \n",
       "0 2021-03-22 14:00:00  \n",
       "1 2021-03-22 14:00:00  "
      ]
     },
     "execution_count": 27,
     "metadata": {},
     "output_type": "execute_result"
    }
   ],
   "source": [
    "dfavailability.head().sort_values('last_update')"
   ]
  },
  {
   "cell_type": "markdown",
   "id": "appreciated-chorus",
   "metadata": {},
   "source": [
    "#### Drop Initial Datetime columns as New Intervals Feature will be used to combine the Tables"
   ]
  },
  {
   "cell_type": "code",
   "execution_count": 28,
   "id": "colored-helena",
   "metadata": {},
   "outputs": [],
   "source": [
    "mergeweather= dfweather.drop(['dt'], axis=1)"
   ]
  },
  {
   "cell_type": "code",
   "execution_count": 29,
   "id": "valid-karaoke",
   "metadata": {},
   "outputs": [],
   "source": [
    "mergeavail=dfavailability.drop(['last_update'], axis=1)"
   ]
  },
  {
   "cell_type": "markdown",
   "id": "similar-action",
   "metadata": {},
   "source": [
    "#### Sort the Intervals Features before merge"
   ]
  },
  {
   "cell_type": "code",
   "execution_count": 30,
   "id": "willing-possession",
   "metadata": {},
   "outputs": [
    {
     "data": {
      "text/plain": [
       "description          category\n",
       "temp                    int64\n",
       "temp_min                int64\n",
       "temp_max                int64\n",
       "humidity                int64\n",
       "intervals      datetime64[ns]\n",
       "dtype: object"
      ]
     },
     "execution_count": 30,
     "metadata": {},
     "output_type": "execute_result"
    }
   ],
   "source": [
    "mergeavail.dtypes\n",
    "mergeweather.dtypes"
   ]
  },
  {
   "cell_type": "code",
   "execution_count": 31,
   "id": "distinct-president",
   "metadata": {},
   "outputs": [
    {
     "data": {
      "text/plain": [
       "description          category\n",
       "temp                    int64\n",
       "temp_min                int64\n",
       "temp_max                int64\n",
       "humidity                int64\n",
       "intervals      datetime64[ns]\n",
       "dtype: object"
      ]
     },
     "execution_count": 31,
     "metadata": {},
     "output_type": "execute_result"
    }
   ],
   "source": [
    "mergeavail.dtypes\n",
    "mergeweather.dtypes"
   ]
  },
  {
   "cell_type": "code",
   "execution_count": 32,
   "id": "seasonal-florence",
   "metadata": {
    "scrolled": true
   },
   "outputs": [
    {
     "data": {
      "text/plain": [
       "StationNumber             0\n",
       "available_bikes           0\n",
       "available_bikes_stands    0\n",
       "intervals                 0\n",
       "dtype: int64"
      ]
     },
     "execution_count": 32,
     "metadata": {},
     "output_type": "execute_result"
    }
   ],
   "source": [
    "mergeavail=mergeavail.sort_values('intervals')\n",
    "mergeavail.isnull().sum()"
   ]
  },
  {
   "cell_type": "code",
   "execution_count": 33,
   "id": "tired-netherlands",
   "metadata": {
    "scrolled": true
   },
   "outputs": [
    {
     "data": {
      "text/plain": [
       "description    0\n",
       "temp           0\n",
       "temp_min       0\n",
       "temp_max       0\n",
       "humidity       0\n",
       "intervals      0\n",
       "dtype: int64"
      ]
     },
     "execution_count": 33,
     "metadata": {},
     "output_type": "execute_result"
    }
   ],
   "source": [
    "mergeweather=mergeweather.sort_values('intervals')\n",
    "mergeweather.isnull().sum()"
   ]
  },
  {
   "cell_type": "code",
   "execution_count": 34,
   "id": "elegant-collection",
   "metadata": {},
   "outputs": [],
   "source": [
    "BothMerge=pd.merge( mergeavail, mergeweather,how='inner', on='intervals')\n",
    "# FinalMerge=pd.merge_asof(mergeweather, mergeavail, on='intervals')\n",
    "# FinalMerge = mergeavail.merge(mergeweather, on='intervals')"
   ]
  },
  {
   "cell_type": "code",
   "execution_count": 35,
   "id": "prerequisite-supervisor",
   "metadata": {
    "scrolled": true
   },
   "outputs": [
    {
     "data": {
      "text/plain": [
       "StationNumber                      int64\n",
       "available_bikes                    int64\n",
       "available_bikes_stands             int64\n",
       "intervals                 datetime64[ns]\n",
       "description                     category\n",
       "temp                               int64\n",
       "temp_min                           int64\n",
       "temp_max                           int64\n",
       "humidity                           int64\n",
       "dtype: object"
      ]
     },
     "execution_count": 35,
     "metadata": {},
     "output_type": "execute_result"
    }
   ],
   "source": [
    "BothMerge.dtypes"
   ]
  },
  {
   "cell_type": "code",
   "execution_count": 36,
   "id": "immune-beads",
   "metadata": {},
   "outputs": [
    {
     "data": {
      "text/plain": [
       "StationNumber             0.0\n",
       "available_bikes           0.0\n",
       "available_bikes_stands    0.0\n",
       "intervals                 0.0\n",
       "description               0.0\n",
       "temp                      0.0\n",
       "temp_min                  0.0\n",
       "temp_max                  0.0\n",
       "humidity                  0.0\n",
       "dtype: float64"
      ]
     },
     "execution_count": 36,
     "metadata": {},
     "output_type": "execute_result"
    }
   ],
   "source": [
    "BothMerge.isnull().sum().sort_values(ascending=False)/len(BothMerge)*100"
   ]
  },
  {
   "cell_type": "code",
   "execution_count": 37,
   "id": "proprietary-payroll",
   "metadata": {},
   "outputs": [
    {
     "name": "stdout",
     "output_type": "stream",
     "text": [
      "Number of duplicate (excluding first) rows in the table is:  12831\n",
      "Number of duplicate rows (including first) in the table is: 25630\n"
     ]
    }
   ],
   "source": [
    "#Print the number of duplicates, without the original rows that were duplicated\n",
    "print('Number of duplicate (excluding first) rows in the table is: ', BothMerge.duplicated().sum())\n",
    "\n",
    "# Check for duplicate rows. \n",
    "# Use \"keep=False\" to mark all duplicates as true, including the original rows that were duplicated.\n",
    "print('Number of duplicate rows (including first) in the table is:', BothMerge[BothMerge.duplicated(keep=False)].shape[0])"
   ]
  },
  {
   "cell_type": "code",
   "execution_count": 38,
   "id": "dried-understanding",
   "metadata": {},
   "outputs": [],
   "source": [
    "FinalMerge=BothMerge[~BothMerge.duplicated()]"
   ]
  },
  {
   "cell_type": "code",
   "execution_count": 39,
   "id": "removed-knife",
   "metadata": {},
   "outputs": [
    {
     "data": {
      "text/plain": [
       "(37177, 9)"
      ]
     },
     "execution_count": 39,
     "metadata": {},
     "output_type": "execute_result"
    }
   ],
   "source": [
    "FinalMerge.shape"
   ]
  },
  {
   "cell_type": "markdown",
   "id": "elegant-macintosh",
   "metadata": {},
   "source": [
    "#### Create a Day Feature from the new merged table so that it is used for the model"
   ]
  },
  {
   "cell_type": "code",
   "execution_count": 40,
   "id": "christian-prompt",
   "metadata": {},
   "outputs": [],
   "source": [
    "FinalMerge['Day']=FinalMerge['intervals'].dt.day_name()"
   ]
  },
  {
   "cell_type": "markdown",
   "id": "stretch-gossip",
   "metadata": {},
   "source": [
    "#### 2 models will be created, one for Available Bikes and one for available bike stands - create 2 copies of merged df"
   ]
  },
  {
   "cell_type": "code",
   "execution_count": 41,
   "id": "representative-hamilton",
   "metadata": {},
   "outputs": [],
   "source": [
    "availableBikes=FinalMerge.copy()\n",
    "availableStands=FinalMerge.copy()"
   ]
  },
  {
   "cell_type": "code",
   "execution_count": 42,
   "id": "grand-polls",
   "metadata": {},
   "outputs": [
    {
     "data": {
      "text/plain": [
       "(37177, 10)"
      ]
     },
     "execution_count": 42,
     "metadata": {},
     "output_type": "execute_result"
    }
   ],
   "source": [
    "availableStands.shape"
   ]
  },
  {
   "cell_type": "markdown",
   "id": "alone-ground",
   "metadata": {},
   "source": [
    "#### Create a new feature which states whether stands are available"
   ]
  },
  {
   "cell_type": "code",
   "execution_count": 43,
   "id": "beneficial-target",
   "metadata": {},
   "outputs": [],
   "source": [
    "availableStands['Hour']=availableStands['intervals'].dt.hour\n",
    "availableStands['Stands_available']= np.where(availableStands['available_bikes_stands']>0, availableStands['available_bikes_stands'], 0)"
   ]
  },
  {
   "cell_type": "code",
   "execution_count": 44,
   "id": "future-premiere",
   "metadata": {},
   "outputs": [],
   "source": [
    "choices=['Morning', 'Afternoon', 'Evening']\n",
    "conditions=[(availableStands['Hour'] > 6) & (availableStands['Hour'] < 12), (availableStands['Hour'] >= 12) & (availableStands['Hour'] < 16),(availableStands['Hour'] >= 16) & (availableStands['Hour'] < 0)]"
   ]
  },
  {
   "cell_type": "code",
   "execution_count": 45,
   "id": "choice-silly",
   "metadata": {},
   "outputs": [],
   "source": [
    "availableStands['TimeOfDay']= np.select(conditions, choices, default='closed')"
   ]
  },
  {
   "cell_type": "code",
   "execution_count": 46,
   "id": "excessive-baltimore",
   "metadata": {},
   "outputs": [
    {
     "data": {
      "text/html": [
       "<div>\n",
       "<style scoped>\n",
       "    .dataframe tbody tr th:only-of-type {\n",
       "        vertical-align: middle;\n",
       "    }\n",
       "\n",
       "    .dataframe tbody tr th {\n",
       "        vertical-align: top;\n",
       "    }\n",
       "\n",
       "    .dataframe thead th {\n",
       "        text-align: right;\n",
       "    }\n",
       "</style>\n",
       "<table border=\"1\" class=\"dataframe\">\n",
       "  <thead>\n",
       "    <tr style=\"text-align: right;\">\n",
       "      <th></th>\n",
       "      <th>StationNumber</th>\n",
       "      <th>available_bikes</th>\n",
       "      <th>available_bikes_stands</th>\n",
       "      <th>intervals</th>\n",
       "      <th>description</th>\n",
       "      <th>temp</th>\n",
       "      <th>temp_min</th>\n",
       "      <th>temp_max</th>\n",
       "      <th>humidity</th>\n",
       "      <th>Day</th>\n",
       "      <th>Hour</th>\n",
       "      <th>Stands_available</th>\n",
       "      <th>TimeOfDay</th>\n",
       "    </tr>\n",
       "  </thead>\n",
       "  <tbody>\n",
       "    <tr>\n",
       "      <th>0</th>\n",
       "      <td>61</td>\n",
       "      <td>7</td>\n",
       "      <td>18</td>\n",
       "      <td>2021-03-19 15:30:00</td>\n",
       "      <td>scattered clouds</td>\n",
       "      <td>12</td>\n",
       "      <td>10</td>\n",
       "      <td>12</td>\n",
       "      <td>76</td>\n",
       "      <td>Friday</td>\n",
       "      <td>15</td>\n",
       "      <td>18</td>\n",
       "      <td>Afternoon</td>\n",
       "    </tr>\n",
       "    <tr>\n",
       "      <th>1</th>\n",
       "      <td>31</td>\n",
       "      <td>16</td>\n",
       "      <td>4</td>\n",
       "      <td>2021-03-19 15:30:00</td>\n",
       "      <td>scattered clouds</td>\n",
       "      <td>12</td>\n",
       "      <td>10</td>\n",
       "      <td>12</td>\n",
       "      <td>76</td>\n",
       "      <td>Friday</td>\n",
       "      <td>15</td>\n",
       "      <td>4</td>\n",
       "      <td>Afternoon</td>\n",
       "    </tr>\n",
       "    <tr>\n",
       "      <th>2</th>\n",
       "      <td>80</td>\n",
       "      <td>15</td>\n",
       "      <td>25</td>\n",
       "      <td>2021-03-19 15:30:00</td>\n",
       "      <td>scattered clouds</td>\n",
       "      <td>12</td>\n",
       "      <td>10</td>\n",
       "      <td>12</td>\n",
       "      <td>76</td>\n",
       "      <td>Friday</td>\n",
       "      <td>15</td>\n",
       "      <td>25</td>\n",
       "      <td>Afternoon</td>\n",
       "    </tr>\n",
       "    <tr>\n",
       "      <th>3</th>\n",
       "      <td>41</td>\n",
       "      <td>14</td>\n",
       "      <td>6</td>\n",
       "      <td>2021-03-19 15:30:00</td>\n",
       "      <td>scattered clouds</td>\n",
       "      <td>12</td>\n",
       "      <td>10</td>\n",
       "      <td>12</td>\n",
       "      <td>76</td>\n",
       "      <td>Friday</td>\n",
       "      <td>15</td>\n",
       "      <td>6</td>\n",
       "      <td>Afternoon</td>\n",
       "    </tr>\n",
       "    <tr>\n",
       "      <th>4</th>\n",
       "      <td>50</td>\n",
       "      <td>8</td>\n",
       "      <td>32</td>\n",
       "      <td>2021-03-19 15:30:00</td>\n",
       "      <td>scattered clouds</td>\n",
       "      <td>12</td>\n",
       "      <td>10</td>\n",
       "      <td>12</td>\n",
       "      <td>76</td>\n",
       "      <td>Friday</td>\n",
       "      <td>15</td>\n",
       "      <td>32</td>\n",
       "      <td>Afternoon</td>\n",
       "    </tr>\n",
       "    <tr>\n",
       "      <th>...</th>\n",
       "      <td>...</td>\n",
       "      <td>...</td>\n",
       "      <td>...</td>\n",
       "      <td>...</td>\n",
       "      <td>...</td>\n",
       "      <td>...</td>\n",
       "      <td>...</td>\n",
       "      <td>...</td>\n",
       "      <td>...</td>\n",
       "      <td>...</td>\n",
       "      <td>...</td>\n",
       "      <td>...</td>\n",
       "      <td>...</td>\n",
       "    </tr>\n",
       "    <tr>\n",
       "      <th>50003</th>\n",
       "      <td>31</td>\n",
       "      <td>6</td>\n",
       "      <td>14</td>\n",
       "      <td>2021-03-22 14:00:00</td>\n",
       "      <td>broken clouds</td>\n",
       "      <td>9</td>\n",
       "      <td>8</td>\n",
       "      <td>9</td>\n",
       "      <td>76</td>\n",
       "      <td>Monday</td>\n",
       "      <td>14</td>\n",
       "      <td>14</td>\n",
       "      <td>Afternoon</td>\n",
       "    </tr>\n",
       "    <tr>\n",
       "      <th>50004</th>\n",
       "      <td>33</td>\n",
       "      <td>8</td>\n",
       "      <td>15</td>\n",
       "      <td>2021-03-22 14:00:00</td>\n",
       "      <td>broken clouds</td>\n",
       "      <td>9</td>\n",
       "      <td>8</td>\n",
       "      <td>9</td>\n",
       "      <td>76</td>\n",
       "      <td>Monday</td>\n",
       "      <td>14</td>\n",
       "      <td>15</td>\n",
       "      <td>Afternoon</td>\n",
       "    </tr>\n",
       "    <tr>\n",
       "      <th>50005</th>\n",
       "      <td>115</td>\n",
       "      <td>12</td>\n",
       "      <td>18</td>\n",
       "      <td>2021-03-22 14:00:00</td>\n",
       "      <td>broken clouds</td>\n",
       "      <td>9</td>\n",
       "      <td>8</td>\n",
       "      <td>9</td>\n",
       "      <td>76</td>\n",
       "      <td>Monday</td>\n",
       "      <td>14</td>\n",
       "      <td>18</td>\n",
       "      <td>Afternoon</td>\n",
       "    </tr>\n",
       "    <tr>\n",
       "      <th>50006</th>\n",
       "      <td>52</td>\n",
       "      <td>11</td>\n",
       "      <td>21</td>\n",
       "      <td>2021-03-22 14:00:00</td>\n",
       "      <td>broken clouds</td>\n",
       "      <td>9</td>\n",
       "      <td>8</td>\n",
       "      <td>9</td>\n",
       "      <td>76</td>\n",
       "      <td>Monday</td>\n",
       "      <td>14</td>\n",
       "      <td>21</td>\n",
       "      <td>Afternoon</td>\n",
       "    </tr>\n",
       "    <tr>\n",
       "      <th>50007</th>\n",
       "      <td>47</td>\n",
       "      <td>6</td>\n",
       "      <td>34</td>\n",
       "      <td>2021-03-22 14:00:00</td>\n",
       "      <td>broken clouds</td>\n",
       "      <td>9</td>\n",
       "      <td>8</td>\n",
       "      <td>9</td>\n",
       "      <td>76</td>\n",
       "      <td>Monday</td>\n",
       "      <td>14</td>\n",
       "      <td>34</td>\n",
       "      <td>Afternoon</td>\n",
       "    </tr>\n",
       "  </tbody>\n",
       "</table>\n",
       "<p>37177 rows × 13 columns</p>\n",
       "</div>"
      ],
      "text/plain": [
       "       StationNumber  available_bikes  available_bikes_stands  \\\n",
       "0                 61                7                      18   \n",
       "1                 31               16                       4   \n",
       "2                 80               15                      25   \n",
       "3                 41               14                       6   \n",
       "4                 50                8                      32   \n",
       "...              ...              ...                     ...   \n",
       "50003             31                6                      14   \n",
       "50004             33                8                      15   \n",
       "50005            115               12                      18   \n",
       "50006             52               11                      21   \n",
       "50007             47                6                      34   \n",
       "\n",
       "                intervals       description  temp  temp_min  temp_max  \\\n",
       "0     2021-03-19 15:30:00  scattered clouds    12        10        12   \n",
       "1     2021-03-19 15:30:00  scattered clouds    12        10        12   \n",
       "2     2021-03-19 15:30:00  scattered clouds    12        10        12   \n",
       "3     2021-03-19 15:30:00  scattered clouds    12        10        12   \n",
       "4     2021-03-19 15:30:00  scattered clouds    12        10        12   \n",
       "...                   ...               ...   ...       ...       ...   \n",
       "50003 2021-03-22 14:00:00     broken clouds     9         8         9   \n",
       "50004 2021-03-22 14:00:00     broken clouds     9         8         9   \n",
       "50005 2021-03-22 14:00:00     broken clouds     9         8         9   \n",
       "50006 2021-03-22 14:00:00     broken clouds     9         8         9   \n",
       "50007 2021-03-22 14:00:00     broken clouds     9         8         9   \n",
       "\n",
       "       humidity     Day  Hour  Stands_available  TimeOfDay  \n",
       "0            76  Friday    15                18  Afternoon  \n",
       "1            76  Friday    15                 4  Afternoon  \n",
       "2            76  Friday    15                25  Afternoon  \n",
       "3            76  Friday    15                 6  Afternoon  \n",
       "4            76  Friday    15                32  Afternoon  \n",
       "...         ...     ...   ...               ...        ...  \n",
       "50003        76  Monday    14                14  Afternoon  \n",
       "50004        76  Monday    14                15  Afternoon  \n",
       "50005        76  Monday    14                18  Afternoon  \n",
       "50006        76  Monday    14                21  Afternoon  \n",
       "50007        76  Monday    14                34  Afternoon  \n",
       "\n",
       "[37177 rows x 13 columns]"
      ]
     },
     "execution_count": 46,
     "metadata": {},
     "output_type": "execute_result"
    }
   ],
   "source": [
    "availableStands"
   ]
  },
  {
   "cell_type": "markdown",
   "id": "boring-orange",
   "metadata": {},
   "source": [
    "#### Create a new feature which states whether bikes are available"
   ]
  },
  {
   "cell_type": "code",
   "execution_count": 47,
   "id": "appointed-shareware",
   "metadata": {},
   "outputs": [],
   "source": [
    "availableBikes['Hour']=availableBikes['intervals'].dt.hour\n",
    "availableBikes['Bikes_available']= np.where(availableBikes['available_bikes']>0, availableBikes['available_bikes'], 0)\n"
   ]
  },
  {
   "cell_type": "code",
   "execution_count": 48,
   "id": "interracial-minority",
   "metadata": {},
   "outputs": [],
   "source": [
    "choices=['Morning', 'Afternoon', 'Evening']\n",
    "conditions=[(availableBikes['Hour'] >= 7) & (availableBikes['Hour'] < 12), (availableBikes['Hour'] >= 12) & (availableBikes['Hour'] < 16),(availableBikes['Hour'] >= 16) & (availableBikes['Hour'] <= 23)]"
   ]
  },
  {
   "cell_type": "code",
   "execution_count": 49,
   "id": "appointed-dryer",
   "metadata": {},
   "outputs": [],
   "source": [
    "availableBikes['TimeOfDay']= np.select(conditions, choices, default='Night')"
   ]
  },
  {
   "cell_type": "code",
   "execution_count": 65,
   "id": "active-tracy",
   "metadata": {
    "scrolled": true
   },
   "outputs": [
    {
     "data": {
      "text/html": [
       "<div>\n",
       "<style scoped>\n",
       "    .dataframe tbody tr th:only-of-type {\n",
       "        vertical-align: middle;\n",
       "    }\n",
       "\n",
       "    .dataframe tbody tr th {\n",
       "        vertical-align: top;\n",
       "    }\n",
       "\n",
       "    .dataframe thead th {\n",
       "        text-align: right;\n",
       "    }\n",
       "</style>\n",
       "<table border=\"1\" class=\"dataframe\">\n",
       "  <thead>\n",
       "    <tr style=\"text-align: right;\">\n",
       "      <th></th>\n",
       "      <th>StationNumber</th>\n",
       "      <th>available_bikes</th>\n",
       "      <th>available_bikes_stands</th>\n",
       "      <th>intervals</th>\n",
       "      <th>description</th>\n",
       "      <th>temp</th>\n",
       "      <th>temp_min</th>\n",
       "      <th>temp_max</th>\n",
       "      <th>humidity</th>\n",
       "      <th>Day</th>\n",
       "      <th>Hour</th>\n",
       "      <th>Bikes_available</th>\n",
       "      <th>TimeOfDay</th>\n",
       "    </tr>\n",
       "  </thead>\n",
       "  <tbody>\n",
       "    <tr>\n",
       "      <th>0</th>\n",
       "      <td>61</td>\n",
       "      <td>7</td>\n",
       "      <td>18</td>\n",
       "      <td>2021-03-19 15:30:00</td>\n",
       "      <td>scattered clouds</td>\n",
       "      <td>12</td>\n",
       "      <td>10</td>\n",
       "      <td>12</td>\n",
       "      <td>76</td>\n",
       "      <td>Friday</td>\n",
       "      <td>15</td>\n",
       "      <td>7</td>\n",
       "      <td>Afternoon</td>\n",
       "    </tr>\n",
       "    <tr>\n",
       "      <th>1</th>\n",
       "      <td>31</td>\n",
       "      <td>16</td>\n",
       "      <td>4</td>\n",
       "      <td>2021-03-19 15:30:00</td>\n",
       "      <td>scattered clouds</td>\n",
       "      <td>12</td>\n",
       "      <td>10</td>\n",
       "      <td>12</td>\n",
       "      <td>76</td>\n",
       "      <td>Friday</td>\n",
       "      <td>15</td>\n",
       "      <td>16</td>\n",
       "      <td>Afternoon</td>\n",
       "    </tr>\n",
       "    <tr>\n",
       "      <th>2</th>\n",
       "      <td>80</td>\n",
       "      <td>15</td>\n",
       "      <td>25</td>\n",
       "      <td>2021-03-19 15:30:00</td>\n",
       "      <td>scattered clouds</td>\n",
       "      <td>12</td>\n",
       "      <td>10</td>\n",
       "      <td>12</td>\n",
       "      <td>76</td>\n",
       "      <td>Friday</td>\n",
       "      <td>15</td>\n",
       "      <td>15</td>\n",
       "      <td>Afternoon</td>\n",
       "    </tr>\n",
       "    <tr>\n",
       "      <th>3</th>\n",
       "      <td>41</td>\n",
       "      <td>14</td>\n",
       "      <td>6</td>\n",
       "      <td>2021-03-19 15:30:00</td>\n",
       "      <td>scattered clouds</td>\n",
       "      <td>12</td>\n",
       "      <td>10</td>\n",
       "      <td>12</td>\n",
       "      <td>76</td>\n",
       "      <td>Friday</td>\n",
       "      <td>15</td>\n",
       "      <td>14</td>\n",
       "      <td>Afternoon</td>\n",
       "    </tr>\n",
       "    <tr>\n",
       "      <th>4</th>\n",
       "      <td>50</td>\n",
       "      <td>8</td>\n",
       "      <td>32</td>\n",
       "      <td>2021-03-19 15:30:00</td>\n",
       "      <td>scattered clouds</td>\n",
       "      <td>12</td>\n",
       "      <td>10</td>\n",
       "      <td>12</td>\n",
       "      <td>76</td>\n",
       "      <td>Friday</td>\n",
       "      <td>15</td>\n",
       "      <td>8</td>\n",
       "      <td>Afternoon</td>\n",
       "    </tr>\n",
       "  </tbody>\n",
       "</table>\n",
       "</div>"
      ],
      "text/plain": [
       "   StationNumber  available_bikes  available_bikes_stands           intervals  \\\n",
       "0             61                7                      18 2021-03-19 15:30:00   \n",
       "1             31               16                       4 2021-03-19 15:30:00   \n",
       "2             80               15                      25 2021-03-19 15:30:00   \n",
       "3             41               14                       6 2021-03-19 15:30:00   \n",
       "4             50                8                      32 2021-03-19 15:30:00   \n",
       "\n",
       "        description  temp  temp_min  temp_max  humidity     Day  Hour  \\\n",
       "0  scattered clouds    12        10        12        76  Friday    15   \n",
       "1  scattered clouds    12        10        12        76  Friday    15   \n",
       "2  scattered clouds    12        10        12        76  Friday    15   \n",
       "3  scattered clouds    12        10        12        76  Friday    15   \n",
       "4  scattered clouds    12        10        12        76  Friday    15   \n",
       "\n",
       "   Bikes_available  TimeOfDay  \n",
       "0                7  Afternoon  \n",
       "1               16  Afternoon  \n",
       "2               15  Afternoon  \n",
       "3               14  Afternoon  \n",
       "4                8  Afternoon  "
      ]
     },
     "execution_count": 65,
     "metadata": {},
     "output_type": "execute_result"
    }
   ],
   "source": [
    "availableBikes.head()"
   ]
  },
  {
   "cell_type": "code",
   "execution_count": 52,
   "id": "humanitarian-basin",
   "metadata": {},
   "outputs": [],
   "source": [
    "FinalAvailBikes=availableBikes.drop(['intervals','Hour'], axis=1)"
   ]
  },
  {
   "cell_type": "code",
   "execution_count": 53,
   "id": "stock-complexity",
   "metadata": {},
   "outputs": [],
   "source": [
    "FinalAvailStands=availableStands.drop(['intervals', 'Hour'], axis=1)"
   ]
  },
  {
   "cell_type": "code",
   "execution_count": 60,
   "id": "optimum-harbor",
   "metadata": {},
   "outputs": [
    {
     "data": {
      "text/html": [
       "<div>\n",
       "<style scoped>\n",
       "    .dataframe tbody tr th:only-of-type {\n",
       "        vertical-align: middle;\n",
       "    }\n",
       "\n",
       "    .dataframe tbody tr th {\n",
       "        vertical-align: top;\n",
       "    }\n",
       "\n",
       "    .dataframe thead th {\n",
       "        text-align: right;\n",
       "    }\n",
       "</style>\n",
       "<table border=\"1\" class=\"dataframe\">\n",
       "  <thead>\n",
       "    <tr style=\"text-align: right;\">\n",
       "      <th></th>\n",
       "      <th>StationNumber</th>\n",
       "      <th>available_bikes</th>\n",
       "      <th>available_bikes_stands</th>\n",
       "      <th>description</th>\n",
       "      <th>temp</th>\n",
       "      <th>temp_min</th>\n",
       "      <th>temp_max</th>\n",
       "      <th>humidity</th>\n",
       "      <th>Day</th>\n",
       "      <th>Bikes_available</th>\n",
       "      <th>TimeOfDay</th>\n",
       "    </tr>\n",
       "  </thead>\n",
       "  <tbody>\n",
       "    <tr>\n",
       "      <th>0</th>\n",
       "      <td>61</td>\n",
       "      <td>7</td>\n",
       "      <td>18</td>\n",
       "      <td>scattered clouds</td>\n",
       "      <td>12</td>\n",
       "      <td>10</td>\n",
       "      <td>12</td>\n",
       "      <td>76</td>\n",
       "      <td>Friday</td>\n",
       "      <td>7</td>\n",
       "      <td>Afternoon</td>\n",
       "    </tr>\n",
       "    <tr>\n",
       "      <th>1</th>\n",
       "      <td>31</td>\n",
       "      <td>16</td>\n",
       "      <td>4</td>\n",
       "      <td>scattered clouds</td>\n",
       "      <td>12</td>\n",
       "      <td>10</td>\n",
       "      <td>12</td>\n",
       "      <td>76</td>\n",
       "      <td>Friday</td>\n",
       "      <td>16</td>\n",
       "      <td>Afternoon</td>\n",
       "    </tr>\n",
       "    <tr>\n",
       "      <th>2</th>\n",
       "      <td>80</td>\n",
       "      <td>15</td>\n",
       "      <td>25</td>\n",
       "      <td>scattered clouds</td>\n",
       "      <td>12</td>\n",
       "      <td>10</td>\n",
       "      <td>12</td>\n",
       "      <td>76</td>\n",
       "      <td>Friday</td>\n",
       "      <td>15</td>\n",
       "      <td>Afternoon</td>\n",
       "    </tr>\n",
       "    <tr>\n",
       "      <th>3</th>\n",
       "      <td>41</td>\n",
       "      <td>14</td>\n",
       "      <td>6</td>\n",
       "      <td>scattered clouds</td>\n",
       "      <td>12</td>\n",
       "      <td>10</td>\n",
       "      <td>12</td>\n",
       "      <td>76</td>\n",
       "      <td>Friday</td>\n",
       "      <td>14</td>\n",
       "      <td>Afternoon</td>\n",
       "    </tr>\n",
       "    <tr>\n",
       "      <th>4</th>\n",
       "      <td>50</td>\n",
       "      <td>8</td>\n",
       "      <td>32</td>\n",
       "      <td>scattered clouds</td>\n",
       "      <td>12</td>\n",
       "      <td>10</td>\n",
       "      <td>12</td>\n",
       "      <td>76</td>\n",
       "      <td>Friday</td>\n",
       "      <td>8</td>\n",
       "      <td>Afternoon</td>\n",
       "    </tr>\n",
       "  </tbody>\n",
       "</table>\n",
       "</div>"
      ],
      "text/plain": [
       "   StationNumber  available_bikes  available_bikes_stands       description  \\\n",
       "0             61                7                      18  scattered clouds   \n",
       "1             31               16                       4  scattered clouds   \n",
       "2             80               15                      25  scattered clouds   \n",
       "3             41               14                       6  scattered clouds   \n",
       "4             50                8                      32  scattered clouds   \n",
       "\n",
       "   temp  temp_min  temp_max  humidity     Day  Bikes_available  TimeOfDay  \n",
       "0    12        10        12        76  Friday                7  Afternoon  \n",
       "1    12        10        12        76  Friday               16  Afternoon  \n",
       "2    12        10        12        76  Friday               15  Afternoon  \n",
       "3    12        10        12        76  Friday               14  Afternoon  \n",
       "4    12        10        12        76  Friday                8  Afternoon  "
      ]
     },
     "execution_count": 60,
     "metadata": {},
     "output_type": "execute_result"
    }
   ],
   "source": [
    "FinalAvailBikes.head()"
   ]
  },
  {
   "cell_type": "code",
   "execution_count": 55,
   "id": "parental-spider",
   "metadata": {},
   "outputs": [
    {
     "data": {
      "text/plain": [
       "array(['Afternoon', 'Evening', 'Night', 'Morning'], dtype=object)"
      ]
     },
     "execution_count": 55,
     "metadata": {},
     "output_type": "execute_result"
    }
   ],
   "source": [
    "FinalAvailBikes.TimeOfDay.unique()"
   ]
  },
  {
   "cell_type": "code",
   "execution_count": 56,
   "id": "capable-produce",
   "metadata": {
    "scrolled": false
   },
   "outputs": [
    {
     "data": {
      "text/html": [
       "<div>\n",
       "<style scoped>\n",
       "    .dataframe tbody tr th:only-of-type {\n",
       "        vertical-align: middle;\n",
       "    }\n",
       "\n",
       "    .dataframe tbody tr th {\n",
       "        vertical-align: top;\n",
       "    }\n",
       "\n",
       "    .dataframe thead th {\n",
       "        text-align: right;\n",
       "    }\n",
       "</style>\n",
       "<table border=\"1\" class=\"dataframe\">\n",
       "  <thead>\n",
       "    <tr style=\"text-align: right;\">\n",
       "      <th></th>\n",
       "      <th>StationNumber</th>\n",
       "      <th>available_bikes</th>\n",
       "      <th>available_bikes_stands</th>\n",
       "      <th>description</th>\n",
       "      <th>temp</th>\n",
       "      <th>temp_min</th>\n",
       "      <th>temp_max</th>\n",
       "      <th>humidity</th>\n",
       "      <th>Day</th>\n",
       "      <th>Stands_available</th>\n",
       "      <th>TimeOfDay</th>\n",
       "    </tr>\n",
       "  </thead>\n",
       "  <tbody>\n",
       "    <tr>\n",
       "      <th>0</th>\n",
       "      <td>61</td>\n",
       "      <td>7</td>\n",
       "      <td>18</td>\n",
       "      <td>scattered clouds</td>\n",
       "      <td>12</td>\n",
       "      <td>10</td>\n",
       "      <td>12</td>\n",
       "      <td>76</td>\n",
       "      <td>Friday</td>\n",
       "      <td>18</td>\n",
       "      <td>Afternoon</td>\n",
       "    </tr>\n",
       "    <tr>\n",
       "      <th>1</th>\n",
       "      <td>31</td>\n",
       "      <td>16</td>\n",
       "      <td>4</td>\n",
       "      <td>scattered clouds</td>\n",
       "      <td>12</td>\n",
       "      <td>10</td>\n",
       "      <td>12</td>\n",
       "      <td>76</td>\n",
       "      <td>Friday</td>\n",
       "      <td>4</td>\n",
       "      <td>Afternoon</td>\n",
       "    </tr>\n",
       "    <tr>\n",
       "      <th>2</th>\n",
       "      <td>80</td>\n",
       "      <td>15</td>\n",
       "      <td>25</td>\n",
       "      <td>scattered clouds</td>\n",
       "      <td>12</td>\n",
       "      <td>10</td>\n",
       "      <td>12</td>\n",
       "      <td>76</td>\n",
       "      <td>Friday</td>\n",
       "      <td>25</td>\n",
       "      <td>Afternoon</td>\n",
       "    </tr>\n",
       "    <tr>\n",
       "      <th>3</th>\n",
       "      <td>41</td>\n",
       "      <td>14</td>\n",
       "      <td>6</td>\n",
       "      <td>scattered clouds</td>\n",
       "      <td>12</td>\n",
       "      <td>10</td>\n",
       "      <td>12</td>\n",
       "      <td>76</td>\n",
       "      <td>Friday</td>\n",
       "      <td>6</td>\n",
       "      <td>Afternoon</td>\n",
       "    </tr>\n",
       "    <tr>\n",
       "      <th>4</th>\n",
       "      <td>50</td>\n",
       "      <td>8</td>\n",
       "      <td>32</td>\n",
       "      <td>scattered clouds</td>\n",
       "      <td>12</td>\n",
       "      <td>10</td>\n",
       "      <td>12</td>\n",
       "      <td>76</td>\n",
       "      <td>Friday</td>\n",
       "      <td>32</td>\n",
       "      <td>Afternoon</td>\n",
       "    </tr>\n",
       "  </tbody>\n",
       "</table>\n",
       "</div>"
      ],
      "text/plain": [
       "   StationNumber  available_bikes  available_bikes_stands       description  \\\n",
       "0             61                7                      18  scattered clouds   \n",
       "1             31               16                       4  scattered clouds   \n",
       "2             80               15                      25  scattered clouds   \n",
       "3             41               14                       6  scattered clouds   \n",
       "4             50                8                      32  scattered clouds   \n",
       "\n",
       "   temp  temp_min  temp_max  humidity     Day  Stands_available  TimeOfDay  \n",
       "0    12        10        12        76  Friday                18  Afternoon  \n",
       "1    12        10        12        76  Friday                 4  Afternoon  \n",
       "2    12        10        12        76  Friday                25  Afternoon  \n",
       "3    12        10        12        76  Friday                 6  Afternoon  \n",
       "4    12        10        12        76  Friday                32  Afternoon  "
      ]
     },
     "execution_count": 56,
     "metadata": {},
     "output_type": "execute_result"
    }
   ],
   "source": [
    "FinalAvailStands.head()"
   ]
  },
  {
   "cell_type": "code",
   "execution_count": 57,
   "id": "searching-diploma",
   "metadata": {},
   "outputs": [],
   "source": [
    "FinalAvailBikes.to_csv('availbikes.csv', index=False)\n",
    "FinalAvailStands.to_csv('availstands.csv', index=False)"
   ]
  },
  {
   "cell_type": "code",
   "execution_count": null,
   "id": "circular-offering",
   "metadata": {},
   "outputs": [],
   "source": []
  },
  {
   "cell_type": "code",
   "execution_count": null,
   "id": "figured-coordinate",
   "metadata": {},
   "outputs": [],
   "source": []
  }
 ],
 "metadata": {
  "kernelspec": {
   "display_name": "Python 3",
   "language": "python",
   "name": "python3"
  },
  "language_info": {
   "codemirror_mode": {
    "name": "ipython",
    "version": 3
   },
   "file_extension": ".py",
   "mimetype": "text/x-python",
   "name": "python",
   "nbconvert_exporter": "python",
   "pygments_lexer": "ipython3",
   "version": "3.8.5"
  }
 },
 "nbformat": 4,
 "nbformat_minor": 5
}
