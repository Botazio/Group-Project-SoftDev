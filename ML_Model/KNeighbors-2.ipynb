{
 "cells": [
  {
   "cell_type": "code",
   "execution_count": 1,
   "id": "moderate-hypothetical",
   "metadata": {},
   "outputs": [],
   "source": [
    "#import modules needed\n",
    "import pandas as pd\n",
    "import numpy as np\n",
    "from sklearn.preprocessing import LabelEncoder\n",
    "from sklearn import preprocessing\n",
    "from sklearn import linear_model\n",
    "import sklearn"
   ]
  },
  {
   "cell_type": "markdown",
   "id": "challenging-referral",
   "metadata": {},
   "source": [
    "__Read in cleaned dataset__"
   ]
  },
  {
   "cell_type": "code",
   "execution_count": 2,
   "id": "amended-spiritual",
   "metadata": {},
   "outputs": [],
   "source": [
    "df = df = pd.read_csv('availbikes2.csv', sep=',\\s+', delimiter=',')"
   ]
  },
  {
   "cell_type": "code",
   "execution_count": 3,
   "id": "southwest-professor",
   "metadata": {},
   "outputs": [],
   "source": [
    "df=sklearn.utils.shuffle(df)"
   ]
  },
  {
   "cell_type": "code",
   "execution_count": 4,
   "id": "listed-facial",
   "metadata": {},
   "outputs": [
    {
     "data": {
      "text/html": [
       "<div>\n",
       "<style scoped>\n",
       "    .dataframe tbody tr th:only-of-type {\n",
       "        vertical-align: middle;\n",
       "    }\n",
       "\n",
       "    .dataframe tbody tr th {\n",
       "        vertical-align: top;\n",
       "    }\n",
       "\n",
       "    .dataframe thead th {\n",
       "        text-align: right;\n",
       "    }\n",
       "</style>\n",
       "<table border=\"1\" class=\"dataframe\">\n",
       "  <thead>\n",
       "    <tr style=\"text-align: right;\">\n",
       "      <th></th>\n",
       "      <th>StationNumber</th>\n",
       "      <th>available_bikes_stands</th>\n",
       "      <th>available_bikes</th>\n",
       "      <th>description</th>\n",
       "      <th>temp</th>\n",
       "      <th>temp_min</th>\n",
       "      <th>temp_max</th>\n",
       "      <th>humidity</th>\n",
       "      <th>Day</th>\n",
       "      <th>Hour</th>\n",
       "    </tr>\n",
       "  </thead>\n",
       "  <tbody>\n",
       "    <tr>\n",
       "      <th>253638</th>\n",
       "      <td>31</td>\n",
       "      <td>14</td>\n",
       "      <td>6</td>\n",
       "      <td>broken clouds</td>\n",
       "      <td>8</td>\n",
       "      <td>8</td>\n",
       "      <td>8</td>\n",
       "      <td>76</td>\n",
       "      <td>Tuesday</td>\n",
       "      <td>1</td>\n",
       "    </tr>\n",
       "    <tr>\n",
       "      <th>328920</th>\n",
       "      <td>34</td>\n",
       "      <td>29</td>\n",
       "      <td>1</td>\n",
       "      <td>broken clouds</td>\n",
       "      <td>13</td>\n",
       "      <td>12</td>\n",
       "      <td>13</td>\n",
       "      <td>82</td>\n",
       "      <td>Monday</td>\n",
       "      <td>1</td>\n",
       "    </tr>\n",
       "    <tr>\n",
       "      <th>133018</th>\n",
       "      <td>96</td>\n",
       "      <td>15</td>\n",
       "      <td>15</td>\n",
       "      <td>scattered clouds</td>\n",
       "      <td>6</td>\n",
       "      <td>5</td>\n",
       "      <td>7</td>\n",
       "      <td>70</td>\n",
       "      <td>Saturday</td>\n",
       "      <td>12</td>\n",
       "    </tr>\n",
       "    <tr>\n",
       "      <th>183721</th>\n",
       "      <td>23</td>\n",
       "      <td>19</td>\n",
       "      <td>11</td>\n",
       "      <td>scattered clouds</td>\n",
       "      <td>12</td>\n",
       "      <td>11</td>\n",
       "      <td>13</td>\n",
       "      <td>58</td>\n",
       "      <td>Wednesday</td>\n",
       "      <td>14</td>\n",
       "    </tr>\n",
       "    <tr>\n",
       "      <th>146362</th>\n",
       "      <td>32</td>\n",
       "      <td>17</td>\n",
       "      <td>13</td>\n",
       "      <td>light rain</td>\n",
       "      <td>10</td>\n",
       "      <td>9</td>\n",
       "      <td>10</td>\n",
       "      <td>81</td>\n",
       "      <td>Sunday</td>\n",
       "      <td>14</td>\n",
       "    </tr>\n",
       "  </tbody>\n",
       "</table>\n",
       "</div>"
      ],
      "text/plain": [
       "        StationNumber  available_bikes_stands  available_bikes  \\\n",
       "253638             31                      14                6   \n",
       "328920             34                      29                1   \n",
       "133018             96                      15               15   \n",
       "183721             23                      19               11   \n",
       "146362             32                      17               13   \n",
       "\n",
       "             description  temp  temp_min  temp_max  humidity        Day  Hour  \n",
       "253638     broken clouds     8         8         8        76    Tuesday     1  \n",
       "328920     broken clouds    13        12        13        82     Monday     1  \n",
       "133018  scattered clouds     6         5         7        70   Saturday    12  \n",
       "183721  scattered clouds    12        11        13        58  Wednesday    14  \n",
       "146362        light rain    10         9        10        81     Sunday    14  "
      ]
     },
     "execution_count": 4,
     "metadata": {},
     "output_type": "execute_result"
    }
   ],
   "source": [
    "df.head()"
   ]
  },
  {
   "cell_type": "markdown",
   "id": "gross-complement",
   "metadata": {},
   "source": [
    "__Drop columns not needed for model__:"
   ]
  },
  {
   "cell_type": "code",
   "execution_count": 5,
   "id": "equal-consideration",
   "metadata": {},
   "outputs": [],
   "source": [
    "df=df.drop(['temp_min', 'temp_max', 'humidity'], axis=1)"
   ]
  },
  {
   "cell_type": "code",
   "execution_count": 6,
   "id": "danish-regard",
   "metadata": {},
   "outputs": [
    {
     "data": {
      "text/html": [
       "<div>\n",
       "<style scoped>\n",
       "    .dataframe tbody tr th:only-of-type {\n",
       "        vertical-align: middle;\n",
       "    }\n",
       "\n",
       "    .dataframe tbody tr th {\n",
       "        vertical-align: top;\n",
       "    }\n",
       "\n",
       "    .dataframe thead th {\n",
       "        text-align: right;\n",
       "    }\n",
       "</style>\n",
       "<table border=\"1\" class=\"dataframe\">\n",
       "  <thead>\n",
       "    <tr style=\"text-align: right;\">\n",
       "      <th></th>\n",
       "      <th>StationNumber</th>\n",
       "      <th>available_bikes_stands</th>\n",
       "      <th>available_bikes</th>\n",
       "      <th>description</th>\n",
       "      <th>temp</th>\n",
       "      <th>Day</th>\n",
       "      <th>Hour</th>\n",
       "    </tr>\n",
       "  </thead>\n",
       "  <tbody>\n",
       "    <tr>\n",
       "      <th>253638</th>\n",
       "      <td>31</td>\n",
       "      <td>14</td>\n",
       "      <td>6</td>\n",
       "      <td>broken clouds</td>\n",
       "      <td>8</td>\n",
       "      <td>Tuesday</td>\n",
       "      <td>1</td>\n",
       "    </tr>\n",
       "    <tr>\n",
       "      <th>328920</th>\n",
       "      <td>34</td>\n",
       "      <td>29</td>\n",
       "      <td>1</td>\n",
       "      <td>broken clouds</td>\n",
       "      <td>13</td>\n",
       "      <td>Monday</td>\n",
       "      <td>1</td>\n",
       "    </tr>\n",
       "    <tr>\n",
       "      <th>133018</th>\n",
       "      <td>96</td>\n",
       "      <td>15</td>\n",
       "      <td>15</td>\n",
       "      <td>scattered clouds</td>\n",
       "      <td>6</td>\n",
       "      <td>Saturday</td>\n",
       "      <td>12</td>\n",
       "    </tr>\n",
       "    <tr>\n",
       "      <th>183721</th>\n",
       "      <td>23</td>\n",
       "      <td>19</td>\n",
       "      <td>11</td>\n",
       "      <td>scattered clouds</td>\n",
       "      <td>12</td>\n",
       "      <td>Wednesday</td>\n",
       "      <td>14</td>\n",
       "    </tr>\n",
       "    <tr>\n",
       "      <th>146362</th>\n",
       "      <td>32</td>\n",
       "      <td>17</td>\n",
       "      <td>13</td>\n",
       "      <td>light rain</td>\n",
       "      <td>10</td>\n",
       "      <td>Sunday</td>\n",
       "      <td>14</td>\n",
       "    </tr>\n",
       "    <tr>\n",
       "      <th>...</th>\n",
       "      <td>...</td>\n",
       "      <td>...</td>\n",
       "      <td>...</td>\n",
       "      <td>...</td>\n",
       "      <td>...</td>\n",
       "      <td>...</td>\n",
       "      <td>...</td>\n",
       "    </tr>\n",
       "    <tr>\n",
       "      <th>151152</th>\n",
       "      <td>42</td>\n",
       "      <td>18</td>\n",
       "      <td>12</td>\n",
       "      <td>broken clouds</td>\n",
       "      <td>9</td>\n",
       "      <td>Sunday</td>\n",
       "      <td>23</td>\n",
       "    </tr>\n",
       "    <tr>\n",
       "      <th>330105</th>\n",
       "      <td>38</td>\n",
       "      <td>28</td>\n",
       "      <td>12</td>\n",
       "      <td>broken clouds</td>\n",
       "      <td>13</td>\n",
       "      <td>Monday</td>\n",
       "      <td>5</td>\n",
       "    </tr>\n",
       "    <tr>\n",
       "      <th>394997</th>\n",
       "      <td>96</td>\n",
       "      <td>16</td>\n",
       "      <td>14</td>\n",
       "      <td>few clouds</td>\n",
       "      <td>2</td>\n",
       "      <td>Saturday</td>\n",
       "      <td>5</td>\n",
       "    </tr>\n",
       "    <tr>\n",
       "      <th>253884</th>\n",
       "      <td>72</td>\n",
       "      <td>19</td>\n",
       "      <td>12</td>\n",
       "      <td>broken clouds</td>\n",
       "      <td>8</td>\n",
       "      <td>Tuesday</td>\n",
       "      <td>1</td>\n",
       "    </tr>\n",
       "    <tr>\n",
       "      <th>29069</th>\n",
       "      <td>106</td>\n",
       "      <td>23</td>\n",
       "      <td>17</td>\n",
       "      <td>broken clouds</td>\n",
       "      <td>5</td>\n",
       "      <td>Friday</td>\n",
       "      <td>3</td>\n",
       "    </tr>\n",
       "  </tbody>\n",
       "</table>\n",
       "<p>449636 rows × 7 columns</p>\n",
       "</div>"
      ],
      "text/plain": [
       "        StationNumber  available_bikes_stands  available_bikes  \\\n",
       "253638             31                      14                6   \n",
       "328920             34                      29                1   \n",
       "133018             96                      15               15   \n",
       "183721             23                      19               11   \n",
       "146362             32                      17               13   \n",
       "...               ...                     ...              ...   \n",
       "151152             42                      18               12   \n",
       "330105             38                      28               12   \n",
       "394997             96                      16               14   \n",
       "253884             72                      19               12   \n",
       "29069             106                      23               17   \n",
       "\n",
       "             description  temp        Day  Hour  \n",
       "253638     broken clouds     8    Tuesday     1  \n",
       "328920     broken clouds    13     Monday     1  \n",
       "133018  scattered clouds     6   Saturday    12  \n",
       "183721  scattered clouds    12  Wednesday    14  \n",
       "146362        light rain    10     Sunday    14  \n",
       "...                  ...   ...        ...   ...  \n",
       "151152     broken clouds     9     Sunday    23  \n",
       "330105     broken clouds    13     Monday     5  \n",
       "394997        few clouds     2   Saturday     5  \n",
       "253884     broken clouds     8    Tuesday     1  \n",
       "29069      broken clouds     5     Friday     3  \n",
       "\n",
       "[449636 rows x 7 columns]"
      ]
     },
     "execution_count": 6,
     "metadata": {},
     "output_type": "execute_result"
    }
   ],
   "source": [
    "df"
   ]
  },
  {
   "cell_type": "code",
   "execution_count": 31,
   "id": "greatest-cutting",
   "metadata": {},
   "outputs": [
    {
     "data": {
      "text/plain": [
       "array([ 31,  34,  96,  23,  32,  45,   6,   2,  97,  80, 107,   4,  27,\n",
       "        17,  69, 100,  71,  78,  63,  50,  73,  55,  56,  29,  58,  72,\n",
       "        51, 106,  22,  94,  42,  77,  86,  93,  12,  47,  84,  57, 114,\n",
       "        28,  19, 111,  75,  10,  66,  30,  24, 113,  15,  91,  89,  92,\n",
       "        95,  37,  33,  41,  99, 103,  16,  83,  59,  74,  40, 102,  49,\n",
       "        21,  11,  82,  62,   5,  76,  90, 110,  44,  48,  25, 109,  61,\n",
       "        98,  13,  52, 108,  26, 112,  87,  64,  85,  43,  53,  68, 101,\n",
       "       104,  38,   8,   9, 115,   7,  18,  67,  65,  88,  36,  79,  39,\n",
       "       117, 116,   3,  54, 105, 507], dtype=int64)"
      ]
     },
     "execution_count": 31,
     "metadata": {},
     "output_type": "execute_result"
    }
   ],
   "source": [
    "df.StationNumber.unique()"
   ]
  },
  {
   "cell_type": "markdown",
   "id": "directed-slave",
   "metadata": {},
   "source": [
    "__Define a function to encode data__"
   ]
  },
  {
   "cell_type": "code",
   "execution_count": 8,
   "id": "quality-nightmare",
   "metadata": {},
   "outputs": [],
   "source": [
    "def label_enocder(data, list_cat_cols):\n",
    "    '''\n",
    "    Apply Label encoder to the categorical columns (list_cat_cols) in data\n",
    "    \n",
    "    '''\n",
    "    \n",
    "    #Create Label Encoder \n",
    "    for column_name in list_cat_cols:\n",
    "        #Apply label encoder to each column\n",
    "        le = preprocessing.LabelEncoder()\n",
    "        data[column_name + 'NEW'] = preprocessing.LabelEncoder().fit_transform(data[column_name])\n",
    "        \n",
    "    return data\n"
   ]
  },
  {
   "cell_type": "markdown",
   "id": "charming-chinese",
   "metadata": {},
   "source": [
    "__Declare Categorical Data__"
   ]
  },
  {
   "cell_type": "code",
   "execution_count": 9,
   "id": "painted-polls",
   "metadata": {},
   "outputs": [],
   "source": [
    "list_le_cols=['description', 'Day']"
   ]
  },
  {
   "cell_type": "code",
   "execution_count": 11,
   "id": "metallic-deficit",
   "metadata": {},
   "outputs": [],
   "source": [
    "df =  label_enocder(df, list_le_cols)"
   ]
  },
  {
   "cell_type": "code",
   "execution_count": 12,
   "id": "earned-trouble",
   "metadata": {
    "scrolled": false
   },
   "outputs": [],
   "source": [
    "descriptionNEW_vals = df['descriptionNEW'].unique().tolist()\n",
    "DayNEW_vals = df['DayNEW'].unique().tolist()"
   ]
  },
  {
   "cell_type": "markdown",
   "id": "identical-colors",
   "metadata": {},
   "source": [
    "__Create Dictionaries to store the original and encoded values for each categorical Feature__"
   ]
  },
  {
   "cell_type": "code",
   "execution_count": 13,
   "id": "pregnant-payroll",
   "metadata": {},
   "outputs": [
    {
     "data": {
      "text/plain": [
       "{0: 'broken clouds',\n",
       " 10: 'scattered clouds',\n",
       " 5: 'light rain',\n",
       " 1: 'clear sky',\n",
       " 2: 'few clouds',\n",
       " 7: 'mist',\n",
       " 8: 'moderate rain',\n",
       " 6: 'light snow',\n",
       " 9: 'overcast clouds',\n",
       " 3: 'heavy intensity rain',\n",
       " 4: 'light intensity drizzle'}"
      ]
     },
     "execution_count": 13,
     "metadata": {},
     "output_type": "execute_result"
    }
   ],
   "source": [
    "description_dict={}\n",
    "for vals in descriptionNEW_vals:\n",
    "    description_dict[vals]=df.loc[df['descriptionNEW'] == vals, 'description'].iloc[0]\n",
    "description_dict"
   ]
  },
  {
   "cell_type": "code",
   "execution_count": 15,
   "id": "functioning-investing",
   "metadata": {},
   "outputs": [
    {
     "data": {
      "text/plain": [
       "{5: 'Tuesday',\n",
       " 1: 'Monday',\n",
       " 2: 'Saturday',\n",
       " 6: 'Wednesday',\n",
       " 3: 'Sunday',\n",
       " 0: 'Friday',\n",
       " 4: 'Thursday'}"
      ]
     },
     "execution_count": 15,
     "metadata": {},
     "output_type": "execute_result"
    }
   ],
   "source": [
    "DayDict={}\n",
    "for vals in DayNEW_vals:\n",
    "    DayDict[vals]=df.loc[df['DayNEW'] == vals, 'Day'].iloc[0]\n",
    "DayDict  "
   ]
  },
  {
   "cell_type": "code",
   "execution_count": 16,
   "id": "fixed-white",
   "metadata": {
    "scrolled": false
   },
   "outputs": [],
   "source": [
    "#drop the un encoded cat columns\n",
    "df = df.drop(['Day', 'description'], axis=1)"
   ]
  },
  {
   "cell_type": "code",
   "execution_count": 17,
   "id": "approved-insulation",
   "metadata": {},
   "outputs": [
    {
     "data": {
      "text/html": [
       "<div>\n",
       "<style scoped>\n",
       "    .dataframe tbody tr th:only-of-type {\n",
       "        vertical-align: middle;\n",
       "    }\n",
       "\n",
       "    .dataframe tbody tr th {\n",
       "        vertical-align: top;\n",
       "    }\n",
       "\n",
       "    .dataframe thead th {\n",
       "        text-align: right;\n",
       "    }\n",
       "</style>\n",
       "<table border=\"1\" class=\"dataframe\">\n",
       "  <thead>\n",
       "    <tr style=\"text-align: right;\">\n",
       "      <th></th>\n",
       "      <th>StationNumber</th>\n",
       "      <th>available_bikes_stands</th>\n",
       "      <th>available_bikes</th>\n",
       "      <th>temp</th>\n",
       "      <th>Hour</th>\n",
       "      <th>descriptionNEW</th>\n",
       "      <th>DayNEW</th>\n",
       "    </tr>\n",
       "  </thead>\n",
       "  <tbody>\n",
       "    <tr>\n",
       "      <th>253638</th>\n",
       "      <td>31</td>\n",
       "      <td>14</td>\n",
       "      <td>6</td>\n",
       "      <td>8</td>\n",
       "      <td>1</td>\n",
       "      <td>0</td>\n",
       "      <td>5</td>\n",
       "    </tr>\n",
       "    <tr>\n",
       "      <th>328920</th>\n",
       "      <td>34</td>\n",
       "      <td>29</td>\n",
       "      <td>1</td>\n",
       "      <td>13</td>\n",
       "      <td>1</td>\n",
       "      <td>0</td>\n",
       "      <td>1</td>\n",
       "    </tr>\n",
       "    <tr>\n",
       "      <th>133018</th>\n",
       "      <td>96</td>\n",
       "      <td>15</td>\n",
       "      <td>15</td>\n",
       "      <td>6</td>\n",
       "      <td>12</td>\n",
       "      <td>10</td>\n",
       "      <td>2</td>\n",
       "    </tr>\n",
       "    <tr>\n",
       "      <th>183721</th>\n",
       "      <td>23</td>\n",
       "      <td>19</td>\n",
       "      <td>11</td>\n",
       "      <td>12</td>\n",
       "      <td>14</td>\n",
       "      <td>10</td>\n",
       "      <td>6</td>\n",
       "    </tr>\n",
       "    <tr>\n",
       "      <th>146362</th>\n",
       "      <td>32</td>\n",
       "      <td>17</td>\n",
       "      <td>13</td>\n",
       "      <td>10</td>\n",
       "      <td>14</td>\n",
       "      <td>5</td>\n",
       "      <td>3</td>\n",
       "    </tr>\n",
       "    <tr>\n",
       "      <th>...</th>\n",
       "      <td>...</td>\n",
       "      <td>...</td>\n",
       "      <td>...</td>\n",
       "      <td>...</td>\n",
       "      <td>...</td>\n",
       "      <td>...</td>\n",
       "      <td>...</td>\n",
       "    </tr>\n",
       "    <tr>\n",
       "      <th>151152</th>\n",
       "      <td>42</td>\n",
       "      <td>18</td>\n",
       "      <td>12</td>\n",
       "      <td>9</td>\n",
       "      <td>23</td>\n",
       "      <td>0</td>\n",
       "      <td>3</td>\n",
       "    </tr>\n",
       "    <tr>\n",
       "      <th>330105</th>\n",
       "      <td>38</td>\n",
       "      <td>28</td>\n",
       "      <td>12</td>\n",
       "      <td>13</td>\n",
       "      <td>5</td>\n",
       "      <td>0</td>\n",
       "      <td>1</td>\n",
       "    </tr>\n",
       "    <tr>\n",
       "      <th>394997</th>\n",
       "      <td>96</td>\n",
       "      <td>16</td>\n",
       "      <td>14</td>\n",
       "      <td>2</td>\n",
       "      <td>5</td>\n",
       "      <td>2</td>\n",
       "      <td>2</td>\n",
       "    </tr>\n",
       "    <tr>\n",
       "      <th>253884</th>\n",
       "      <td>72</td>\n",
       "      <td>19</td>\n",
       "      <td>12</td>\n",
       "      <td>8</td>\n",
       "      <td>1</td>\n",
       "      <td>0</td>\n",
       "      <td>5</td>\n",
       "    </tr>\n",
       "    <tr>\n",
       "      <th>29069</th>\n",
       "      <td>106</td>\n",
       "      <td>23</td>\n",
       "      <td>17</td>\n",
       "      <td>5</td>\n",
       "      <td>3</td>\n",
       "      <td>0</td>\n",
       "      <td>0</td>\n",
       "    </tr>\n",
       "  </tbody>\n",
       "</table>\n",
       "<p>449636 rows × 7 columns</p>\n",
       "</div>"
      ],
      "text/plain": [
       "        StationNumber  available_bikes_stands  available_bikes  temp  Hour  \\\n",
       "253638             31                      14                6     8     1   \n",
       "328920             34                      29                1    13     1   \n",
       "133018             96                      15               15     6    12   \n",
       "183721             23                      19               11    12    14   \n",
       "146362             32                      17               13    10    14   \n",
       "...               ...                     ...              ...   ...   ...   \n",
       "151152             42                      18               12     9    23   \n",
       "330105             38                      28               12    13     5   \n",
       "394997             96                      16               14     2     5   \n",
       "253884             72                      19               12     8     1   \n",
       "29069             106                      23               17     5     3   \n",
       "\n",
       "        descriptionNEW  DayNEW  \n",
       "253638               0       5  \n",
       "328920               0       1  \n",
       "133018              10       2  \n",
       "183721              10       6  \n",
       "146362               5       3  \n",
       "...                ...     ...  \n",
       "151152               0       3  \n",
       "330105               0       1  \n",
       "394997               2       2  \n",
       "253884               0       5  \n",
       "29069                0       0  \n",
       "\n",
       "[449636 rows x 7 columns]"
      ]
     },
     "execution_count": 17,
     "metadata": {},
     "output_type": "execute_result"
    }
   ],
   "source": [
    "df"
   ]
  },
  {
   "cell_type": "markdown",
   "id": "saved-brick",
   "metadata": {},
   "source": [
    "__Seperate Dataframe into a list of df's grouped by station number__"
   ]
  },
  {
   "cell_type": "code",
   "execution_count": 18,
   "id": "protective-charm",
   "metadata": {},
   "outputs": [],
   "source": [
    "dfseperated = [x for _, x in df.groupby('StationNumber')]\n",
    "        "
   ]
  },
  {
   "cell_type": "code",
   "execution_count": 19,
   "id": "satellite-attack",
   "metadata": {
    "scrolled": true
   },
   "outputs": [
    {
     "data": {
      "text/html": [
       "<div>\n",
       "<style scoped>\n",
       "    .dataframe tbody tr th:only-of-type {\n",
       "        vertical-align: middle;\n",
       "    }\n",
       "\n",
       "    .dataframe tbody tr th {\n",
       "        vertical-align: top;\n",
       "    }\n",
       "\n",
       "    .dataframe thead th {\n",
       "        text-align: right;\n",
       "    }\n",
       "</style>\n",
       "<table border=\"1\" class=\"dataframe\">\n",
       "  <thead>\n",
       "    <tr style=\"text-align: right;\">\n",
       "      <th></th>\n",
       "      <th>StationNumber</th>\n",
       "      <th>available_bikes_stands</th>\n",
       "      <th>available_bikes</th>\n",
       "      <th>temp</th>\n",
       "      <th>Hour</th>\n",
       "      <th>descriptionNEW</th>\n",
       "      <th>DayNEW</th>\n",
       "    </tr>\n",
       "  </thead>\n",
       "  <tbody>\n",
       "    <tr>\n",
       "      <th>392942</th>\n",
       "      <td>2</td>\n",
       "      <td>16</td>\n",
       "      <td>4</td>\n",
       "      <td>2</td>\n",
       "      <td>0</td>\n",
       "      <td>1</td>\n",
       "      <td>2</td>\n",
       "    </tr>\n",
       "    <tr>\n",
       "      <th>171352</th>\n",
       "      <td>2</td>\n",
       "      <td>6</td>\n",
       "      <td>14</td>\n",
       "      <td>14</td>\n",
       "      <td>14</td>\n",
       "      <td>2</td>\n",
       "      <td>5</td>\n",
       "    </tr>\n",
       "    <tr>\n",
       "      <th>294319</th>\n",
       "      <td>2</td>\n",
       "      <td>19</td>\n",
       "      <td>1</td>\n",
       "      <td>4</td>\n",
       "      <td>6</td>\n",
       "      <td>10</td>\n",
       "      <td>0</td>\n",
       "    </tr>\n",
       "    <tr>\n",
       "      <th>137081</th>\n",
       "      <td>2</td>\n",
       "      <td>10</td>\n",
       "      <td>10</td>\n",
       "      <td>5</td>\n",
       "      <td>19</td>\n",
       "      <td>8</td>\n",
       "      <td>2</td>\n",
       "    </tr>\n",
       "    <tr>\n",
       "      <th>399399</th>\n",
       "      <td>2</td>\n",
       "      <td>18</td>\n",
       "      <td>2</td>\n",
       "      <td>11</td>\n",
       "      <td>13</td>\n",
       "      <td>10</td>\n",
       "      <td>2</td>\n",
       "    </tr>\n",
       "    <tr>\n",
       "      <th>...</th>\n",
       "      <td>...</td>\n",
       "      <td>...</td>\n",
       "      <td>...</td>\n",
       "      <td>...</td>\n",
       "      <td>...</td>\n",
       "      <td>...</td>\n",
       "      <td>...</td>\n",
       "    </tr>\n",
       "    <tr>\n",
       "      <th>421785</th>\n",
       "      <td>2</td>\n",
       "      <td>17</td>\n",
       "      <td>3</td>\n",
       "      <td>3</td>\n",
       "      <td>8</td>\n",
       "      <td>0</td>\n",
       "      <td>1</td>\n",
       "    </tr>\n",
       "    <tr>\n",
       "      <th>98749</th>\n",
       "      <td>2</td>\n",
       "      <td>14</td>\n",
       "      <td>6</td>\n",
       "      <td>12</td>\n",
       "      <td>17</td>\n",
       "      <td>0</td>\n",
       "      <td>6</td>\n",
       "    </tr>\n",
       "    <tr>\n",
       "      <th>373794</th>\n",
       "      <td>2</td>\n",
       "      <td>13</td>\n",
       "      <td>7</td>\n",
       "      <td>8</td>\n",
       "      <td>13</td>\n",
       "      <td>9</td>\n",
       "      <td>4</td>\n",
       "    </tr>\n",
       "    <tr>\n",
       "      <th>272319</th>\n",
       "      <td>2</td>\n",
       "      <td>12</td>\n",
       "      <td>7</td>\n",
       "      <td>12</td>\n",
       "      <td>12</td>\n",
       "      <td>10</td>\n",
       "      <td>6</td>\n",
       "    </tr>\n",
       "    <tr>\n",
       "      <th>161373</th>\n",
       "      <td>2</td>\n",
       "      <td>7</td>\n",
       "      <td>13</td>\n",
       "      <td>12</td>\n",
       "      <td>19</td>\n",
       "      <td>0</td>\n",
       "      <td>1</td>\n",
       "    </tr>\n",
       "  </tbody>\n",
       "</table>\n",
       "<p>4069 rows × 7 columns</p>\n",
       "</div>"
      ],
      "text/plain": [
       "        StationNumber  available_bikes_stands  available_bikes  temp  Hour  \\\n",
       "392942              2                      16                4     2     0   \n",
       "171352              2                       6               14    14    14   \n",
       "294319              2                      19                1     4     6   \n",
       "137081              2                      10               10     5    19   \n",
       "399399              2                      18                2    11    13   \n",
       "...               ...                     ...              ...   ...   ...   \n",
       "421785              2                      17                3     3     8   \n",
       "98749               2                      14                6    12    17   \n",
       "373794              2                      13                7     8    13   \n",
       "272319              2                      12                7    12    12   \n",
       "161373              2                       7               13    12    19   \n",
       "\n",
       "        descriptionNEW  DayNEW  \n",
       "392942               1       2  \n",
       "171352               2       5  \n",
       "294319              10       0  \n",
       "137081               8       2  \n",
       "399399              10       2  \n",
       "...                ...     ...  \n",
       "421785               0       1  \n",
       "98749                0       6  \n",
       "373794               9       4  \n",
       "272319              10       6  \n",
       "161373               0       1  \n",
       "\n",
       "[4069 rows x 7 columns]"
      ]
     },
     "execution_count": 19,
     "metadata": {},
     "output_type": "execute_result"
    }
   ],
   "source": [
    "dfseperated[0]"
   ]
  },
  {
   "cell_type": "markdown",
   "id": "irish-associate",
   "metadata": {},
   "source": [
    "__Declare Target Values__"
   ]
  },
  {
   "cell_type": "code",
   "execution_count": 20,
   "id": "deadly-labor",
   "metadata": {},
   "outputs": [],
   "source": [
    "predict = 'available_bikes'"
   ]
  },
  {
   "cell_type": "code",
   "execution_count": 21,
   "id": "athletic-policy",
   "metadata": {},
   "outputs": [],
   "source": [
    "predictStands='available_bikes_stands'"
   ]
  },
  {
   "cell_type": "markdown",
   "id": "important-spirit",
   "metadata": {},
   "source": [
    "__Store Station Numbers in List - Visualisation Purposes__"
   ]
  },
  {
   "cell_type": "code",
   "execution_count": 22,
   "id": "continued-chosen",
   "metadata": {},
   "outputs": [
    {
     "data": {
      "text/plain": [
       "110"
      ]
     },
     "execution_count": 22,
     "metadata": {},
     "output_type": "execute_result"
    }
   ],
   "source": [
    "stations=[]\n",
    "for index in range(len(dfseperated)):\n",
    "    stations+=[dfseperated[index].StationNumber.unique().tolist()]\n",
    "len(stations)"
   ]
  },
  {
   "cell_type": "markdown",
   "id": "satisfied-knife",
   "metadata": {},
   "source": [
    "__KNeighbors Classifier for Bikes Available - Each station model stored in a dict__"
   ]
  },
  {
   "cell_type": "code",
   "execution_count": 44,
   "id": "strategic-delicious",
   "metadata": {
    "scrolled": true
   },
   "outputs": [],
   "source": [
    "import pickle\n",
    "from sklearn.neighbors import KNeighborsClassifier\n",
    "bikesDict={}\n",
    "for index in range(len(dfseperated)):\n",
    "    stationNum = (dfseperated[index].iloc[0].StationNumber)\n",
    "    X = np.array(dfseperated[index].drop(['StationNumber','available_bikes', 'available_bikes_stands'], 1))\n",
    "    y = np.array(dfseperated[index][predict])\n",
    "   \n",
    "    x_train,x_test, y_train, y_test = sklearn.model_selection.train_test_split(X, y, test_size = 0.3)\n",
    "    model = KNeighborsClassifier(n_neighbors=5)\n",
    "    model.fit(x_train, y_train)\n",
    "   \n",
    "    acc = model.score(x_test, y_test)\n",
    "#     print(\"Station Number:\", stationNum) \n",
    "#     print(\"Accuracy: \",acc*100)    \n",
    "    bikesDict[stationNum]=model\n",
    "#     filename=(str(stationNum) + \"Bikes.pkl\")\n",
    "#     with open(filename, \"wb\") as f:\n",
    "#         pickle.dump(model, f)\n"
   ]
  },
  {
   "cell_type": "markdown",
   "id": "educational-construction",
   "metadata": {},
   "source": [
    "__KNeighbors Classifier for Stands Available - Each station model stored in a dict__"
   ]
  },
  {
   "cell_type": "code",
   "execution_count": 45,
   "id": "centered-armor",
   "metadata": {},
   "outputs": [],
   "source": [
    "import pickle\n",
    "StandsDict={}\n",
    "for index in range(len(dfseperated)):\n",
    "    stationNum = (dfseperated[index].iloc[0].StationNumber)\n",
    "    X = np.array(dfseperated[index].drop(['StationNumber','available_bikes_stands', 'available_bikes'], 1))\n",
    "    y = np.array(dfseperated[index][predictStands])\n",
    "   \n",
    "    x_train,x_test, y_train, y_test = sklearn.model_selection.train_test_split(X, y, test_size = 0.3)\n",
    "    model = KNeighborsClassifier(n_neighbors=5)\n",
    "    model.fit(x_train, y_train)\n",
    "    \n",
    "    acc = model.score(x_test, y_test)\n",
    "#     print(\"Station Number:\", stationNum)\n",
    "#     print(\"Accuracy: \",acc*100)    \n",
    "    \n",
    "    StandsDict[stationNum]=model\n",
    "#     filename=(str(stationNum) + \"Stands.pkl\")\n",
    "#     with open(filename, \"wb\") as f:\n",
    "#         pickle.dump(model, f)\n"
   ]
  },
  {
   "cell_type": "markdown",
   "id": "respected-strike",
   "metadata": {},
   "source": [
    "__Demonstrating Model for Station 507__"
   ]
  },
  {
   "cell_type": "code",
   "execution_count": 34,
   "id": "secure-avatar",
   "metadata": {},
   "outputs": [],
   "source": [
    "model_Station117=StandsDict[507]"
   ]
  },
  {
   "cell_type": "code",
   "execution_count": 35,
   "id": "fancy-standing",
   "metadata": {},
   "outputs": [],
   "source": [
    "predictions = model_Station117.predict(x_test)"
   ]
  },
  {
   "cell_type": "code",
   "execution_count": 41,
   "id": "collected-legend",
   "metadata": {},
   "outputs": [],
   "source": [
    "# for x in range(len(predictions)):\n",
    "#     print(\"Predicted: \", predictions[x], \"Actual: \", y_test[x])"
   ]
  },
  {
   "cell_type": "code",
   "execution_count": 42,
   "id": "developing-fetish",
   "metadata": {},
   "outputs": [
    {
     "name": "stderr",
     "output_type": "stream",
     "text": [
      "c:\\users\\jelly\\anaconda3\\envs\\comp30830\\lib\\site-packages\\seaborn\\distributions.py:2557: FutureWarning: `distplot` is a deprecated function and will be removed in a future version. Please adapt your code to use either `displot` (a figure-level function with similar flexibility) or `kdeplot` (an axes-level function for kernel density plots).\n",
      "  warnings.warn(msg, FutureWarning)\n",
      "c:\\users\\jelly\\anaconda3\\envs\\comp30830\\lib\\site-packages\\seaborn\\distributions.py:2557: FutureWarning: `distplot` is a deprecated function and will be removed in a future version. Please adapt your code to use either `displot` (a figure-level function with similar flexibility) or `kdeplot` (an axes-level function for kernel density plots).\n",
      "  warnings.warn(msg, FutureWarning)\n"
     ]
    },
    {
     "data": {
      "text/plain": [
       "<matplotlib.legend.Legend at 0x180ed74cac0>"
      ]
     },
     "execution_count": 42,
     "metadata": {},
     "output_type": "execute_result"
    },
    {
     "data": {
      "image/png": "[encoded data removed]",
      "text/plain": [
       "<Figure size 360x504 with 1 Axes>"
      ]
     },
     "metadata": {
      "needs_background": "light"
     },
     "output_type": "display_data"
    }
   ],
   "source": [
    "import matplotlib.pyplot as plt\n",
    "import seaborn as sns\n",
    "%matplotlib inline\n",
    "plt.figure(figsize=(5, 7))\n",
    "ax = sns.distplot(y_test, hist=False, color=\"b\", label=\"Actual Value\")\n",
    "sns.distplot(predictions, hist=False, color=\"g\", label=\"Fitted Values\" , ax=ax)\n",
    "plt.legend()\n"
   ]
  },
  {
   "cell_type": "code",
   "execution_count": null,
   "id": "wrapped-stupid",
   "metadata": {},
   "outputs": [],
   "source": []
  }
 ],
 "metadata": {
  "kernelspec": {
   "display_name": "Python 3",
   "language": "python",
   "name": "python3"
  },
  "language_info": {
   "codemirror_mode": {
    "name": "ipython",
    "version": 3
   },
   "file_extension": ".py",
   "mimetype": "text/x-python",
   "name": "python",
   "nbconvert_exporter": "python",
   "pygments_lexer": "ipython3",
   "version": "3.9.1"
  }
 },
 "nbformat": 4,
 "nbformat_minor": 5
}
