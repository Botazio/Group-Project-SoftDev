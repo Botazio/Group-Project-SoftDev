{
 "cells": [
  {
   "cell_type": "code",
   "execution_count": 1,
   "id": "moderate-hypothetical",
   "metadata": {},
   "outputs": [],
   "source": [
    "#import modules needed\n",
    "import pandas as pd\n",
    "import numpy as np\n",
    "from sklearn.preprocessing import LabelEncoder\n",
    "from sklearn import preprocessing\n",
    "from sklearn import linear_model\n",
    "import sklearn"
   ]
  },
  {
   "cell_type": "markdown",
   "id": "challenging-referral",
   "metadata": {},
   "source": [
    "__Read in cleaned dataset__"
   ]
  },
  {
   "cell_type": "code",
   "execution_count": 2,
   "id": "amended-spiritual",
   "metadata": {},
   "outputs": [],
   "source": [
    "df = df = pd.read_csv('availbikes.csv', sep=',\\s+', delimiter=',')"
   ]
  },
  {
   "cell_type": "code",
   "execution_count": 3,
   "id": "southwest-professor",
   "metadata": {},
   "outputs": [],
   "source": [
    "df=sklearn.utils.shuffle(df)"
   ]
  },
  {
   "cell_type": "code",
   "execution_count": 4,
   "id": "listed-facial",
   "metadata": {},
   "outputs": [
    {
     "data": {
      "text/html": [
       "<div>\n",
       "<style scoped>\n",
       "    .dataframe tbody tr th:only-of-type {\n",
       "        vertical-align: middle;\n",
       "    }\n",
       "\n",
       "    .dataframe tbody tr th {\n",
       "        vertical-align: top;\n",
       "    }\n",
       "\n",
       "    .dataframe thead th {\n",
       "        text-align: right;\n",
       "    }\n",
       "</style>\n",
       "<table border=\"1\" class=\"dataframe\">\n",
       "  <thead>\n",
       "    <tr style=\"text-align: right;\">\n",
       "      <th></th>\n",
       "      <th>StationNumber</th>\n",
       "      <th>available_bikes_stands</th>\n",
       "      <th>available_bikes</th>\n",
       "      <th>description</th>\n",
       "      <th>temp</th>\n",
       "      <th>temp_min</th>\n",
       "      <th>temp_max</th>\n",
       "      <th>humidity</th>\n",
       "      <th>Day</th>\n",
       "      <th>TimeOfDay</th>\n",
       "    </tr>\n",
       "  </thead>\n",
       "  <tbody>\n",
       "    <tr>\n",
       "      <th>61114</th>\n",
       "      <td>6</td>\n",
       "      <td>17</td>\n",
       "      <td>3</td>\n",
       "      <td>scattered clouds</td>\n",
       "      <td>9</td>\n",
       "      <td>8</td>\n",
       "      <td>9</td>\n",
       "      <td>57</td>\n",
       "      <td>Sunday</td>\n",
       "      <td>Evening</td>\n",
       "    </tr>\n",
       "    <tr>\n",
       "      <th>286144</th>\n",
       "      <td>37</td>\n",
       "      <td>26</td>\n",
       "      <td>4</td>\n",
       "      <td>scattered clouds</td>\n",
       "      <td>12</td>\n",
       "      <td>12</td>\n",
       "      <td>12</td>\n",
       "      <td>76</td>\n",
       "      <td>Thursday</td>\n",
       "      <td>Afternoon</td>\n",
       "    </tr>\n",
       "    <tr>\n",
       "      <th>283854</th>\n",
       "      <td>52</td>\n",
       "      <td>27</td>\n",
       "      <td>5</td>\n",
       "      <td>light rain</td>\n",
       "      <td>10</td>\n",
       "      <td>9</td>\n",
       "      <td>11</td>\n",
       "      <td>76</td>\n",
       "      <td>Thursday</td>\n",
       "      <td>Morning</td>\n",
       "    </tr>\n",
       "    <tr>\n",
       "      <th>207101</th>\n",
       "      <td>95</td>\n",
       "      <td>27</td>\n",
       "      <td>13</td>\n",
       "      <td>broken clouds</td>\n",
       "      <td>8</td>\n",
       "      <td>7</td>\n",
       "      <td>10</td>\n",
       "      <td>93</td>\n",
       "      <td>Friday</td>\n",
       "      <td>Morning</td>\n",
       "    </tr>\n",
       "    <tr>\n",
       "      <th>199999</th>\n",
       "      <td>43</td>\n",
       "      <td>12</td>\n",
       "      <td>18</td>\n",
       "      <td>broken clouds</td>\n",
       "      <td>11</td>\n",
       "      <td>11</td>\n",
       "      <td>12</td>\n",
       "      <td>82</td>\n",
       "      <td>Thursday</td>\n",
       "      <td>Evening</td>\n",
       "    </tr>\n",
       "  </tbody>\n",
       "</table>\n",
       "</div>"
      ],
      "text/plain": [
       "        StationNumber  available_bikes_stands  available_bikes  \\\n",
       "61114               6                      17                3   \n",
       "286144             37                      26                4   \n",
       "283854             52                      27                5   \n",
       "207101             95                      27               13   \n",
       "199999             43                      12               18   \n",
       "\n",
       "             description  temp  temp_min  temp_max  humidity       Day  \\\n",
       "61114   scattered clouds     9         8         9        57    Sunday   \n",
       "286144  scattered clouds    12        12        12        76  Thursday   \n",
       "283854        light rain    10         9        11        76  Thursday   \n",
       "207101     broken clouds     8         7        10        93    Friday   \n",
       "199999     broken clouds    11        11        12        82  Thursday   \n",
       "\n",
       "        TimeOfDay  \n",
       "61114     Evening  \n",
       "286144  Afternoon  \n",
       "283854    Morning  \n",
       "207101    Morning  \n",
       "199999    Evening  "
      ]
     },
     "execution_count": 4,
     "metadata": {},
     "output_type": "execute_result"
    }
   ],
   "source": [
    "df.head()"
   ]
  },
  {
   "cell_type": "markdown",
   "id": "gross-complement",
   "metadata": {},
   "source": [
    "__Drop columns not needed for model__:"
   ]
  },
  {
   "cell_type": "code",
   "execution_count": 5,
   "id": "equal-consideration",
   "metadata": {},
   "outputs": [],
   "source": [
    "df=df.drop(['temp_min', 'temp_max', 'humidity'], axis=1)"
   ]
  },
  {
   "cell_type": "code",
   "execution_count": 6,
   "id": "danish-regard",
   "metadata": {},
   "outputs": [
    {
     "data": {
      "text/html": [
       "<div>\n",
       "<style scoped>\n",
       "    .dataframe tbody tr th:only-of-type {\n",
       "        vertical-align: middle;\n",
       "    }\n",
       "\n",
       "    .dataframe tbody tr th {\n",
       "        vertical-align: top;\n",
       "    }\n",
       "\n",
       "    .dataframe thead th {\n",
       "        text-align: right;\n",
       "    }\n",
       "</style>\n",
       "<table border=\"1\" class=\"dataframe\">\n",
       "  <thead>\n",
       "    <tr style=\"text-align: right;\">\n",
       "      <th></th>\n",
       "      <th>StationNumber</th>\n",
       "      <th>available_bikes_stands</th>\n",
       "      <th>available_bikes</th>\n",
       "      <th>description</th>\n",
       "      <th>temp</th>\n",
       "      <th>Day</th>\n",
       "      <th>TimeOfDay</th>\n",
       "    </tr>\n",
       "  </thead>\n",
       "  <tbody>\n",
       "    <tr>\n",
       "      <th>61114</th>\n",
       "      <td>6</td>\n",
       "      <td>17</td>\n",
       "      <td>3</td>\n",
       "      <td>scattered clouds</td>\n",
       "      <td>9</td>\n",
       "      <td>Sunday</td>\n",
       "      <td>Evening</td>\n",
       "    </tr>\n",
       "    <tr>\n",
       "      <th>286144</th>\n",
       "      <td>37</td>\n",
       "      <td>26</td>\n",
       "      <td>4</td>\n",
       "      <td>scattered clouds</td>\n",
       "      <td>12</td>\n",
       "      <td>Thursday</td>\n",
       "      <td>Afternoon</td>\n",
       "    </tr>\n",
       "    <tr>\n",
       "      <th>283854</th>\n",
       "      <td>52</td>\n",
       "      <td>27</td>\n",
       "      <td>5</td>\n",
       "      <td>light rain</td>\n",
       "      <td>10</td>\n",
       "      <td>Thursday</td>\n",
       "      <td>Morning</td>\n",
       "    </tr>\n",
       "    <tr>\n",
       "      <th>207101</th>\n",
       "      <td>95</td>\n",
       "      <td>27</td>\n",
       "      <td>13</td>\n",
       "      <td>broken clouds</td>\n",
       "      <td>8</td>\n",
       "      <td>Friday</td>\n",
       "      <td>Morning</td>\n",
       "    </tr>\n",
       "    <tr>\n",
       "      <th>199999</th>\n",
       "      <td>43</td>\n",
       "      <td>12</td>\n",
       "      <td>18</td>\n",
       "      <td>broken clouds</td>\n",
       "      <td>11</td>\n",
       "      <td>Thursday</td>\n",
       "      <td>Evening</td>\n",
       "    </tr>\n",
       "    <tr>\n",
       "      <th>...</th>\n",
       "      <td>...</td>\n",
       "      <td>...</td>\n",
       "      <td>...</td>\n",
       "      <td>...</td>\n",
       "      <td>...</td>\n",
       "      <td>...</td>\n",
       "      <td>...</td>\n",
       "    </tr>\n",
       "    <tr>\n",
       "      <th>169781</th>\n",
       "      <td>73</td>\n",
       "      <td>20</td>\n",
       "      <td>9</td>\n",
       "      <td>scattered clouds</td>\n",
       "      <td>13</td>\n",
       "      <td>Tuesday</td>\n",
       "      <td>Afternoon</td>\n",
       "    </tr>\n",
       "    <tr>\n",
       "      <th>181262</th>\n",
       "      <td>111</td>\n",
       "      <td>26</td>\n",
       "      <td>14</td>\n",
       "      <td>broken clouds</td>\n",
       "      <td>9</td>\n",
       "      <td>Wednesday</td>\n",
       "      <td>Morning</td>\n",
       "    </tr>\n",
       "    <tr>\n",
       "      <th>268164</th>\n",
       "      <td>116</td>\n",
       "      <td>16</td>\n",
       "      <td>14</td>\n",
       "      <td>broken clouds</td>\n",
       "      <td>6</td>\n",
       "      <td>Wednesday</td>\n",
       "      <td>Night</td>\n",
       "    </tr>\n",
       "    <tr>\n",
       "      <th>228151</th>\n",
       "      <td>4</td>\n",
       "      <td>6</td>\n",
       "      <td>14</td>\n",
       "      <td>broken clouds</td>\n",
       "      <td>8</td>\n",
       "      <td>Sunday</td>\n",
       "      <td>Night</td>\n",
       "    </tr>\n",
       "    <tr>\n",
       "      <th>28931</th>\n",
       "      <td>4</td>\n",
       "      <td>14</td>\n",
       "      <td>5</td>\n",
       "      <td>broken clouds</td>\n",
       "      <td>5</td>\n",
       "      <td>Friday</td>\n",
       "      <td>Night</td>\n",
       "    </tr>\n",
       "  </tbody>\n",
       "</table>\n",
       "<p>295906 rows × 7 columns</p>\n",
       "</div>"
      ],
      "text/plain": [
       "        StationNumber  available_bikes_stands  available_bikes  \\\n",
       "61114               6                      17                3   \n",
       "286144             37                      26                4   \n",
       "283854             52                      27                5   \n",
       "207101             95                      27               13   \n",
       "199999             43                      12               18   \n",
       "...               ...                     ...              ...   \n",
       "169781             73                      20                9   \n",
       "181262            111                      26               14   \n",
       "268164            116                      16               14   \n",
       "228151              4                       6               14   \n",
       "28931               4                      14                5   \n",
       "\n",
       "             description  temp        Day  TimeOfDay  \n",
       "61114   scattered clouds     9     Sunday    Evening  \n",
       "286144  scattered clouds    12   Thursday  Afternoon  \n",
       "283854        light rain    10   Thursday    Morning  \n",
       "207101     broken clouds     8     Friday    Morning  \n",
       "199999     broken clouds    11   Thursday    Evening  \n",
       "...                  ...   ...        ...        ...  \n",
       "169781  scattered clouds    13    Tuesday  Afternoon  \n",
       "181262     broken clouds     9  Wednesday    Morning  \n",
       "268164     broken clouds     6  Wednesday      Night  \n",
       "228151     broken clouds     8     Sunday      Night  \n",
       "28931      broken clouds     5     Friday      Night  \n",
       "\n",
       "[295906 rows x 7 columns]"
      ]
     },
     "execution_count": 6,
     "metadata": {},
     "output_type": "execute_result"
    }
   ],
   "source": [
    "df"
   ]
  },
  {
   "cell_type": "code",
   "execution_count": 7,
   "id": "greatest-cutting",
   "metadata": {},
   "outputs": [
    {
     "data": {
      "text/plain": [
       "109"
      ]
     },
     "execution_count": 7,
     "metadata": {},
     "output_type": "execute_result"
    }
   ],
   "source": [
    "df.StationNumber.nunique()"
   ]
  },
  {
   "cell_type": "markdown",
   "id": "directed-slave",
   "metadata": {},
   "source": [
    "__Define a function to encode data__"
   ]
  },
  {
   "cell_type": "code",
   "execution_count": 8,
   "id": "quality-nightmare",
   "metadata": {},
   "outputs": [],
   "source": [
    "def label_enocder(data, list_cat_cols):\n",
    "    '''\n",
    "    Apply Label encoder to the categorical columns (list_cat_cols) in data\n",
    "    \n",
    "    '''\n",
    "    \n",
    "    #Create Label Encoder \n",
    "    for column_name in list_cat_cols:\n",
    "        #Apply label encoder to each column\n",
    "        le = preprocessing.LabelEncoder()\n",
    "        data[column_name + 'NEW'] = preprocessing.LabelEncoder().fit_transform(data[column_name])\n",
    "        \n",
    "    return data\n"
   ]
  },
  {
   "cell_type": "markdown",
   "id": "charming-chinese",
   "metadata": {},
   "source": [
    "__Declare Categorical Data__"
   ]
  },
  {
   "cell_type": "code",
   "execution_count": 9,
   "id": "painted-polls",
   "metadata": {},
   "outputs": [],
   "source": [
    "list_le_cols=['description', 'Day', 'TimeOfDay']"
   ]
  },
  {
   "cell_type": "code",
   "execution_count": 10,
   "id": "ethical-medicaid",
   "metadata": {},
   "outputs": [],
   "source": [
    "# cat_cols_df = df[['description', 'Day', 'TimeOfDay']].copy()"
   ]
  },
  {
   "cell_type": "code",
   "execution_count": 11,
   "id": "metallic-deficit",
   "metadata": {},
   "outputs": [],
   "source": [
    "df =  label_enocder(df, list_le_cols)"
   ]
  },
  {
   "cell_type": "code",
   "execution_count": 12,
   "id": "earned-trouble",
   "metadata": {
    "scrolled": false
   },
   "outputs": [],
   "source": [
    "descriptionNEW_vals = df['descriptionNEW'].unique().tolist()\n",
    "time_New_vals = df['TimeOfDayNEW'].unique().tolist()\n",
    "DayNEW_vals = df['DayNEW'].unique().tolist()"
   ]
  },
  {
   "cell_type": "markdown",
   "id": "identical-colors",
   "metadata": {},
   "source": [
    "__Create Dictionaries to store the original and encoded values for each categorical Feature__"
   ]
  },
  {
   "cell_type": "code",
   "execution_count": 13,
   "id": "pregnant-payroll",
   "metadata": {},
   "outputs": [
    {
     "data": {
      "text/plain": [
       "{9: 'scattered clouds',\n",
       " 5: 'light rain',\n",
       " 0: 'broken clouds',\n",
       " 2: 'few clouds',\n",
       " 8: 'overcast clouds',\n",
       " 1: 'clear sky',\n",
       " 4: 'light intensity drizzle',\n",
       " 6: 'mist',\n",
       " 7: 'moderate rain',\n",
       " 3: 'heavy intensity rain'}"
      ]
     },
     "execution_count": 13,
     "metadata": {},
     "output_type": "execute_result"
    }
   ],
   "source": [
    "description_dict={}\n",
    "for vals in descriptionNEW_vals:\n",
    "    description_dict[vals]=df.loc[df['descriptionNEW'] == vals, 'description'].iloc[0]\n",
    "description_dict"
   ]
  },
  {
   "cell_type": "code",
   "execution_count": 14,
   "id": "configured-rover",
   "metadata": {},
   "outputs": [
    {
     "data": {
      "text/plain": [
       "{1: 'Evening', 0: 'Afternoon', 2: 'Morning', 3: 'Night'}"
      ]
     },
     "execution_count": 14,
     "metadata": {},
     "output_type": "execute_result"
    }
   ],
   "source": [
    "TimeOfDayDict={}\n",
    "for vals in time_New_vals:\n",
    "    TimeOfDayDict[vals]=df.loc[df['TimeOfDayNEW'] == vals, 'TimeOfDay'].iloc[0]\n",
    "TimeOfDayDict  "
   ]
  },
  {
   "cell_type": "code",
   "execution_count": 15,
   "id": "functioning-investing",
   "metadata": {},
   "outputs": [
    {
     "data": {
      "text/plain": [
       "{3: 'Sunday',\n",
       " 4: 'Thursday',\n",
       " 0: 'Friday',\n",
       " 2: 'Saturday',\n",
       " 1: 'Monday',\n",
       " 5: 'Tuesday',\n",
       " 6: 'Wednesday'}"
      ]
     },
     "execution_count": 15,
     "metadata": {},
     "output_type": "execute_result"
    }
   ],
   "source": [
    "DayDict={}\n",
    "for vals in DayNEW_vals:\n",
    "    DayDict[vals]=df.loc[df['DayNEW'] == vals, 'Day'].iloc[0]\n",
    "DayDict  "
   ]
  },
  {
   "cell_type": "code",
   "execution_count": 16,
   "id": "fixed-white",
   "metadata": {
    "scrolled": false
   },
   "outputs": [],
   "source": [
    "#drop the un encoded cat columns\n",
    "df = df.drop(['Day', 'TimeOfDay', 'description'], axis=1)"
   ]
  },
  {
   "cell_type": "code",
   "execution_count": 17,
   "id": "approved-insulation",
   "metadata": {},
   "outputs": [
    {
     "data": {
      "text/html": [
       "<div>\n",
       "<style scoped>\n",
       "    .dataframe tbody tr th:only-of-type {\n",
       "        vertical-align: middle;\n",
       "    }\n",
       "\n",
       "    .dataframe tbody tr th {\n",
       "        vertical-align: top;\n",
       "    }\n",
       "\n",
       "    .dataframe thead th {\n",
       "        text-align: right;\n",
       "    }\n",
       "</style>\n",
       "<table border=\"1\" class=\"dataframe\">\n",
       "  <thead>\n",
       "    <tr style=\"text-align: right;\">\n",
       "      <th></th>\n",
       "      <th>StationNumber</th>\n",
       "      <th>available_bikes_stands</th>\n",
       "      <th>available_bikes</th>\n",
       "      <th>temp</th>\n",
       "      <th>descriptionNEW</th>\n",
       "      <th>DayNEW</th>\n",
       "      <th>TimeOfDayNEW</th>\n",
       "    </tr>\n",
       "  </thead>\n",
       "  <tbody>\n",
       "    <tr>\n",
       "      <th>61114</th>\n",
       "      <td>6</td>\n",
       "      <td>17</td>\n",
       "      <td>3</td>\n",
       "      <td>9</td>\n",
       "      <td>9</td>\n",
       "      <td>3</td>\n",
       "      <td>1</td>\n",
       "    </tr>\n",
       "    <tr>\n",
       "      <th>286144</th>\n",
       "      <td>37</td>\n",
       "      <td>26</td>\n",
       "      <td>4</td>\n",
       "      <td>12</td>\n",
       "      <td>9</td>\n",
       "      <td>4</td>\n",
       "      <td>0</td>\n",
       "    </tr>\n",
       "    <tr>\n",
       "      <th>283854</th>\n",
       "      <td>52</td>\n",
       "      <td>27</td>\n",
       "      <td>5</td>\n",
       "      <td>10</td>\n",
       "      <td>5</td>\n",
       "      <td>4</td>\n",
       "      <td>2</td>\n",
       "    </tr>\n",
       "    <tr>\n",
       "      <th>207101</th>\n",
       "      <td>95</td>\n",
       "      <td>27</td>\n",
       "      <td>13</td>\n",
       "      <td>8</td>\n",
       "      <td>0</td>\n",
       "      <td>0</td>\n",
       "      <td>2</td>\n",
       "    </tr>\n",
       "    <tr>\n",
       "      <th>199999</th>\n",
       "      <td>43</td>\n",
       "      <td>12</td>\n",
       "      <td>18</td>\n",
       "      <td>11</td>\n",
       "      <td>0</td>\n",
       "      <td>4</td>\n",
       "      <td>1</td>\n",
       "    </tr>\n",
       "    <tr>\n",
       "      <th>...</th>\n",
       "      <td>...</td>\n",
       "      <td>...</td>\n",
       "      <td>...</td>\n",
       "      <td>...</td>\n",
       "      <td>...</td>\n",
       "      <td>...</td>\n",
       "      <td>...</td>\n",
       "    </tr>\n",
       "    <tr>\n",
       "      <th>169781</th>\n",
       "      <td>73</td>\n",
       "      <td>20</td>\n",
       "      <td>9</td>\n",
       "      <td>13</td>\n",
       "      <td>9</td>\n",
       "      <td>5</td>\n",
       "      <td>0</td>\n",
       "    </tr>\n",
       "    <tr>\n",
       "      <th>181262</th>\n",
       "      <td>111</td>\n",
       "      <td>26</td>\n",
       "      <td>14</td>\n",
       "      <td>9</td>\n",
       "      <td>0</td>\n",
       "      <td>6</td>\n",
       "      <td>2</td>\n",
       "    </tr>\n",
       "    <tr>\n",
       "      <th>268164</th>\n",
       "      <td>116</td>\n",
       "      <td>16</td>\n",
       "      <td>14</td>\n",
       "      <td>6</td>\n",
       "      <td>0</td>\n",
       "      <td>6</td>\n",
       "      <td>3</td>\n",
       "    </tr>\n",
       "    <tr>\n",
       "      <th>228151</th>\n",
       "      <td>4</td>\n",
       "      <td>6</td>\n",
       "      <td>14</td>\n",
       "      <td>8</td>\n",
       "      <td>0</td>\n",
       "      <td>3</td>\n",
       "      <td>3</td>\n",
       "    </tr>\n",
       "    <tr>\n",
       "      <th>28931</th>\n",
       "      <td>4</td>\n",
       "      <td>14</td>\n",
       "      <td>5</td>\n",
       "      <td>5</td>\n",
       "      <td>0</td>\n",
       "      <td>0</td>\n",
       "      <td>3</td>\n",
       "    </tr>\n",
       "  </tbody>\n",
       "</table>\n",
       "<p>295906 rows × 7 columns</p>\n",
       "</div>"
      ],
      "text/plain": [
       "        StationNumber  available_bikes_stands  available_bikes  temp  \\\n",
       "61114               6                      17                3     9   \n",
       "286144             37                      26                4    12   \n",
       "283854             52                      27                5    10   \n",
       "207101             95                      27               13     8   \n",
       "199999             43                      12               18    11   \n",
       "...               ...                     ...              ...   ...   \n",
       "169781             73                      20                9    13   \n",
       "181262            111                      26               14     9   \n",
       "268164            116                      16               14     6   \n",
       "228151              4                       6               14     8   \n",
       "28931               4                      14                5     5   \n",
       "\n",
       "        descriptionNEW  DayNEW  TimeOfDayNEW  \n",
       "61114                9       3             1  \n",
       "286144               9       4             0  \n",
       "283854               5       4             2  \n",
       "207101               0       0             2  \n",
       "199999               0       4             1  \n",
       "...                ...     ...           ...  \n",
       "169781               9       5             0  \n",
       "181262               0       6             2  \n",
       "268164               0       6             3  \n",
       "228151               0       3             3  \n",
       "28931                0       0             3  \n",
       "\n",
       "[295906 rows x 7 columns]"
      ]
     },
     "execution_count": 17,
     "metadata": {},
     "output_type": "execute_result"
    }
   ],
   "source": [
    "df"
   ]
  },
  {
   "cell_type": "markdown",
   "id": "saved-brick",
   "metadata": {},
   "source": [
    "__Seperate Dataframe into a list of df's grouped by station number__"
   ]
  },
  {
   "cell_type": "code",
   "execution_count": 18,
   "id": "protective-charm",
   "metadata": {},
   "outputs": [],
   "source": [
    "dfseperated = [x for _, x in df.groupby('StationNumber')]\n",
    "        "
   ]
  },
  {
   "cell_type": "code",
   "execution_count": 19,
   "id": "satellite-attack",
   "metadata": {
    "scrolled": true
   },
   "outputs": [
    {
     "data": {
      "text/html": [
       "<div>\n",
       "<style scoped>\n",
       "    .dataframe tbody tr th:only-of-type {\n",
       "        vertical-align: middle;\n",
       "    }\n",
       "\n",
       "    .dataframe tbody tr th {\n",
       "        vertical-align: top;\n",
       "    }\n",
       "\n",
       "    .dataframe thead th {\n",
       "        text-align: right;\n",
       "    }\n",
       "</style>\n",
       "<table border=\"1\" class=\"dataframe\">\n",
       "  <thead>\n",
       "    <tr style=\"text-align: right;\">\n",
       "      <th></th>\n",
       "      <th>StationNumber</th>\n",
       "      <th>available_bikes_stands</th>\n",
       "      <th>available_bikes</th>\n",
       "      <th>temp</th>\n",
       "      <th>descriptionNEW</th>\n",
       "      <th>DayNEW</th>\n",
       "      <th>TimeOfDayNEW</th>\n",
       "    </tr>\n",
       "  </thead>\n",
       "  <tbody>\n",
       "    <tr>\n",
       "      <th>68181</th>\n",
       "      <td>2</td>\n",
       "      <td>20</td>\n",
       "      <td>0</td>\n",
       "      <td>5</td>\n",
       "      <td>5</td>\n",
       "      <td>1</td>\n",
       "      <td>3</td>\n",
       "    </tr>\n",
       "    <tr>\n",
       "      <th>23200</th>\n",
       "      <td>2</td>\n",
       "      <td>17</td>\n",
       "      <td>3</td>\n",
       "      <td>5</td>\n",
       "      <td>0</td>\n",
       "      <td>4</td>\n",
       "      <td>0</td>\n",
       "    </tr>\n",
       "    <tr>\n",
       "      <th>25372</th>\n",
       "      <td>2</td>\n",
       "      <td>17</td>\n",
       "      <td>3</td>\n",
       "      <td>5</td>\n",
       "      <td>0</td>\n",
       "      <td>4</td>\n",
       "      <td>1</td>\n",
       "    </tr>\n",
       "    <tr>\n",
       "      <th>146671</th>\n",
       "      <td>2</td>\n",
       "      <td>4</td>\n",
       "      <td>16</td>\n",
       "      <td>10</td>\n",
       "      <td>5</td>\n",
       "      <td>3</td>\n",
       "      <td>0</td>\n",
       "    </tr>\n",
       "    <tr>\n",
       "      <th>239319</th>\n",
       "      <td>2</td>\n",
       "      <td>10</td>\n",
       "      <td>10</td>\n",
       "      <td>8</td>\n",
       "      <td>0</td>\n",
       "      <td>3</td>\n",
       "      <td>1</td>\n",
       "    </tr>\n",
       "    <tr>\n",
       "      <th>...</th>\n",
       "      <td>...</td>\n",
       "      <td>...</td>\n",
       "      <td>...</td>\n",
       "      <td>...</td>\n",
       "      <td>...</td>\n",
       "      <td>...</td>\n",
       "      <td>...</td>\n",
       "    </tr>\n",
       "    <tr>\n",
       "      <th>237469</th>\n",
       "      <td>2</td>\n",
       "      <td>12</td>\n",
       "      <td>8</td>\n",
       "      <td>9</td>\n",
       "      <td>9</td>\n",
       "      <td>3</td>\n",
       "      <td>1</td>\n",
       "    </tr>\n",
       "    <tr>\n",
       "      <th>29797</th>\n",
       "      <td>2</td>\n",
       "      <td>16</td>\n",
       "      <td>4</td>\n",
       "      <td>5</td>\n",
       "      <td>0</td>\n",
       "      <td>0</td>\n",
       "      <td>3</td>\n",
       "    </tr>\n",
       "    <tr>\n",
       "      <th>42450</th>\n",
       "      <td>2</td>\n",
       "      <td>9</td>\n",
       "      <td>11</td>\n",
       "      <td>1</td>\n",
       "      <td>0</td>\n",
       "      <td>2</td>\n",
       "      <td>3</td>\n",
       "    </tr>\n",
       "    <tr>\n",
       "      <th>275443</th>\n",
       "      <td>2</td>\n",
       "      <td>18</td>\n",
       "      <td>2</td>\n",
       "      <td>11</td>\n",
       "      <td>0</td>\n",
       "      <td>6</td>\n",
       "      <td>1</td>\n",
       "    </tr>\n",
       "    <tr>\n",
       "      <th>173886</th>\n",
       "      <td>2</td>\n",
       "      <td>13</td>\n",
       "      <td>7</td>\n",
       "      <td>12</td>\n",
       "      <td>1</td>\n",
       "      <td>5</td>\n",
       "      <td>1</td>\n",
       "    </tr>\n",
       "  </tbody>\n",
       "</table>\n",
       "<p>2746 rows × 7 columns</p>\n",
       "</div>"
      ],
      "text/plain": [
       "        StationNumber  available_bikes_stands  available_bikes  temp  \\\n",
       "68181               2                      20                0     5   \n",
       "23200               2                      17                3     5   \n",
       "25372               2                      17                3     5   \n",
       "146671              2                       4               16    10   \n",
       "239319              2                      10               10     8   \n",
       "...               ...                     ...              ...   ...   \n",
       "237469              2                      12                8     9   \n",
       "29797               2                      16                4     5   \n",
       "42450               2                       9               11     1   \n",
       "275443              2                      18                2    11   \n",
       "173886              2                      13                7    12   \n",
       "\n",
       "        descriptionNEW  DayNEW  TimeOfDayNEW  \n",
       "68181                5       1             3  \n",
       "23200                0       4             0  \n",
       "25372                0       4             1  \n",
       "146671               5       3             0  \n",
       "239319               0       3             1  \n",
       "...                ...     ...           ...  \n",
       "237469               9       3             1  \n",
       "29797                0       0             3  \n",
       "42450                0       2             3  \n",
       "275443               0       6             1  \n",
       "173886               1       5             1  \n",
       "\n",
       "[2746 rows x 7 columns]"
      ]
     },
     "execution_count": 19,
     "metadata": {},
     "output_type": "execute_result"
    }
   ],
   "source": [
    "dfseperated[0]"
   ]
  },
  {
   "cell_type": "markdown",
   "id": "irish-associate",
   "metadata": {},
   "source": [
    "__Declare Target Values__"
   ]
  },
  {
   "cell_type": "code",
   "execution_count": 20,
   "id": "deadly-labor",
   "metadata": {},
   "outputs": [],
   "source": [
    "predict = 'available_bikes'"
   ]
  },
  {
   "cell_type": "code",
   "execution_count": 21,
   "id": "athletic-policy",
   "metadata": {},
   "outputs": [],
   "source": [
    "predictStands='available_bikes_stands'"
   ]
  },
  {
   "cell_type": "markdown",
   "id": "important-spirit",
   "metadata": {},
   "source": [
    "__Store Station Numbers in List - Visualisation Purposes__"
   ]
  },
  {
   "cell_type": "code",
   "execution_count": 22,
   "id": "continued-chosen",
   "metadata": {},
   "outputs": [
    {
     "data": {
      "text/plain": [
       "109"
      ]
     },
     "execution_count": 22,
     "metadata": {},
     "output_type": "execute_result"
    }
   ],
   "source": [
    "stations=[]\n",
    "for index in range(len(dfseperated)):\n",
    "    stations+=[dfseperated[index].StationNumber.unique().tolist()]\n",
    "len(stations)"
   ]
  },
  {
   "cell_type": "markdown",
   "id": "satisfied-knife",
   "metadata": {},
   "source": [
    "__KNeighbors Classifier for Bikes Available - Each station model stored in a dict__"
   ]
  },
  {
   "cell_type": "code",
   "execution_count": 31,
   "id": "strategic-delicious",
   "metadata": {
    "scrolled": true
   },
   "outputs": [],
   "source": [
    "import pickle\n",
    "from sklearn.neighbors import KNeighborsClassifier\n",
    "bikesDict={}\n",
    "for index in range(len(dfseperated)):\n",
    "    stationNum = (dfseperated[index].iloc[0].StationNumber)\n",
    "    X = np.array(dfseperated[index].drop(['StationNumber','available_bikes'], 1))\n",
    "    y = np.array(dfseperated[index][predict])\n",
    "   \n",
    "    x_train,x_test, y_train, y_test = sklearn.model_selection.train_test_split(X, y, test_size = 0.3)\n",
    "    model = KNeighborsClassifier(n_neighbors=5)\n",
    "    model.fit(x_train, y_train)\n",
    "   \n",
    "    acc = model.score(x_test, y_test)\n",
    "#     print(\"Station Number:\", stationNum) \n",
    "#     print(\"Accuracy: \",acc*100)    \n",
    "    bikesDict[stationNum]=model\n",
    "#     filename=(str(stationNum) + \"Bikes.pkl\")\n",
    "#     with open(filename, \"wb\") as f:\n",
    "#         pickle.dump(model, f)\n"
   ]
  },
  {
   "cell_type": "markdown",
   "id": "educational-construction",
   "metadata": {},
   "source": [
    "__KNeighbors Classifier for Stands Available - Each station model stored in a dict__"
   ]
  },
  {
   "cell_type": "code",
   "execution_count": 33,
   "id": "centered-armor",
   "metadata": {},
   "outputs": [],
   "source": [
    "import pickle\n",
    "StandsDict={}\n",
    "for index in range(len(dfseperated)):\n",
    "    stationNum = (dfseperated[index].iloc[0].StationNumber)\n",
    "    X = np.array(dfseperated[index].drop(['StationNumber','available_bikes_stands'], 1))\n",
    "    y = np.array(dfseperated[index][predictStands])\n",
    "   \n",
    "    x_train,x_test, y_train, y_test = sklearn.model_selection.train_test_split(X, y, test_size = 0.3)\n",
    "    model = KNeighborsClassifier(n_neighbors=5)\n",
    "    model.fit(x_train, y_train)\n",
    "    \n",
    "    acc = model.score(x_test, y_test)\n",
    "#     print(\"Station Number:\", stationNum)\n",
    "#     print(\"Accuracy: \",acc*100)    \n",
    "    \n",
    "    StandsDict[stationNum]=model\n",
    "#     filename=(str(stationNum) + \"Stands.pkl\")\n",
    "#     with open(filename, \"wb\") as f:\n",
    "#         pickle.dump(model, f)\n"
   ]
  },
  {
   "cell_type": "markdown",
   "id": "respected-strike",
   "metadata": {},
   "source": [
    "__Demonstrating Model for Station 117__"
   ]
  },
  {
   "cell_type": "code",
   "execution_count": 27,
   "id": "secure-avatar",
   "metadata": {},
   "outputs": [],
   "source": [
    "model_Station117=StandsDict[117]"
   ]
  },
  {
   "cell_type": "code",
   "execution_count": 28,
   "id": "fancy-standing",
   "metadata": {},
   "outputs": [],
   "source": [
    "predictions = model_Station117.predict(x_test)"
   ]
  },
  {
   "cell_type": "code",
   "execution_count": 34,
   "id": "collected-legend",
   "metadata": {},
   "outputs": [],
   "source": [
    "# for x in range(len(predictions)):\n",
    "#     print(\"Predicted: \", predictions[x], \"Actual: \", y_test[x])"
   ]
  },
  {
   "cell_type": "code",
   "execution_count": 30,
   "id": "developing-fetish",
   "metadata": {},
   "outputs": [
    {
     "name": "stderr",
     "output_type": "stream",
     "text": [
      "C:\\Users\\jelly\\anaconda3\\envs\\comp47350py38\\lib\\site-packages\\seaborn\\distributions.py:2557: FutureWarning: `distplot` is a deprecated function and will be removed in a future version. Please adapt your code to use either `displot` (a figure-level function with similar flexibility) or `kdeplot` (an axes-level function for kernel density plots).\n",
      "  warnings.warn(msg, FutureWarning)\n",
      "C:\\Users\\jelly\\anaconda3\\envs\\comp47350py38\\lib\\site-packages\\seaborn\\distributions.py:2557: FutureWarning: `distplot` is a deprecated function and will be removed in a future version. Please adapt your code to use either `displot` (a figure-level function with similar flexibility) or `kdeplot` (an axes-level function for kernel density plots).\n",
      "  warnings.warn(msg, FutureWarning)\n"
     ]
    },
    {
     "data": {
      "text/plain": [
       "<matplotlib.legend.Legend at 0x1e321bcb5b0>"
      ]
     },
     "execution_count": 30,
     "metadata": {},
     "output_type": "execute_result"
    },
    {
     "data": {
      "image/png": "[encoded data removed]",
      "text/plain": [
       "<Figure size 360x504 with 1 Axes>"
      ]
     },
     "metadata": {
      "needs_background": "light"
     },
     "output_type": "display_data"
    }
   ],
   "source": [
    "import matplotlib.pyplot as plt\n",
    "import seaborn as sns\n",
    "%matplotlib inline\n",
    "plt.figure(figsize=(5, 7))\n",
    "ax = sns.distplot(y_test, hist=False, color=\"b\", label=\"Actual Value\")\n",
    "sns.distplot(predictions, hist=False, color=\"g\", label=\"Fitted Values\" , ax=ax)\n",
    "plt.legend()\n"
   ]
  },
  {
   "cell_type": "code",
   "execution_count": null,
   "id": "wrapped-stupid",
   "metadata": {},
   "outputs": [],
   "source": []
  }
 ],
 "metadata": {
  "kernelspec": {
   "display_name": "Python 3",
   "language": "python",
   "name": "python3"
  },
  "language_info": {
   "codemirror_mode": {
    "name": "ipython",
    "version": 3
   },
   "file_extension": ".py",
   "mimetype": "text/x-python",
   "name": "python",
   "nbconvert_exporter": "python",
   "pygments_lexer": "ipython3",
   "version": "3.8.5"
  }
 },
 "nbformat": 4,
 "nbformat_minor": 5
}
