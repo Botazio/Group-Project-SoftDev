{
 "cells": [
  {
   "cell_type": "markdown",
   "id": "prerequisite-syria",
   "metadata": {},
   "source": [
    "# ML Model for Available Bikes"
   ]
  },
  {
   "cell_type": "code",
   "execution_count": 1,
   "id": "julian-volunteer",
   "metadata": {},
   "outputs": [],
   "source": [
    "#import modules needed\n",
    "import pandas as pd\n",
    "import numpy as np\n",
    "from datetime import datetime, timedelta, date\n",
    "from sklearn import preprocessing\n",
    "from sklearn.ensemble import RandomForestClassifier\n",
    "from sklearn.model_selection import train_test_split\n",
    "from sklearn.model_selection import cross_val_score\n",
    "from sklearn import metrics\n",
    "from sklearn.model_selection import GridSearchCV\n",
    "# hide ipykernel warnings \n",
    "import warnings\n",
    "warnings.filterwarnings('ignore')"
   ]
  },
  {
   "cell_type": "code",
   "execution_count": 2,
   "id": "opening-james",
   "metadata": {},
   "outputs": [],
   "source": [
    "df = pd.read_csv('availbikes.csv', sep=',\\s+', delimiter=',', skipinitialspace=True)"
   ]
  },
  {
   "cell_type": "code",
   "execution_count": 3,
   "id": "capable-ambassador",
   "metadata": {},
   "outputs": [],
   "source": [
    "def label_enocder(data, list_cat_cols):\n",
    "    '''\n",
    "    Apply Label encoder to the categorical columns (list_cat_cols) in data\n",
    "    \n",
    "    '''\n",
    "    \n",
    "    #Create Label Encoder \n",
    "    for column_name in list_cat_cols:\n",
    "        #Apply label encoder to each column\n",
    "        data[column_name] = preprocessing.LabelEncoder().fit_transform(data[column_name])\n",
    "    \n",
    "    return data"
   ]
  },
  {
   "cell_type": "code",
   "execution_count": 4,
   "id": "physical-linux",
   "metadata": {},
   "outputs": [],
   "source": [
    "list_le_cols=['description', 'Day', 'intervals']"
   ]
  },
  {
   "cell_type": "code",
   "execution_count": 5,
   "id": "flexible-indian",
   "metadata": {},
   "outputs": [],
   "source": [
    "dataBikes = label_enocder(df, list_le_cols)"
   ]
  },
  {
   "cell_type": "code",
   "execution_count": 6,
   "id": "adaptive-musical",
   "metadata": {},
   "outputs": [],
   "source": [
    "X=dataBikes.drop(['Bikes_available'], axis=1)"
   ]
  },
  {
   "cell_type": "code",
   "execution_count": 7,
   "id": "incorrect-surprise",
   "metadata": {},
   "outputs": [],
   "source": [
    "y=dataBikes['Bikes_available']"
   ]
  },
  {
   "cell_type": "code",
   "execution_count": 8,
   "id": "expanded-stability",
   "metadata": {},
   "outputs": [
    {
     "name": "stdout",
     "output_type": "stream",
     "text": [
      "Training size = 0.5\n",
      "Validation size = 0.2\n",
      "Test size = 0.3\n"
     ]
    }
   ],
   "source": [
    "#Set sizes\n",
    "train_sizeX = 0.5\n",
    "test_sizeX = 0.3\n",
    "valid_sizeX = round((1.0 - (train_sizeX + test_sizeX)), 3)\n",
    "#Combine train + valid\n",
    "train_valid_size = train_sizeX + valid_sizeX\n",
    "print('Training size = {}'.format(train_sizeX))\n",
    "print('Validation size = {}'.format(valid_sizeX)) \n",
    "print('Test size = {}'.format(test_sizeX))"
   ]
  },
  {
   "cell_type": "code",
   "execution_count": 9,
   "id": "sonic-meditation",
   "metadata": {},
   "outputs": [],
   "source": [
    "#Split Data\n",
    "X_train_plus_valid, X_test, y_train_plus_valid, y_test \\\n",
    "    = train_test_split(X, y, random_state=0, \\\n",
    "                                    train_size = train_sizeX + valid_sizeX)\n",
    "\n",
    "X_train, X_valid, y_train, y_valid \\\n",
    "    = train_test_split(X_train_plus_valid, \\\n",
    "                                        y_train_plus_valid, \\\n",
    "                                        random_state=0, \\\n",
    "                                        train_size = train_sizeX/train_valid_size)"
   ]
  },
  {
   "cell_type": "code",
   "execution_count": 10,
   "id": "noticed-stranger",
   "metadata": {},
   "outputs": [],
   "source": [
    "def model_performace_val_cv(model, X, y, X_valid, y_valid):\n",
    "    '''\n",
    "    Compute accuracy on validation set and using cross-validation\n",
    "    \n",
    "    Parameters:\n",
    "    model, X, y, X_valid, y_valid\n",
    "\n",
    "    \n",
    "    '''\n",
    "    print('Model = {}'.format(model))\n",
    "    \n",
    "    #1. Test on validation set\n",
    "    \n",
    "    #Predictions for the test data\n",
    "    y_pred = model.predict(X_valid)\n",
    "    \n",
    "    #Validation accuracy\n",
    "    validation_accuracy = metrics.accuracy_score(y_valid, y_pred)\n",
    "    print(\"Validation Accuracy: \" + str(validation_accuracy))\n",
    "    \n",
    "    #2. Cross validation\n",
    "    cv_scores = cross_val_score(model, X, y, cv=5)\n",
    "    print(\"Cross Validation (CV) accuracies: {}\".format(cv_scores)) \n",
    "    print(\"Mean CV accuracy: {}\".format(cv_scores.mean())) \n",
    "    print(\"Std CV accuracy: {}\".format(cv_scores.std()))"
   ]
  },
  {
   "cell_type": "code",
   "execution_count": 11,
   "id": "quality-stevens",
   "metadata": {},
   "outputs": [
    {
     "name": "stdout",
     "output_type": "stream",
     "text": [
      "Model = RandomForestClassifier()\n",
      "Validation Accuracy: 0.9883894016076213\n",
      "Cross Validation (CV) accuracies: [0.7458569  0.77145976 0.82304486 0.70712584 0.64876935]\n",
      "Mean CV accuracy: 0.7392513434564965\n",
      "Std CV accuracy: 0.0588581465914979\n"
     ]
    }
   ],
   "source": [
    "#Model\n",
    "random_forest_classifier = RandomForestClassifier()\n",
    "#Fit to data\n",
    "random_forest_classifier.fit(X_train, y_train)\n",
    "#Assess performance using validation set and cross validation\n",
    "model_performace_val_cv(random_forest_classifier, X, y, X_valid, y_valid)"
   ]
  },
  {
   "cell_type": "code",
   "execution_count": 12,
   "id": "introductory-department",
   "metadata": {},
   "outputs": [],
   "source": [
    "y_predicted = random_forest_classifier.predict(X_test)"
   ]
  },
  {
   "cell_type": "code",
   "execution_count": 13,
   "id": "little-basement",
   "metadata": {},
   "outputs": [
    {
     "data": {
      "text/plain": [
       "array([ 2,  7,  8, ...,  3, 12, 17], dtype=int64)"
      ]
     },
     "execution_count": 13,
     "metadata": {},
     "output_type": "execute_result"
    }
   ],
   "source": [
    "y_predicted#Prediction of number of bikes availabe"
   ]
  },
  {
   "cell_type": "code",
   "execution_count": 14,
   "id": "scenic-transparency",
   "metadata": {},
   "outputs": [
    {
     "data": {
      "text/plain": [
       "0.9871650678134304"
      ]
     },
     "execution_count": 14,
     "metadata": {},
     "output_type": "execute_result"
    }
   ],
   "source": [
    "#Accuracy on the test set\n",
    "test_accuracy = metrics.accuracy_score(y_test, y_predicted)\n",
    "test_accuracy"
   ]
  },
  {
   "cell_type": "code",
   "execution_count": 15,
   "id": "adult-majority",
   "metadata": {},
   "outputs": [
    {
     "data": {
      "text/html": [
       "<div>\n",
       "<style scoped>\n",
       "    .dataframe tbody tr th:only-of-type {\n",
       "        vertical-align: middle;\n",
       "    }\n",
       "\n",
       "    .dataframe tbody tr th {\n",
       "        vertical-align: top;\n",
       "    }\n",
       "\n",
       "    .dataframe thead th {\n",
       "        text-align: right;\n",
       "    }\n",
       "</style>\n",
       "<table border=\"1\" class=\"dataframe\">\n",
       "  <thead>\n",
       "    <tr style=\"text-align: right;\">\n",
       "      <th></th>\n",
       "      <th>Actual</th>\n",
       "      <th>Predicted</th>\n",
       "    </tr>\n",
       "  </thead>\n",
       "  <tbody>\n",
       "    <tr>\n",
       "      <th>25165</th>\n",
       "      <td>2</td>\n",
       "      <td>2</td>\n",
       "    </tr>\n",
       "    <tr>\n",
       "      <th>4079</th>\n",
       "      <td>7</td>\n",
       "      <td>7</td>\n",
       "    </tr>\n",
       "    <tr>\n",
       "      <th>32521</th>\n",
       "      <td>8</td>\n",
       "      <td>8</td>\n",
       "    </tr>\n",
       "    <tr>\n",
       "      <th>13399</th>\n",
       "      <td>15</td>\n",
       "      <td>15</td>\n",
       "    </tr>\n",
       "    <tr>\n",
       "      <th>29493</th>\n",
       "      <td>4</td>\n",
       "      <td>4</td>\n",
       "    </tr>\n",
       "    <tr>\n",
       "      <th>...</th>\n",
       "      <td>...</td>\n",
       "      <td>...</td>\n",
       "    </tr>\n",
       "    <tr>\n",
       "      <th>23105</th>\n",
       "      <td>13</td>\n",
       "      <td>13</td>\n",
       "    </tr>\n",
       "    <tr>\n",
       "      <th>49030</th>\n",
       "      <td>4</td>\n",
       "      <td>4</td>\n",
       "    </tr>\n",
       "    <tr>\n",
       "      <th>19362</th>\n",
       "      <td>3</td>\n",
       "      <td>3</td>\n",
       "    </tr>\n",
       "    <tr>\n",
       "      <th>13132</th>\n",
       "      <td>12</td>\n",
       "      <td>12</td>\n",
       "    </tr>\n",
       "    <tr>\n",
       "      <th>22002</th>\n",
       "      <td>17</td>\n",
       "      <td>17</td>\n",
       "    </tr>\n",
       "  </tbody>\n",
       "</table>\n",
       "<p>15115 rows × 2 columns</p>\n",
       "</div>"
      ],
      "text/plain": [
       "       Actual  Predicted\n",
       "25165       2          2\n",
       "4079        7          7\n",
       "32521       8          8\n",
       "13399      15         15\n",
       "29493       4          4\n",
       "...       ...        ...\n",
       "23105      13         13\n",
       "49030       4          4\n",
       "19362       3          3\n",
       "13132      12         12\n",
       "22002      17         17\n",
       "\n",
       "[15115 rows x 2 columns]"
      ]
     },
     "execution_count": 15,
     "metadata": {},
     "output_type": "execute_result"
    }
   ],
   "source": [
    "df=pd.DataFrame({'Actual':y_test, 'Predicted':y_predicted})\n",
    "df"
   ]
  },
  {
   "cell_type": "code",
   "execution_count": 16,
   "id": "residential-traffic",
   "metadata": {},
   "outputs": [
    {
     "data": {
      "image/png": "[encoded data removed]",
      "text/plain": [
       "<Figure size 360x504 with 1 Axes>"
      ]
     },
     "metadata": {
      "needs_background": "light"
     },
     "output_type": "display_data"
    }
   ],
   "source": [
    "import seaborn as sns\n",
    "import matplotlib.pyplot as plt\n",
    "%matplotlib inline\n",
    "plt.figure(figsize=(5, 7))\n",
    "\n",
    "\n",
    "ax = sns.distplot(y, hist=False, color=\"r\", label=\"Actual Value\")\n",
    "sns.distplot(y_predicted, hist=False, color=\"g\", label=\"Fitted Values\" , ax=ax)\n",
    "plt.legend()\n",
    "\n",
    "plt.title('Actual vs Fitted Number of Bikes')\n",
    "\n",
    "\n",
    "plt.show()\n",
    "plt.close()"
   ]
  },
  {
   "cell_type": "code",
   "execution_count": null,
   "id": "defensive-dispatch",
   "metadata": {},
   "outputs": [],
   "source": []
  },
  {
   "cell_type": "code",
   "execution_count": null,
   "id": "separate-missile",
   "metadata": {},
   "outputs": [],
   "source": []
  }
 ],
 "metadata": {
  "kernelspec": {
   "display_name": "Python 3",
   "language": "python",
   "name": "python3"
  },
  "language_info": {
   "codemirror_mode": {
    "name": "ipython",
    "version": 3
   },
   "file_extension": ".py",
   "mimetype": "text/x-python",
   "name": "python",
   "nbconvert_exporter": "python",
   "pygments_lexer": "ipython3",
   "version": "3.8.5"
  }
 },
 "nbformat": 4,
 "nbformat_minor": 5
}
