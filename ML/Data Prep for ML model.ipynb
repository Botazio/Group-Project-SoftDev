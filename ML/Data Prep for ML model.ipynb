{
 "cells": [
  {
   "cell_type": "code",
   "execution_count": 1,
   "id": "similar-river",
   "metadata": {},
   "outputs": [],
   "source": [
    "#import modules needed\n",
    "import pandas as pd\n",
    "import numpy as np\n",
    "from datetime import datetime, timedelta, date\n",
    "from sklearn import preprocessing\n",
    "from sklearn.ensemble import RandomForestClassifier\n",
    "from sklearn.model_selection import train_test_split\n",
    "from sklearn.model_selection import cross_val_score\n",
    "from sklearn import metrics\n",
    "from sklearn.model_selection import GridSearchCV\n",
    "# hide ipykernel warnings \n",
    "import warnings\n",
    "warnings.filterwarnings('ignore')\n",
    "import sqlalchemy as sqla\n",
    "from sqlalchemy import create_engine"
   ]
  },
  {
   "cell_type": "code",
   "execution_count": 2,
   "id": "stable-charity",
   "metadata": {},
   "outputs": [],
   "source": [
    "URI=\"group-project.csuftpmigzgq.us-east-1.rds.amazonaws.com\"\n",
    "PORT=\"3306\"\n",
    "DB=\"dbikes\"\n",
    "USER=\"alvaro\"\n",
    "PASSWORD=\"Oravla01\""
   ]
  },
  {
   "cell_type": "code",
   "execution_count": 3,
   "id": "expensive-cradle",
   "metadata": {},
   "outputs": [],
   "source": [
    "engine = create_engine(\"mysql+mysqldb://{}:{}@{}:{}/{}\".format(USER, PASSWORD, URI, PORT, DB), echo = True)"
   ]
  },
  {
   "cell_type": "code",
   "execution_count": 4,
   "id": "short-doctrine",
   "metadata": {},
   "outputs": [],
   "source": [
    "sql1=\"\"\"\n",
    "Select description, dt, temp,temp_min, temp_max, humidity From dbikes.weather \n",
    "\"\"\""
   ]
  },
  {
   "cell_type": "code",
   "execution_count": 5,
   "id": "sealed-gasoline",
   "metadata": {},
   "outputs": [],
   "source": [
    "sql2=\"\"\"\n",
    "Select id, number, available_bikes, available_bikes_stands, last_update From dbikes.availability \n",
    "\"\"\""
   ]
  },
  {
   "cell_type": "code",
   "execution_count": 6,
   "id": "restricted-tamil",
   "metadata": {},
   "outputs": [
    {
     "name": "stdout",
     "output_type": "stream",
     "text": [
      "2021-04-05 19:44:13,151 INFO sqlalchemy.engine.base.Engine SHOW VARIABLES LIKE 'sql_mode'\n",
      "2021-04-05 19:44:13,151 INFO sqlalchemy.engine.base.Engine ()\n",
      "2021-04-05 19:44:13,261 INFO sqlalchemy.engine.base.Engine SHOW VARIABLES LIKE 'lower_case_table_names'\n",
      "2021-04-05 19:44:13,261 INFO sqlalchemy.engine.base.Engine ()\n",
      "2021-04-05 19:44:13,457 INFO sqlalchemy.engine.base.Engine SELECT DATABASE()\n",
      "2021-04-05 19:44:13,457 INFO sqlalchemy.engine.base.Engine ()\n",
      "2021-04-05 19:44:13,663 INFO sqlalchemy.engine.base.Engine show collation where `Charset` = 'utf8mb4' and `Collation` = 'utf8mb4_bin'\n",
      "2021-04-05 19:44:13,663 INFO sqlalchemy.engine.base.Engine ()\n",
      "2021-04-05 19:44:13,810 INFO sqlalchemy.engine.base.Engine SELECT CAST('test plain returns' AS CHAR(60)) AS anon_1\n",
      "2021-04-05 19:44:13,810 INFO sqlalchemy.engine.base.Engine ()\n",
      "2021-04-05 19:44:13,976 INFO sqlalchemy.engine.base.Engine SELECT CAST('test unicode returns' AS CHAR(60)) AS anon_1\n",
      "2021-04-05 19:44:13,976 INFO sqlalchemy.engine.base.Engine ()\n",
      "2021-04-05 19:44:14,131 INFO sqlalchemy.engine.base.Engine SELECT CAST('test collated returns' AS CHAR CHARACTER SET utf8mb4) COLLATE utf8mb4_bin AS anon_1\n",
      "2021-04-05 19:44:14,133 INFO sqlalchemy.engine.base.Engine ()\n",
      "2021-04-05 19:44:14,431 INFO sqlalchemy.engine.base.OptionEngine \n",
      "Select description, dt, temp,temp_min, temp_max, humidity From dbikes.weather \n",
      "\n",
      "2021-04-05 19:44:14,431 INFO sqlalchemy.engine.base.OptionEngine ()\n"
     ]
    }
   ],
   "source": [
    "dfweather=pd.read_sql_query(sql1, engine)"
   ]
  },
  {
   "cell_type": "code",
   "execution_count": 7,
   "id": "returning-honolulu",
   "metadata": {},
   "outputs": [
    {
     "data": {
      "text/html": [
       "<div>\n",
       "<style scoped>\n",
       "    .dataframe tbody tr th:only-of-type {\n",
       "        vertical-align: middle;\n",
       "    }\n",
       "\n",
       "    .dataframe tbody tr th {\n",
       "        vertical-align: top;\n",
       "    }\n",
       "\n",
       "    .dataframe thead th {\n",
       "        text-align: right;\n",
       "    }\n",
       "</style>\n",
       "<table border=\"1\" class=\"dataframe\">\n",
       "  <thead>\n",
       "    <tr style=\"text-align: right;\">\n",
       "      <th></th>\n",
       "      <th>description</th>\n",
       "      <th>dt</th>\n",
       "      <th>temp</th>\n",
       "      <th>temp_min</th>\n",
       "      <th>temp_max</th>\n",
       "      <th>humidity</th>\n",
       "    </tr>\n",
       "  </thead>\n",
       "  <tbody>\n",
       "    <tr>\n",
       "      <th>0</th>\n",
       "      <td>scattered clouds</td>\n",
       "      <td>2021-03-17 15:12:52</td>\n",
       "      <td>13</td>\n",
       "      <td>11</td>\n",
       "      <td>14</td>\n",
       "      <td>62</td>\n",
       "    </tr>\n",
       "    <tr>\n",
       "      <th>1</th>\n",
       "      <td>scattered clouds</td>\n",
       "      <td>2021-03-17 15:15:03</td>\n",
       "      <td>13</td>\n",
       "      <td>11</td>\n",
       "      <td>14</td>\n",
       "      <td>62</td>\n",
       "    </tr>\n",
       "    <tr>\n",
       "      <th>2</th>\n",
       "      <td>scattered clouds</td>\n",
       "      <td>2021-03-17 15:27:28</td>\n",
       "      <td>13</td>\n",
       "      <td>13</td>\n",
       "      <td>14</td>\n",
       "      <td>50</td>\n",
       "    </tr>\n",
       "    <tr>\n",
       "      <th>3</th>\n",
       "      <td>scattered clouds</td>\n",
       "      <td>2021-03-17 15:45:43</td>\n",
       "      <td>13</td>\n",
       "      <td>13</td>\n",
       "      <td>14</td>\n",
       "      <td>47</td>\n",
       "    </tr>\n",
       "    <tr>\n",
       "      <th>4</th>\n",
       "      <td>scattered clouds</td>\n",
       "      <td>2021-03-17 15:58:47</td>\n",
       "      <td>14</td>\n",
       "      <td>13</td>\n",
       "      <td>14</td>\n",
       "      <td>47</td>\n",
       "    </tr>\n",
       "  </tbody>\n",
       "</table>\n",
       "</div>"
      ],
      "text/plain": [
       "        description                  dt  temp  temp_min  temp_max  humidity\n",
       "0  scattered clouds 2021-03-17 15:12:52    13        11        14        62\n",
       "1  scattered clouds 2021-03-17 15:15:03    13        11        14        62\n",
       "2  scattered clouds 2021-03-17 15:27:28    13        13        14        50\n",
       "3  scattered clouds 2021-03-17 15:45:43    13        13        14        47\n",
       "4  scattered clouds 2021-03-17 15:58:47    14        13        14        47"
      ]
     },
     "execution_count": 7,
     "metadata": {},
     "output_type": "execute_result"
    }
   ],
   "source": [
    "dfweather.head()"
   ]
  },
  {
   "cell_type": "code",
   "execution_count": 8,
   "id": "optical-sunglasses",
   "metadata": {},
   "outputs": [
    {
     "name": "stdout",
     "output_type": "stream",
     "text": [
      "2021-04-05 19:44:24,272 INFO sqlalchemy.engine.base.OptionEngine \n",
      "Select id, number, available_bikes, available_bikes_stands, last_update From dbikes.availability \n",
      "\n",
      "2021-04-05 19:44:24,272 INFO sqlalchemy.engine.base.OptionEngine ()\n"
     ]
    }
   ],
   "source": [
    "dfavailability=pd.read_sql_query(sql2,engine)"
   ]
  },
  {
   "cell_type": "code",
   "execution_count": 9,
   "id": "touched-nigeria",
   "metadata": {},
   "outputs": [
    {
     "data": {
      "text/plain": [
       "(662542, 5)"
      ]
     },
     "execution_count": 9,
     "metadata": {},
     "output_type": "execute_result"
    }
   ],
   "source": [
    "dfavailability.shape"
   ]
  },
  {
   "cell_type": "code",
   "execution_count": 10,
   "id": "desirable-backing",
   "metadata": {},
   "outputs": [
    {
     "data": {
      "text/html": [
       "<div>\n",
       "<style scoped>\n",
       "    .dataframe tbody tr th:only-of-type {\n",
       "        vertical-align: middle;\n",
       "    }\n",
       "\n",
       "    .dataframe tbody tr th {\n",
       "        vertical-align: top;\n",
       "    }\n",
       "\n",
       "    .dataframe thead th {\n",
       "        text-align: right;\n",
       "    }\n",
       "</style>\n",
       "<table border=\"1\" class=\"dataframe\">\n",
       "  <thead>\n",
       "    <tr style=\"text-align: right;\">\n",
       "      <th></th>\n",
       "      <th>description</th>\n",
       "      <th>dt</th>\n",
       "      <th>temp</th>\n",
       "      <th>temp_min</th>\n",
       "      <th>temp_max</th>\n",
       "      <th>humidity</th>\n",
       "    </tr>\n",
       "  </thead>\n",
       "  <tbody>\n",
       "    <tr>\n",
       "      <th>0</th>\n",
       "      <td>scattered clouds</td>\n",
       "      <td>2021-03-17 15:12:52</td>\n",
       "      <td>13</td>\n",
       "      <td>11</td>\n",
       "      <td>14</td>\n",
       "      <td>62</td>\n",
       "    </tr>\n",
       "    <tr>\n",
       "      <th>1</th>\n",
       "      <td>scattered clouds</td>\n",
       "      <td>2021-03-17 15:15:03</td>\n",
       "      <td>13</td>\n",
       "      <td>11</td>\n",
       "      <td>14</td>\n",
       "      <td>62</td>\n",
       "    </tr>\n",
       "    <tr>\n",
       "      <th>2</th>\n",
       "      <td>scattered clouds</td>\n",
       "      <td>2021-03-17 15:27:28</td>\n",
       "      <td>13</td>\n",
       "      <td>13</td>\n",
       "      <td>14</td>\n",
       "      <td>50</td>\n",
       "    </tr>\n",
       "    <tr>\n",
       "      <th>3</th>\n",
       "      <td>scattered clouds</td>\n",
       "      <td>2021-03-17 15:45:43</td>\n",
       "      <td>13</td>\n",
       "      <td>13</td>\n",
       "      <td>14</td>\n",
       "      <td>47</td>\n",
       "    </tr>\n",
       "    <tr>\n",
       "      <th>4</th>\n",
       "      <td>scattered clouds</td>\n",
       "      <td>2021-03-17 15:58:47</td>\n",
       "      <td>14</td>\n",
       "      <td>13</td>\n",
       "      <td>14</td>\n",
       "      <td>47</td>\n",
       "    </tr>\n",
       "  </tbody>\n",
       "</table>\n",
       "</div>"
      ],
      "text/plain": [
       "        description                  dt  temp  temp_min  temp_max  humidity\n",
       "0  scattered clouds 2021-03-17 15:12:52    13        11        14        62\n",
       "1  scattered clouds 2021-03-17 15:15:03    13        11        14        62\n",
       "2  scattered clouds 2021-03-17 15:27:28    13        13        14        50\n",
       "3  scattered clouds 2021-03-17 15:45:43    13        13        14        47\n",
       "4  scattered clouds 2021-03-17 15:58:47    14        13        14        47"
      ]
     },
     "execution_count": 10,
     "metadata": {},
     "output_type": "execute_result"
    }
   ],
   "source": [
    "dfweather.head()"
   ]
  },
  {
   "cell_type": "code",
   "execution_count": 11,
   "id": "interesting-connection",
   "metadata": {},
   "outputs": [
    {
     "data": {
      "text/html": [
       "<div>\n",
       "<style scoped>\n",
       "    .dataframe tbody tr th:only-of-type {\n",
       "        vertical-align: middle;\n",
       "    }\n",
       "\n",
       "    .dataframe tbody tr th {\n",
       "        vertical-align: top;\n",
       "    }\n",
       "\n",
       "    .dataframe thead th {\n",
       "        text-align: right;\n",
       "    }\n",
       "</style>\n",
       "<table border=\"1\" class=\"dataframe\">\n",
       "  <thead>\n",
       "    <tr style=\"text-align: right;\">\n",
       "      <th></th>\n",
       "      <th>id</th>\n",
       "      <th>number</th>\n",
       "      <th>available_bikes</th>\n",
       "      <th>available_bikes_stands</th>\n",
       "      <th>last_update</th>\n",
       "    </tr>\n",
       "  </thead>\n",
       "  <tbody>\n",
       "    <tr>\n",
       "      <th>0</th>\n",
       "      <td>80</td>\n",
       "      <td>2</td>\n",
       "      <td>11</td>\n",
       "      <td>9</td>\n",
       "      <td>2021-02-25 19:16:01</td>\n",
       "    </tr>\n",
       "    <tr>\n",
       "      <th>1</th>\n",
       "      <td>516</td>\n",
       "      <td>2</td>\n",
       "      <td>11</td>\n",
       "      <td>9</td>\n",
       "      <td>2021-02-25 19:26:10</td>\n",
       "    </tr>\n",
       "    <tr>\n",
       "      <th>2</th>\n",
       "      <td>734</td>\n",
       "      <td>2</td>\n",
       "      <td>11</td>\n",
       "      <td>9</td>\n",
       "      <td>2021-02-25 19:36:18</td>\n",
       "    </tr>\n",
       "    <tr>\n",
       "      <th>3</th>\n",
       "      <td>952</td>\n",
       "      <td>2</td>\n",
       "      <td>11</td>\n",
       "      <td>9</td>\n",
       "      <td>2021-02-25 19:46:26</td>\n",
       "    </tr>\n",
       "    <tr>\n",
       "      <th>4</th>\n",
       "      <td>1170</td>\n",
       "      <td>2</td>\n",
       "      <td>11</td>\n",
       "      <td>9</td>\n",
       "      <td>2021-02-25 19:56:35</td>\n",
       "    </tr>\n",
       "  </tbody>\n",
       "</table>\n",
       "</div>"
      ],
      "text/plain": [
       "     id  number  available_bikes  available_bikes_stands         last_update\n",
       "0    80       2               11                       9 2021-02-25 19:16:01\n",
       "1   516       2               11                       9 2021-02-25 19:26:10\n",
       "2   734       2               11                       9 2021-02-25 19:36:18\n",
       "3   952       2               11                       9 2021-02-25 19:46:26\n",
       "4  1170       2               11                       9 2021-02-25 19:56:35"
      ]
     },
     "execution_count": 11,
     "metadata": {},
     "output_type": "execute_result"
    }
   ],
   "source": [
    "dfavailability.head()"
   ]
  },
  {
   "cell_type": "code",
   "execution_count": 12,
   "id": "congressional-speed",
   "metadata": {},
   "outputs": [],
   "source": [
    "dfavailability.rename(columns = {'number':'StationNumber'}, inplace = True)"
   ]
  },
  {
   "cell_type": "code",
   "execution_count": 13,
   "id": "accepting-midnight",
   "metadata": {},
   "outputs": [
    {
     "data": {
      "text/plain": [
       "id                        662542\n",
       "StationNumber                110\n",
       "available_bikes               41\n",
       "available_bikes_stands        41\n",
       "last_update               521515\n",
       "dtype: int64"
      ]
     },
     "execution_count": 13,
     "metadata": {},
     "output_type": "execute_result"
    }
   ],
   "source": [
    "dfavailability.nunique()"
   ]
  },
  {
   "cell_type": "code",
   "execution_count": 14,
   "id": "modified-appearance",
   "metadata": {},
   "outputs": [
    {
     "data": {
      "text/plain": [
       "id                                 int64\n",
       "StationNumber                      int64\n",
       "available_bikes                    int64\n",
       "available_bikes_stands             int64\n",
       "last_update               datetime64[ns]\n",
       "dtype: object"
      ]
     },
     "execution_count": 14,
     "metadata": {},
     "output_type": "execute_result"
    }
   ],
   "source": [
    "dfavailability.dtypes"
   ]
  },
  {
   "cell_type": "code",
   "execution_count": 15,
   "id": "invisible-elevation",
   "metadata": {},
   "outputs": [],
   "source": [
    "dfavailability['last_update']=dfavailability['last_update'].apply(pd.to_datetime, format='%Y/%m/%d')"
   ]
  },
  {
   "cell_type": "code",
   "execution_count": 16,
   "id": "infinite-arbitration",
   "metadata": {},
   "outputs": [
    {
     "data": {
      "text/plain": [
       "id                        662542\n",
       "StationNumber                110\n",
       "available_bikes               41\n",
       "available_bikes_stands        41\n",
       "last_update               521515\n",
       "dtype: int64"
      ]
     },
     "execution_count": 16,
     "metadata": {},
     "output_type": "execute_result"
    }
   ],
   "source": [
    "dfavailability.nunique()"
   ]
  },
  {
   "cell_type": "code",
   "execution_count": 17,
   "id": "advanced-tolerance",
   "metadata": {},
   "outputs": [
    {
     "data": {
      "text/plain": [
       "id                                 int64\n",
       "StationNumber                      int64\n",
       "available_bikes                    int64\n",
       "available_bikes_stands             int64\n",
       "last_update               datetime64[ns]\n",
       "dtype: object"
      ]
     },
     "execution_count": 17,
     "metadata": {},
     "output_type": "execute_result"
    }
   ],
   "source": [
    "dfavailability.dtypes"
   ]
  },
  {
   "cell_type": "code",
   "execution_count": 18,
   "id": "expired-static",
   "metadata": {},
   "outputs": [
    {
     "data": {
      "text/plain": [
       "description            object\n",
       "dt             datetime64[ns]\n",
       "temp                    int64\n",
       "temp_min                int64\n",
       "temp_max                int64\n",
       "humidity                int64\n",
       "dtype: object"
      ]
     },
     "execution_count": 18,
     "metadata": {},
     "output_type": "execute_result"
    }
   ],
   "source": [
    "dfweather.dtypes"
   ]
  },
  {
   "cell_type": "code",
   "execution_count": 19,
   "id": "different-covering",
   "metadata": {},
   "outputs": [
    {
     "data": {
      "text/plain": [
       "description       9\n",
       "dt             1839\n",
       "temp             17\n",
       "temp_min         19\n",
       "temp_max         18\n",
       "humidity         33\n",
       "dtype: int64"
      ]
     },
     "execution_count": 19,
     "metadata": {},
     "output_type": "execute_result"
    }
   ],
   "source": [
    "dfweather.nunique()"
   ]
  },
  {
   "cell_type": "code",
   "execution_count": 20,
   "id": "likely-encyclopedia",
   "metadata": {},
   "outputs": [],
   "source": [
    "dfweather['description'] = dfweather['description'].astype('category')"
   ]
  },
  {
   "cell_type": "code",
   "execution_count": 21,
   "id": "former-apollo",
   "metadata": {},
   "outputs": [
    {
     "data": {
      "text/plain": [
       "description          category\n",
       "dt             datetime64[ns]\n",
       "temp                    int64\n",
       "temp_min                int64\n",
       "temp_max                int64\n",
       "humidity                int64\n",
       "dtype: object"
      ]
     },
     "execution_count": 21,
     "metadata": {},
     "output_type": "execute_result"
    }
   ],
   "source": [
    "dfweather.dtypes"
   ]
  },
  {
   "cell_type": "code",
   "execution_count": 22,
   "id": "miniature-roommate",
   "metadata": {},
   "outputs": [
    {
     "data": {
      "text/plain": [
       "description    0.0\n",
       "dt             0.0\n",
       "temp           0.0\n",
       "temp_min       0.0\n",
       "temp_max       0.0\n",
       "humidity       0.0\n",
       "dtype: float64"
      ]
     },
     "execution_count": 22,
     "metadata": {},
     "output_type": "execute_result"
    }
   ],
   "source": [
    "dfweather.isnull().sum().sort_values(ascending=False)/len(dfweather)*100"
   ]
  },
  {
   "cell_type": "code",
   "execution_count": 23,
   "id": "earlier-rental",
   "metadata": {},
   "outputs": [
    {
     "data": {
      "text/plain": [
       "id                        0.0\n",
       "StationNumber             0.0\n",
       "available_bikes           0.0\n",
       "available_bikes_stands    0.0\n",
       "last_update               0.0\n",
       "dtype: float64"
      ]
     },
     "execution_count": 23,
     "metadata": {},
     "output_type": "execute_result"
    }
   ],
   "source": [
    "dfavailability.isnull().sum().sort_values(ascending=False)/len(dfavailability)*100"
   ]
  },
  {
   "cell_type": "code",
   "execution_count": 24,
   "id": "orange-perth",
   "metadata": {},
   "outputs": [
    {
     "name": "stdout",
     "output_type": "stream",
     "text": [
      "Number of duplicate (excluding first) rows in the table is:  0\n",
      "Number of duplicate rows (including first) in the table is: 0\n"
     ]
    }
   ],
   "source": [
    "#Print the number of duplicates, without the original rows that were duplicated\n",
    "print('Number of duplicate (excluding first) rows in the table is: ', dfweather.duplicated().sum())\n",
    "\n",
    "# Check for duplicate rows. \n",
    "# Use \"keep=False\" to mark all duplicates as true, including the original rows that were duplicated.\n",
    "print('Number of duplicate rows (including first) in the table is:', dfweather[dfweather.duplicated(keep=False)].shape[0])"
   ]
  },
  {
   "cell_type": "code",
   "execution_count": 25,
   "id": "national-choir",
   "metadata": {},
   "outputs": [
    {
     "name": "stdout",
     "output_type": "stream",
     "text": [
      "Number of duplicate (excluding first) rows in the table is:  0\n",
      "Number of duplicate rows (including first) in the table is: 0\n"
     ]
    }
   ],
   "source": [
    "#Print the number of duplicates, without the original rows that were duplicated\n",
    "print('Number of duplicate (excluding first) rows in the table is: ', dfavailability.duplicated().sum())\n",
    "\n",
    "# Check for duplicate rows. \n",
    "# Use \"keep=False\" to mark all duplicates as true, including the original rows that were duplicated.\n",
    "print('Number of duplicate rows (including first) in the table is:', dfavailability[dfavailability.duplicated(keep=False)].shape[0])"
   ]
  },
  {
   "cell_type": "code",
   "execution_count": 26,
   "id": "biblical-territory",
   "metadata": {},
   "outputs": [
    {
     "data": {
      "text/html": [
       "<div>\n",
       "<style scoped>\n",
       "    .dataframe tbody tr th:only-of-type {\n",
       "        vertical-align: middle;\n",
       "    }\n",
       "\n",
       "    .dataframe tbody tr th {\n",
       "        vertical-align: top;\n",
       "    }\n",
       "\n",
       "    .dataframe thead th {\n",
       "        text-align: right;\n",
       "    }\n",
       "</style>\n",
       "<table border=\"1\" class=\"dataframe\">\n",
       "  <thead>\n",
       "    <tr style=\"text-align: right;\">\n",
       "      <th></th>\n",
       "      <th>count</th>\n",
       "      <th>mean</th>\n",
       "      <th>std</th>\n",
       "      <th>min</th>\n",
       "      <th>25%</th>\n",
       "      <th>50%</th>\n",
       "      <th>75%</th>\n",
       "      <th>max</th>\n",
       "    </tr>\n",
       "  </thead>\n",
       "  <tbody>\n",
       "    <tr>\n",
       "      <th>id</th>\n",
       "      <td>662542.0</td>\n",
       "      <td>611408.115137</td>\n",
       "      <td>352408.913461</td>\n",
       "      <td>1.0</td>\n",
       "      <td>305679.25</td>\n",
       "      <td>613608.5</td>\n",
       "      <td>916191.75</td>\n",
       "      <td>1218723.0</td>\n",
       "    </tr>\n",
       "    <tr>\n",
       "      <th>StationNumber</th>\n",
       "      <td>662542.0</td>\n",
       "      <td>60.193728</td>\n",
       "      <td>35.076642</td>\n",
       "      <td>2.0</td>\n",
       "      <td>31.00</td>\n",
       "      <td>61.0</td>\n",
       "      <td>90.00</td>\n",
       "      <td>507.0</td>\n",
       "    </tr>\n",
       "    <tr>\n",
       "      <th>available_bikes</th>\n",
       "      <td>662542.0</td>\n",
       "      <td>10.707768</td>\n",
       "      <td>7.141264</td>\n",
       "      <td>0.0</td>\n",
       "      <td>5.00</td>\n",
       "      <td>10.0</td>\n",
       "      <td>15.00</td>\n",
       "      <td>40.0</td>\n",
       "    </tr>\n",
       "    <tr>\n",
       "      <th>available_bikes_stands</th>\n",
       "      <td>662542.0</td>\n",
       "      <td>21.272425</td>\n",
       "      <td>9.318119</td>\n",
       "      <td>0.0</td>\n",
       "      <td>15.00</td>\n",
       "      <td>21.0</td>\n",
       "      <td>28.00</td>\n",
       "      <td>40.0</td>\n",
       "    </tr>\n",
       "  </tbody>\n",
       "</table>\n",
       "</div>"
      ],
      "text/plain": [
       "                           count           mean            std  min  \\\n",
       "id                      662542.0  611408.115137  352408.913461  1.0   \n",
       "StationNumber           662542.0      60.193728      35.076642  2.0   \n",
       "available_bikes         662542.0      10.707768       7.141264  0.0   \n",
       "available_bikes_stands  662542.0      21.272425       9.318119  0.0   \n",
       "\n",
       "                              25%       50%        75%        max  \n",
       "id                      305679.25  613608.5  916191.75  1218723.0  \n",
       "StationNumber               31.00      61.0      90.00      507.0  \n",
       "available_bikes              5.00      10.0      15.00       40.0  \n",
       "available_bikes_stands      15.00      21.0      28.00       40.0  "
      ]
     },
     "execution_count": 26,
     "metadata": {},
     "output_type": "execute_result"
    }
   ],
   "source": [
    "dfavailability.describe().T"
   ]
  },
  {
   "cell_type": "code",
   "execution_count": 28,
   "id": "electoral-swimming",
   "metadata": {},
   "outputs": [
    {
     "data": {
      "text/html": [
       "<div>\n",
       "<style scoped>\n",
       "    .dataframe tbody tr th:only-of-type {\n",
       "        vertical-align: middle;\n",
       "    }\n",
       "\n",
       "    .dataframe tbody tr th {\n",
       "        vertical-align: top;\n",
       "    }\n",
       "\n",
       "    .dataframe thead th {\n",
       "        text-align: right;\n",
       "    }\n",
       "</style>\n",
       "<table border=\"1\" class=\"dataframe\">\n",
       "  <thead>\n",
       "    <tr style=\"text-align: right;\">\n",
       "      <th></th>\n",
       "      <th>id</th>\n",
       "      <th>StationNumber</th>\n",
       "      <th>available_bikes</th>\n",
       "      <th>available_bikes_stands</th>\n",
       "      <th>last_update</th>\n",
       "    </tr>\n",
       "  </thead>\n",
       "  <tbody>\n",
       "    <tr>\n",
       "      <th>0</th>\n",
       "      <td>80</td>\n",
       "      <td>2</td>\n",
       "      <td>11</td>\n",
       "      <td>9</td>\n",
       "      <td>2021-02-25 19:16:01</td>\n",
       "    </tr>\n",
       "    <tr>\n",
       "      <th>1</th>\n",
       "      <td>516</td>\n",
       "      <td>2</td>\n",
       "      <td>11</td>\n",
       "      <td>9</td>\n",
       "      <td>2021-02-25 19:26:10</td>\n",
       "    </tr>\n",
       "    <tr>\n",
       "      <th>2</th>\n",
       "      <td>734</td>\n",
       "      <td>2</td>\n",
       "      <td>11</td>\n",
       "      <td>9</td>\n",
       "      <td>2021-02-25 19:36:18</td>\n",
       "    </tr>\n",
       "    <tr>\n",
       "      <th>3</th>\n",
       "      <td>952</td>\n",
       "      <td>2</td>\n",
       "      <td>11</td>\n",
       "      <td>9</td>\n",
       "      <td>2021-02-25 19:46:26</td>\n",
       "    </tr>\n",
       "    <tr>\n",
       "      <th>4</th>\n",
       "      <td>1170</td>\n",
       "      <td>2</td>\n",
       "      <td>11</td>\n",
       "      <td>9</td>\n",
       "      <td>2021-02-25 19:56:35</td>\n",
       "    </tr>\n",
       "  </tbody>\n",
       "</table>\n",
       "</div>"
      ],
      "text/plain": [
       "     id  StationNumber  available_bikes  available_bikes_stands  \\\n",
       "0    80              2               11                       9   \n",
       "1   516              2               11                       9   \n",
       "2   734              2               11                       9   \n",
       "3   952              2               11                       9   \n",
       "4  1170              2               11                       9   \n",
       "\n",
       "          last_update  \n",
       "0 2021-02-25 19:16:01  \n",
       "1 2021-02-25 19:26:10  \n",
       "2 2021-02-25 19:36:18  \n",
       "3 2021-02-25 19:46:26  \n",
       "4 2021-02-25 19:56:35  "
      ]
     },
     "execution_count": 28,
     "metadata": {},
     "output_type": "execute_result"
    }
   ],
   "source": [
    "dfavailability.head()"
   ]
  },
  {
   "cell_type": "code",
   "execution_count": 30,
   "id": "particular-calendar",
   "metadata": {},
   "outputs": [],
   "source": [
    "dfavailability['intervals']=dfavailability['last_update'].dt.round('15min')"
   ]
  },
  {
   "cell_type": "code",
   "execution_count": 31,
   "id": "absent-quebec",
   "metadata": {},
   "outputs": [
    {
     "data": {
      "text/html": [
       "<div>\n",
       "<style scoped>\n",
       "    .dataframe tbody tr th:only-of-type {\n",
       "        vertical-align: middle;\n",
       "    }\n",
       "\n",
       "    .dataframe tbody tr th {\n",
       "        vertical-align: top;\n",
       "    }\n",
       "\n",
       "    .dataframe thead th {\n",
       "        text-align: right;\n",
       "    }\n",
       "</style>\n",
       "<table border=\"1\" class=\"dataframe\">\n",
       "  <thead>\n",
       "    <tr style=\"text-align: right;\">\n",
       "      <th></th>\n",
       "      <th>id</th>\n",
       "      <th>StationNumber</th>\n",
       "      <th>available_bikes</th>\n",
       "      <th>available_bikes_stands</th>\n",
       "      <th>last_update</th>\n",
       "      <th>intervals</th>\n",
       "    </tr>\n",
       "  </thead>\n",
       "  <tbody>\n",
       "    <tr>\n",
       "      <th>0</th>\n",
       "      <td>80</td>\n",
       "      <td>2</td>\n",
       "      <td>11</td>\n",
       "      <td>9</td>\n",
       "      <td>2021-02-25 19:16:01</td>\n",
       "      <td>2021-02-25 19:15:00</td>\n",
       "    </tr>\n",
       "    <tr>\n",
       "      <th>1</th>\n",
       "      <td>516</td>\n",
       "      <td>2</td>\n",
       "      <td>11</td>\n",
       "      <td>9</td>\n",
       "      <td>2021-02-25 19:26:10</td>\n",
       "      <td>2021-02-25 19:30:00</td>\n",
       "    </tr>\n",
       "    <tr>\n",
       "      <th>2</th>\n",
       "      <td>734</td>\n",
       "      <td>2</td>\n",
       "      <td>11</td>\n",
       "      <td>9</td>\n",
       "      <td>2021-02-25 19:36:18</td>\n",
       "      <td>2021-02-25 19:30:00</td>\n",
       "    </tr>\n",
       "    <tr>\n",
       "      <th>3</th>\n",
       "      <td>952</td>\n",
       "      <td>2</td>\n",
       "      <td>11</td>\n",
       "      <td>9</td>\n",
       "      <td>2021-02-25 19:46:26</td>\n",
       "      <td>2021-02-25 19:45:00</td>\n",
       "    </tr>\n",
       "    <tr>\n",
       "      <th>4</th>\n",
       "      <td>1170</td>\n",
       "      <td>2</td>\n",
       "      <td>11</td>\n",
       "      <td>9</td>\n",
       "      <td>2021-02-25 19:56:35</td>\n",
       "      <td>2021-02-25 20:00:00</td>\n",
       "    </tr>\n",
       "  </tbody>\n",
       "</table>\n",
       "</div>"
      ],
      "text/plain": [
       "     id  StationNumber  available_bikes  available_bikes_stands  \\\n",
       "0    80              2               11                       9   \n",
       "1   516              2               11                       9   \n",
       "2   734              2               11                       9   \n",
       "3   952              2               11                       9   \n",
       "4  1170              2               11                       9   \n",
       "\n",
       "          last_update           intervals  \n",
       "0 2021-02-25 19:16:01 2021-02-25 19:15:00  \n",
       "1 2021-02-25 19:26:10 2021-02-25 19:30:00  \n",
       "2 2021-02-25 19:36:18 2021-02-25 19:30:00  \n",
       "3 2021-02-25 19:46:26 2021-02-25 19:45:00  \n",
       "4 2021-02-25 19:56:35 2021-02-25 20:00:00  "
      ]
     },
     "execution_count": 31,
     "metadata": {},
     "output_type": "execute_result"
    }
   ],
   "source": [
    "dfavailability.head().sort_values('last_update')"
   ]
  },
  {
   "cell_type": "code",
   "execution_count": 32,
   "id": "nuclear-flashing",
   "metadata": {},
   "outputs": [
    {
     "data": {
      "text/html": [
       "<div>\n",
       "<style scoped>\n",
       "    .dataframe tbody tr th:only-of-type {\n",
       "        vertical-align: middle;\n",
       "    }\n",
       "\n",
       "    .dataframe tbody tr th {\n",
       "        vertical-align: top;\n",
       "    }\n",
       "\n",
       "    .dataframe thead th {\n",
       "        text-align: right;\n",
       "    }\n",
       "</style>\n",
       "<table border=\"1\" class=\"dataframe\">\n",
       "  <thead>\n",
       "    <tr style=\"text-align: right;\">\n",
       "      <th></th>\n",
       "      <th>count</th>\n",
       "      <th>mean</th>\n",
       "      <th>std</th>\n",
       "      <th>min</th>\n",
       "      <th>25%</th>\n",
       "      <th>50%</th>\n",
       "      <th>75%</th>\n",
       "      <th>max</th>\n",
       "    </tr>\n",
       "  </thead>\n",
       "  <tbody>\n",
       "    <tr>\n",
       "      <th>temp</th>\n",
       "      <td>1839.0</td>\n",
       "      <td>8.887983</td>\n",
       "      <td>3.118351</td>\n",
       "      <td>1.0</td>\n",
       "      <td>7.0</td>\n",
       "      <td>9.0</td>\n",
       "      <td>11.0</td>\n",
       "      <td>17.0</td>\n",
       "    </tr>\n",
       "    <tr>\n",
       "      <th>temp_min</th>\n",
       "      <td>1839.0</td>\n",
       "      <td>7.977705</td>\n",
       "      <td>3.326787</td>\n",
       "      <td>-2.0</td>\n",
       "      <td>6.0</td>\n",
       "      <td>8.0</td>\n",
       "      <td>10.0</td>\n",
       "      <td>16.0</td>\n",
       "    </tr>\n",
       "    <tr>\n",
       "      <th>temp_max</th>\n",
       "      <td>1839.0</td>\n",
       "      <td>9.747145</td>\n",
       "      <td>2.937083</td>\n",
       "      <td>2.0</td>\n",
       "      <td>8.0</td>\n",
       "      <td>9.0</td>\n",
       "      <td>12.0</td>\n",
       "      <td>19.0</td>\n",
       "    </tr>\n",
       "    <tr>\n",
       "      <th>humidity</th>\n",
       "      <td>1839.0</td>\n",
       "      <td>79.158782</td>\n",
       "      <td>11.127602</td>\n",
       "      <td>42.0</td>\n",
       "      <td>71.0</td>\n",
       "      <td>81.0</td>\n",
       "      <td>87.0</td>\n",
       "      <td>100.0</td>\n",
       "    </tr>\n",
       "  </tbody>\n",
       "</table>\n",
       "</div>"
      ],
      "text/plain": [
       "           count       mean        std   min   25%   50%   75%    max\n",
       "temp      1839.0   8.887983   3.118351   1.0   7.0   9.0  11.0   17.0\n",
       "temp_min  1839.0   7.977705   3.326787  -2.0   6.0   8.0  10.0   16.0\n",
       "temp_max  1839.0   9.747145   2.937083   2.0   8.0   9.0  12.0   19.0\n",
       "humidity  1839.0  79.158782  11.127602  42.0  71.0  81.0  87.0  100.0"
      ]
     },
     "execution_count": 32,
     "metadata": {},
     "output_type": "execute_result"
    }
   ],
   "source": [
    "dfweather.describe().T"
   ]
  },
  {
   "cell_type": "code",
   "execution_count": 33,
   "id": "practical-territory",
   "metadata": {},
   "outputs": [
    {
     "data": {
      "text/html": [
       "<div>\n",
       "<style scoped>\n",
       "    .dataframe tbody tr th:only-of-type {\n",
       "        vertical-align: middle;\n",
       "    }\n",
       "\n",
       "    .dataframe tbody tr th {\n",
       "        vertical-align: top;\n",
       "    }\n",
       "\n",
       "    .dataframe thead th {\n",
       "        text-align: right;\n",
       "    }\n",
       "</style>\n",
       "<table border=\"1\" class=\"dataframe\">\n",
       "  <thead>\n",
       "    <tr style=\"text-align: right;\">\n",
       "      <th></th>\n",
       "      <th>description</th>\n",
       "      <th>dt</th>\n",
       "      <th>temp</th>\n",
       "      <th>temp_min</th>\n",
       "      <th>temp_max</th>\n",
       "      <th>humidity</th>\n",
       "    </tr>\n",
       "  </thead>\n",
       "  <tbody>\n",
       "    <tr>\n",
       "      <th>0</th>\n",
       "      <td>scattered clouds</td>\n",
       "      <td>2021-03-17 15:12:52</td>\n",
       "      <td>13</td>\n",
       "      <td>11</td>\n",
       "      <td>14</td>\n",
       "      <td>62</td>\n",
       "    </tr>\n",
       "    <tr>\n",
       "      <th>1</th>\n",
       "      <td>scattered clouds</td>\n",
       "      <td>2021-03-17 15:15:03</td>\n",
       "      <td>13</td>\n",
       "      <td>11</td>\n",
       "      <td>14</td>\n",
       "      <td>62</td>\n",
       "    </tr>\n",
       "    <tr>\n",
       "      <th>2</th>\n",
       "      <td>scattered clouds</td>\n",
       "      <td>2021-03-17 15:27:28</td>\n",
       "      <td>13</td>\n",
       "      <td>13</td>\n",
       "      <td>14</td>\n",
       "      <td>50</td>\n",
       "    </tr>\n",
       "    <tr>\n",
       "      <th>3</th>\n",
       "      <td>scattered clouds</td>\n",
       "      <td>2021-03-17 15:45:43</td>\n",
       "      <td>13</td>\n",
       "      <td>13</td>\n",
       "      <td>14</td>\n",
       "      <td>47</td>\n",
       "    </tr>\n",
       "    <tr>\n",
       "      <th>4</th>\n",
       "      <td>scattered clouds</td>\n",
       "      <td>2021-03-17 15:58:47</td>\n",
       "      <td>14</td>\n",
       "      <td>13</td>\n",
       "      <td>14</td>\n",
       "      <td>47</td>\n",
       "    </tr>\n",
       "  </tbody>\n",
       "</table>\n",
       "</div>"
      ],
      "text/plain": [
       "        description                  dt  temp  temp_min  temp_max  humidity\n",
       "0  scattered clouds 2021-03-17 15:12:52    13        11        14        62\n",
       "1  scattered clouds 2021-03-17 15:15:03    13        11        14        62\n",
       "2  scattered clouds 2021-03-17 15:27:28    13        13        14        50\n",
       "3  scattered clouds 2021-03-17 15:45:43    13        13        14        47\n",
       "4  scattered clouds 2021-03-17 15:58:47    14        13        14        47"
      ]
     },
     "execution_count": 33,
     "metadata": {},
     "output_type": "execute_result"
    }
   ],
   "source": [
    "dfweather.head()"
   ]
  },
  {
   "cell_type": "code",
   "execution_count": 34,
   "id": "unlimited-picnic",
   "metadata": {},
   "outputs": [],
   "source": [
    "dfweather['intervals']=dfweather['dt'].dt.round('15min')"
   ]
  },
  {
   "cell_type": "code",
   "execution_count": 35,
   "id": "female-negative",
   "metadata": {},
   "outputs": [
    {
     "data": {
      "text/html": [
       "<div>\n",
       "<style scoped>\n",
       "    .dataframe tbody tr th:only-of-type {\n",
       "        vertical-align: middle;\n",
       "    }\n",
       "\n",
       "    .dataframe tbody tr th {\n",
       "        vertical-align: top;\n",
       "    }\n",
       "\n",
       "    .dataframe thead th {\n",
       "        text-align: right;\n",
       "    }\n",
       "</style>\n",
       "<table border=\"1\" class=\"dataframe\">\n",
       "  <thead>\n",
       "    <tr style=\"text-align: right;\">\n",
       "      <th></th>\n",
       "      <th>description</th>\n",
       "      <th>dt</th>\n",
       "      <th>temp</th>\n",
       "      <th>temp_min</th>\n",
       "      <th>temp_max</th>\n",
       "      <th>humidity</th>\n",
       "      <th>intervals</th>\n",
       "    </tr>\n",
       "  </thead>\n",
       "  <tbody>\n",
       "    <tr>\n",
       "      <th>0</th>\n",
       "      <td>scattered clouds</td>\n",
       "      <td>2021-03-17 15:12:52</td>\n",
       "      <td>13</td>\n",
       "      <td>11</td>\n",
       "      <td>14</td>\n",
       "      <td>62</td>\n",
       "      <td>2021-03-17 15:15:00</td>\n",
       "    </tr>\n",
       "    <tr>\n",
       "      <th>1</th>\n",
       "      <td>scattered clouds</td>\n",
       "      <td>2021-03-17 15:15:03</td>\n",
       "      <td>13</td>\n",
       "      <td>11</td>\n",
       "      <td>14</td>\n",
       "      <td>62</td>\n",
       "      <td>2021-03-17 15:15:00</td>\n",
       "    </tr>\n",
       "    <tr>\n",
       "      <th>2</th>\n",
       "      <td>scattered clouds</td>\n",
       "      <td>2021-03-17 15:27:28</td>\n",
       "      <td>13</td>\n",
       "      <td>13</td>\n",
       "      <td>14</td>\n",
       "      <td>50</td>\n",
       "      <td>2021-03-17 15:30:00</td>\n",
       "    </tr>\n",
       "    <tr>\n",
       "      <th>3</th>\n",
       "      <td>scattered clouds</td>\n",
       "      <td>2021-03-17 15:45:43</td>\n",
       "      <td>13</td>\n",
       "      <td>13</td>\n",
       "      <td>14</td>\n",
       "      <td>47</td>\n",
       "      <td>2021-03-17 15:45:00</td>\n",
       "    </tr>\n",
       "    <tr>\n",
       "      <th>4</th>\n",
       "      <td>scattered clouds</td>\n",
       "      <td>2021-03-17 15:58:47</td>\n",
       "      <td>14</td>\n",
       "      <td>13</td>\n",
       "      <td>14</td>\n",
       "      <td>47</td>\n",
       "      <td>2021-03-17 16:00:00</td>\n",
       "    </tr>\n",
       "  </tbody>\n",
       "</table>\n",
       "</div>"
      ],
      "text/plain": [
       "        description                  dt  temp  temp_min  temp_max  humidity  \\\n",
       "0  scattered clouds 2021-03-17 15:12:52    13        11        14        62   \n",
       "1  scattered clouds 2021-03-17 15:15:03    13        11        14        62   \n",
       "2  scattered clouds 2021-03-17 15:27:28    13        13        14        50   \n",
       "3  scattered clouds 2021-03-17 15:45:43    13        13        14        47   \n",
       "4  scattered clouds 2021-03-17 15:58:47    14        13        14        47   \n",
       "\n",
       "            intervals  \n",
       "0 2021-03-17 15:15:00  \n",
       "1 2021-03-17 15:15:00  \n",
       "2 2021-03-17 15:30:00  \n",
       "3 2021-03-17 15:45:00  \n",
       "4 2021-03-17 16:00:00  "
      ]
     },
     "execution_count": 35,
     "metadata": {},
     "output_type": "execute_result"
    }
   ],
   "source": [
    "dfweather.head().sort_values('dt')"
   ]
  },
  {
   "cell_type": "code",
   "execution_count": 36,
   "id": "hindu-breathing",
   "metadata": {},
   "outputs": [
    {
     "data": {
      "text/html": [
       "<div>\n",
       "<style scoped>\n",
       "    .dataframe tbody tr th:only-of-type {\n",
       "        vertical-align: middle;\n",
       "    }\n",
       "\n",
       "    .dataframe tbody tr th {\n",
       "        vertical-align: top;\n",
       "    }\n",
       "\n",
       "    .dataframe thead th {\n",
       "        text-align: right;\n",
       "    }\n",
       "</style>\n",
       "<table border=\"1\" class=\"dataframe\">\n",
       "  <thead>\n",
       "    <tr style=\"text-align: right;\">\n",
       "      <th></th>\n",
       "      <th>id</th>\n",
       "      <th>StationNumber</th>\n",
       "      <th>available_bikes</th>\n",
       "      <th>available_bikes_stands</th>\n",
       "      <th>last_update</th>\n",
       "      <th>intervals</th>\n",
       "    </tr>\n",
       "  </thead>\n",
       "  <tbody>\n",
       "    <tr>\n",
       "      <th>0</th>\n",
       "      <td>80</td>\n",
       "      <td>2</td>\n",
       "      <td>11</td>\n",
       "      <td>9</td>\n",
       "      <td>2021-02-25 19:16:01</td>\n",
       "      <td>2021-02-25 19:15:00</td>\n",
       "    </tr>\n",
       "    <tr>\n",
       "      <th>1</th>\n",
       "      <td>516</td>\n",
       "      <td>2</td>\n",
       "      <td>11</td>\n",
       "      <td>9</td>\n",
       "      <td>2021-02-25 19:26:10</td>\n",
       "      <td>2021-02-25 19:30:00</td>\n",
       "    </tr>\n",
       "    <tr>\n",
       "      <th>2</th>\n",
       "      <td>734</td>\n",
       "      <td>2</td>\n",
       "      <td>11</td>\n",
       "      <td>9</td>\n",
       "      <td>2021-02-25 19:36:18</td>\n",
       "      <td>2021-02-25 19:30:00</td>\n",
       "    </tr>\n",
       "    <tr>\n",
       "      <th>3</th>\n",
       "      <td>952</td>\n",
       "      <td>2</td>\n",
       "      <td>11</td>\n",
       "      <td>9</td>\n",
       "      <td>2021-02-25 19:46:26</td>\n",
       "      <td>2021-02-25 19:45:00</td>\n",
       "    </tr>\n",
       "    <tr>\n",
       "      <th>4</th>\n",
       "      <td>1170</td>\n",
       "      <td>2</td>\n",
       "      <td>11</td>\n",
       "      <td>9</td>\n",
       "      <td>2021-02-25 19:56:35</td>\n",
       "      <td>2021-02-25 20:00:00</td>\n",
       "    </tr>\n",
       "  </tbody>\n",
       "</table>\n",
       "</div>"
      ],
      "text/plain": [
       "     id  StationNumber  available_bikes  available_bikes_stands  \\\n",
       "0    80              2               11                       9   \n",
       "1   516              2               11                       9   \n",
       "2   734              2               11                       9   \n",
       "3   952              2               11                       9   \n",
       "4  1170              2               11                       9   \n",
       "\n",
       "          last_update           intervals  \n",
       "0 2021-02-25 19:16:01 2021-02-25 19:15:00  \n",
       "1 2021-02-25 19:26:10 2021-02-25 19:30:00  \n",
       "2 2021-02-25 19:36:18 2021-02-25 19:30:00  \n",
       "3 2021-02-25 19:46:26 2021-02-25 19:45:00  \n",
       "4 2021-02-25 19:56:35 2021-02-25 20:00:00  "
      ]
     },
     "execution_count": 36,
     "metadata": {},
     "output_type": "execute_result"
    }
   ],
   "source": [
    "dfavailability.head().sort_values('last_update')"
   ]
  },
  {
   "cell_type": "markdown",
   "id": "guilty-combat",
   "metadata": {},
   "source": [
    "#### Drop original DateTime columns as new interval columns will be used"
   ]
  },
  {
   "cell_type": "code",
   "execution_count": 38,
   "id": "virgin-museum",
   "metadata": {},
   "outputs": [],
   "source": [
    "mergeweather= dfweather.drop(['dt'], axis=1)"
   ]
  },
  {
   "cell_type": "code",
   "execution_count": 39,
   "id": "potential-consumption",
   "metadata": {},
   "outputs": [],
   "source": [
    "mergeavail=dfavailability.drop(['last_update'], axis=1)"
   ]
  },
  {
   "cell_type": "code",
   "execution_count": 40,
   "id": "union-justice",
   "metadata": {},
   "outputs": [
    {
     "data": {
      "text/plain": [
       "id                                 int64\n",
       "StationNumber                      int64\n",
       "available_bikes                    int64\n",
       "available_bikes_stands             int64\n",
       "intervals                 datetime64[ns]\n",
       "dtype: object"
      ]
     },
     "execution_count": 40,
     "metadata": {},
     "output_type": "execute_result"
    }
   ],
   "source": [
    "mergeavail.dtypes"
   ]
  },
  {
   "cell_type": "code",
   "execution_count": 41,
   "id": "missing-wrong",
   "metadata": {},
   "outputs": [
    {
     "data": {
      "text/plain": [
       "description          category\n",
       "temp                    int64\n",
       "temp_min                int64\n",
       "temp_max                int64\n",
       "humidity                int64\n",
       "intervals      datetime64[ns]\n",
       "dtype: object"
      ]
     },
     "execution_count": 41,
     "metadata": {},
     "output_type": "execute_result"
    }
   ],
   "source": [
    "mergeweather.dtypes"
   ]
  },
  {
   "cell_type": "code",
   "execution_count": 42,
   "id": "varying-truck",
   "metadata": {},
   "outputs": [
    {
     "data": {
      "text/plain": [
       "id                        0\n",
       "StationNumber             0\n",
       "available_bikes           0\n",
       "available_bikes_stands    0\n",
       "intervals                 0\n",
       "dtype: int64"
      ]
     },
     "execution_count": 42,
     "metadata": {},
     "output_type": "execute_result"
    }
   ],
   "source": [
    "mergeavail=mergeavail.sort_values('intervals')\n",
    "mergeavail.isnull().sum()"
   ]
  },
  {
   "cell_type": "code",
   "execution_count": 51,
   "id": "robust-black",
   "metadata": {},
   "outputs": [
    {
     "data": {
      "text/plain": [
       "description    0\n",
       "temp           0\n",
       "temp_min       0\n",
       "temp_max       0\n",
       "humidity       0\n",
       "intervals      0\n",
       "dtype: int64"
      ]
     },
     "execution_count": 51,
     "metadata": {},
     "output_type": "execute_result"
    }
   ],
   "source": [
    "mergeweather=mergeweather.sort_values('intervals')\n",
    "mergeweather.isnull().sum()"
   ]
  },
  {
   "cell_type": "code",
   "execution_count": 52,
   "id": "unlike-integer",
   "metadata": {},
   "outputs": [],
   "source": [
    "MergedTables=pd.merge( mergeavail, mergeweather,how='inner', on='intervals')"
   ]
  },
  {
   "cell_type": "code",
   "execution_count": 53,
   "id": "suitable-reputation",
   "metadata": {},
   "outputs": [
    {
     "data": {
      "text/plain": [
       "id                                 int64\n",
       "StationNumber                      int64\n",
       "available_bikes                    int64\n",
       "available_bikes_stands             int64\n",
       "intervals                 datetime64[ns]\n",
       "description                     category\n",
       "temp                               int64\n",
       "temp_min                           int64\n",
       "temp_max                           int64\n",
       "humidity                           int64\n",
       "dtype: object"
      ]
     },
     "execution_count": 53,
     "metadata": {},
     "output_type": "execute_result"
    }
   ],
   "source": [
    "MergedTables.dtypes"
   ]
  },
  {
   "cell_type": "code",
   "execution_count": 54,
   "id": "satisfactory-destination",
   "metadata": {},
   "outputs": [
    {
     "data": {
      "text/plain": [
       "id                        0.0\n",
       "StationNumber             0.0\n",
       "available_bikes           0.0\n",
       "available_bikes_stands    0.0\n",
       "intervals                 0.0\n",
       "description               0.0\n",
       "temp                      0.0\n",
       "temp_min                  0.0\n",
       "temp_max                  0.0\n",
       "humidity                  0.0\n",
       "dtype: float64"
      ]
     },
     "execution_count": 54,
     "metadata": {},
     "output_type": "execute_result"
    }
   ],
   "source": [
    "MergedTables.isnull().sum().sort_values(ascending=False)/len(MergedTables)*100"
   ]
  },
  {
   "cell_type": "code",
   "execution_count": 55,
   "id": "documentary-medicare",
   "metadata": {},
   "outputs": [
    {
     "name": "stdout",
     "output_type": "stream",
     "text": [
      "Number of duplicate (excluding first) rows in the table is:  361\n",
      "Number of duplicate rows (including first) in the table is: 722\n"
     ]
    }
   ],
   "source": [
    "#Print the number of duplicates, without the original rows that were duplicated\n",
    "print('Number of duplicate (excluding first) rows in the table is: ', MergedTables.duplicated().sum())\n",
    "\n",
    "# Check for duplicate rows. \n",
    "# Use \"keep=False\" to mark all duplicates as true, including the original rows that were duplicated.\n",
    "print('Number of duplicate rows (including first) in the table is:', MergedTables[MergedTables.duplicated(keep=False)].shape[0])"
   ]
  },
  {
   "cell_type": "code",
   "execution_count": 56,
   "id": "middle-offset",
   "metadata": {},
   "outputs": [
    {
     "data": {
      "text/plain": [
       "(328018, 10)"
      ]
     },
     "execution_count": 56,
     "metadata": {},
     "output_type": "execute_result"
    }
   ],
   "source": [
    "MergedTables.shape"
   ]
  },
  {
   "cell_type": "code",
   "execution_count": 57,
   "id": "burning-signal",
   "metadata": {},
   "outputs": [],
   "source": [
    "FinalMerge=MergedTables[~MergedTables.duplicated()]"
   ]
  },
  {
   "cell_type": "code",
   "execution_count": 59,
   "id": "sitting-detective",
   "metadata": {},
   "outputs": [
    {
     "data": {
      "text/plain": [
       "(327657, 10)"
      ]
     },
     "execution_count": 59,
     "metadata": {},
     "output_type": "execute_result"
    }
   ],
   "source": [
    "FinalMerge.shape"
   ]
  },
  {
   "cell_type": "code",
   "execution_count": 60,
   "id": "negative-model",
   "metadata": {},
   "outputs": [],
   "source": [
    "FinalMerge['Day']=FinalMerge['intervals'].dt.day_name()"
   ]
  },
  {
   "cell_type": "code",
   "execution_count": 61,
   "id": "optical-principal",
   "metadata": {},
   "outputs": [],
   "source": [
    "FinalMerge['Hour']=FinalMerge['intervals'].dt.hour"
   ]
  },
  {
   "cell_type": "code",
   "execution_count": 62,
   "id": "stuck-responsibility",
   "metadata": {},
   "outputs": [],
   "source": [
    "choices=['Morning', 'Afternoon', 'Evening']\n",
    "conditions=[(FinalMerge['Hour'] > 6) & (FinalMerge['Hour'] < 12), (FinalMerge['Hour'] >= 12) & (FinalMerge['Hour'] < 16),(FinalMerge['Hour'] >= 16) & (FinalMerge['Hour'] < 23)]"
   ]
  },
  {
   "cell_type": "code",
   "execution_count": 63,
   "id": "facial-bishop",
   "metadata": {},
   "outputs": [],
   "source": [
    "FinalMerge['TimeOfDay']= np.select(conditions, choices, default='Night')"
   ]
  },
  {
   "cell_type": "code",
   "execution_count": 64,
   "id": "documented-motivation",
   "metadata": {},
   "outputs": [
    {
     "data": {
      "text/html": [
       "<div>\n",
       "<style scoped>\n",
       "    .dataframe tbody tr th:only-of-type {\n",
       "        vertical-align: middle;\n",
       "    }\n",
       "\n",
       "    .dataframe tbody tr th {\n",
       "        vertical-align: top;\n",
       "    }\n",
       "\n",
       "    .dataframe thead th {\n",
       "        text-align: right;\n",
       "    }\n",
       "</style>\n",
       "<table border=\"1\" class=\"dataframe\">\n",
       "  <thead>\n",
       "    <tr style=\"text-align: right;\">\n",
       "      <th></th>\n",
       "      <th>id</th>\n",
       "      <th>StationNumber</th>\n",
       "      <th>available_bikes</th>\n",
       "      <th>available_bikes_stands</th>\n",
       "      <th>intervals</th>\n",
       "      <th>description</th>\n",
       "      <th>temp</th>\n",
       "      <th>temp_min</th>\n",
       "      <th>temp_max</th>\n",
       "      <th>humidity</th>\n",
       "      <th>Day</th>\n",
       "      <th>Hour</th>\n",
       "      <th>TimeOfDay</th>\n",
       "    </tr>\n",
       "  </thead>\n",
       "  <tbody>\n",
       "    <tr>\n",
       "      <th>0</th>\n",
       "      <td>619550</td>\n",
       "      <td>115</td>\n",
       "      <td>20</td>\n",
       "      <td>10</td>\n",
       "      <td>2021-03-17 15:15:00</td>\n",
       "      <td>scattered clouds</td>\n",
       "      <td>13</td>\n",
       "      <td>11</td>\n",
       "      <td>14</td>\n",
       "      <td>62</td>\n",
       "      <td>Wednesday</td>\n",
       "      <td>15</td>\n",
       "      <td>Afternoon</td>\n",
       "    </tr>\n",
       "    <tr>\n",
       "      <th>2</th>\n",
       "      <td>619609</td>\n",
       "      <td>54</td>\n",
       "      <td>15</td>\n",
       "      <td>18</td>\n",
       "      <td>2021-03-17 15:15:00</td>\n",
       "      <td>scattered clouds</td>\n",
       "      <td>13</td>\n",
       "      <td>11</td>\n",
       "      <td>14</td>\n",
       "      <td>62</td>\n",
       "      <td>Wednesday</td>\n",
       "      <td>15</td>\n",
       "      <td>Afternoon</td>\n",
       "    </tr>\n",
       "    <tr>\n",
       "      <th>4</th>\n",
       "      <td>619620</td>\n",
       "      <td>98</td>\n",
       "      <td>4</td>\n",
       "      <td>36</td>\n",
       "      <td>2021-03-17 15:15:00</td>\n",
       "      <td>scattered clouds</td>\n",
       "      <td>13</td>\n",
       "      <td>11</td>\n",
       "      <td>14</td>\n",
       "      <td>62</td>\n",
       "      <td>Wednesday</td>\n",
       "      <td>15</td>\n",
       "      <td>Afternoon</td>\n",
       "    </tr>\n",
       "    <tr>\n",
       "      <th>6</th>\n",
       "      <td>619293</td>\n",
       "      <td>98</td>\n",
       "      <td>4</td>\n",
       "      <td>36</td>\n",
       "      <td>2021-03-17 15:15:00</td>\n",
       "      <td>scattered clouds</td>\n",
       "      <td>13</td>\n",
       "      <td>11</td>\n",
       "      <td>14</td>\n",
       "      <td>62</td>\n",
       "      <td>Wednesday</td>\n",
       "      <td>15</td>\n",
       "      <td>Afternoon</td>\n",
       "    </tr>\n",
       "    <tr>\n",
       "      <th>8</th>\n",
       "      <td>619282</td>\n",
       "      <td>54</td>\n",
       "      <td>15</td>\n",
       "      <td>18</td>\n",
       "      <td>2021-03-17 15:15:00</td>\n",
       "      <td>scattered clouds</td>\n",
       "      <td>13</td>\n",
       "      <td>11</td>\n",
       "      <td>14</td>\n",
       "      <td>62</td>\n",
       "      <td>Wednesday</td>\n",
       "      <td>15</td>\n",
       "      <td>Afternoon</td>\n",
       "    </tr>\n",
       "  </tbody>\n",
       "</table>\n",
       "</div>"
      ],
      "text/plain": [
       "       id  StationNumber  available_bikes  available_bikes_stands  \\\n",
       "0  619550            115               20                      10   \n",
       "2  619609             54               15                      18   \n",
       "4  619620             98                4                      36   \n",
       "6  619293             98                4                      36   \n",
       "8  619282             54               15                      18   \n",
       "\n",
       "            intervals       description  temp  temp_min  temp_max  humidity  \\\n",
       "0 2021-03-17 15:15:00  scattered clouds    13        11        14        62   \n",
       "2 2021-03-17 15:15:00  scattered clouds    13        11        14        62   \n",
       "4 2021-03-17 15:15:00  scattered clouds    13        11        14        62   \n",
       "6 2021-03-17 15:15:00  scattered clouds    13        11        14        62   \n",
       "8 2021-03-17 15:15:00  scattered clouds    13        11        14        62   \n",
       "\n",
       "         Day  Hour  TimeOfDay  \n",
       "0  Wednesday    15  Afternoon  \n",
       "2  Wednesday    15  Afternoon  \n",
       "4  Wednesday    15  Afternoon  \n",
       "6  Wednesday    15  Afternoon  \n",
       "8  Wednesday    15  Afternoon  "
      ]
     },
     "execution_count": 64,
     "metadata": {},
     "output_type": "execute_result"
    }
   ],
   "source": [
    "FinalMerge.head()"
   ]
  },
  {
   "cell_type": "markdown",
   "id": "jewish-klein",
   "metadata": {},
   "source": [
    "## 2 Models will be used, one for Available bikes and one for availale bike stands"
   ]
  },
  {
   "cell_type": "code",
   "execution_count": 65,
   "id": "disturbed-daniel",
   "metadata": {},
   "outputs": [],
   "source": [
    "availableBikes=FinalMerge.drop(['intervals', 'Hour'], axis=1)\n",
    "availableStands=FinalMerge.drop(['intervals', 'Hour'], axis=1)"
   ]
  },
  {
   "cell_type": "code",
   "execution_count": 67,
   "id": "alternate-present",
   "metadata": {},
   "outputs": [],
   "source": [
    "availableBikes.to_csv('availablebikes.csv', index=False)\n",
    "availableStands.to_csv('availablestands.csv', index=False)"
   ]
  },
  {
   "cell_type": "code",
   "execution_count": null,
   "id": "resistant-management",
   "metadata": {},
   "outputs": [],
   "source": []
  }
 ],
 "metadata": {
  "kernelspec": {
   "display_name": "Python 3",
   "language": "python",
   "name": "python3"
  },
  "language_info": {
   "codemirror_mode": {
    "name": "ipython",
    "version": 3
   },
   "file_extension": ".py",
   "mimetype": "text/x-python",
   "name": "python",
   "nbconvert_exporter": "python",
   "pygments_lexer": "ipython3",
   "version": "3.7.9"
  }
 },
 "nbformat": 4,
 "nbformat_minor": 5
}
