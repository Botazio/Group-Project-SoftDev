{
 "cells": [
  {
   "cell_type": "code",
   "execution_count": 29,
   "id": "capital-merchant",
   "metadata": {},
   "outputs": [],
   "source": [
    "import os\n",
    "import re\n",
    "import pickle\n",
    "import numpy as np\n",
    "import json\n",
    "def get_Models_get_predictions(num, temp, hour, description, day):\n",
    "    DayDict={'Friday': 0,\n",
    "     'Wednesday': 6,\n",
    "     'Saturday': 2,\n",
    "     'Tuesday': 5,\n",
    "     'Thursday': 4,\n",
    "     'Monday': 1,\n",
    "     'Sunday': 3}\n",
    "\n",
    "    description_dict= {'light rain': 5,\n",
    "     'broken clouds': 0,\n",
    "     'clear sky': 1,\n",
    "     'mist': 7,\n",
    "     'few clouds': 2,\n",
    "     'moderate rain': 8,\n",
    "     'scattered clouds': 10,\n",
    "     'overcast clouds': 9,\n",
    "     'light intensity drizzle': 4,\n",
    "     'light snow': 6,\n",
    "     'heavy intensity rain': 3}\n",
    "    #encode categorical data to numeric for model \n",
    "    description_encoded = description_dict.get(description)\n",
    "    day_encoded = DayDict.get(day)\n",
    "    \n",
    "    Bikesfiles={}\n",
    "    Standsfiles={}\n",
    "    \n",
    "    \n",
    "    if hour <11:\n",
    "        hours = list(range(hour, hour+12, 1))\n",
    "       \n",
    "    else:\n",
    "        hours_left = 23- hour\n",
    "        hours_start = list(range(hour, hour+hours_left+1, 1))\n",
    "        hours_to_add = 12 - hours_left\n",
    "        other_hours = list(range(hours_to_add))\n",
    "        hours = hours_start + other_hours\n",
    "        \n",
    "\n",
    "    for file in os.listdir():\n",
    "        if file.endswith(\"Bikes.pkl\"):\n",
    "            regex = re.compile(r'\\d+')\n",
    "            station = [int(x) for x in regex.findall(file)]\n",
    "            Bikesfiles[station[0]] = file\n",
    "\n",
    "        elif file.endswith(\"Stands.pkl\"):\n",
    "            regex = re.compile(r'\\d+')\n",
    "            station = [int(x) for x in regex.findall(file)]\n",
    "            Standsfiles[station[0]] = file\n",
    "\n",
    "    BikesModelName = Bikesfiles.get(num)\n",
    "    StandsModelName = Standsfiles.get(num)\n",
    "\n",
    "    with open(BikesModelName, 'rb') as handle:\n",
    "        modelBikes = pickle.load(handle)\n",
    "\n",
    "    with open(StandsModelName, 'rb') as handle:\n",
    "        modelStands = pickle.load(handle)\n",
    "    predictionsBikes={}\n",
    "    for x in hours:\n",
    "        array = np.array([temp, x, description_encoded, day_encoded])\n",
    "        x_test = array.reshape(1, -1)\n",
    "        p = modelBikes.predict(x_test)\n",
    "        predictionsBikes[x] =p.tolist()\n",
    "    \n",
    "    predictionsStands={}\n",
    "    for x in hours:\n",
    "        array = np.array([temp, x, description_encoded, day_encoded])\n",
    "        x_test = array.reshape(1, -1)\n",
    "        p = modelStands.predict(x_test)\n",
    "        predictionsStands[x] =p.tolist()\n",
    "    \n",
    "  \n",
    "    return json.dumps(predictionsBikes), json.dumps(predictionsStands)\n"
   ]
  },
  {
   "cell_type": "code",
   "execution_count": 30,
   "id": "comparable-subject",
   "metadata": {
    "scrolled": true
   },
   "outputs": [
    {
     "data": {
      "text/plain": [
       "('{\"18\": [10], \"19\": [10], \"20\": [3], \"21\": [2], \"22\": [2], \"23\": [2], \"0\": [8], \"1\": [8], \"2\": [8], \"3\": [8], \"4\": [15], \"5\": [9], \"6\": [10]}',\n",
       " '{\"18\": [19], \"19\": [19], \"20\": [26], \"21\": [27], \"22\": [27], \"23\": [27], \"0\": [21], \"1\": [21], \"2\": [21], \"3\": [14], \"4\": [14], \"5\": [19], \"6\": [19]}')"
      ]
     },
     "execution_count": 30,
     "metadata": {},
     "output_type": "execute_result"
    }
   ],
   "source": [
    "get_Models_get_predictions(7, 3, 18, 'light snow', 'Thursday')"
   ]
  },
  {
   "cell_type": "code",
   "execution_count": null,
   "id": "liked-circuit",
   "metadata": {},
   "outputs": [],
   "source": []
  }
 ],
 "metadata": {
  "kernelspec": {
   "display_name": "Python 3",
   "language": "python",
   "name": "python3"
  },
  "language_info": {
   "codemirror_mode": {
    "name": "ipython",
    "version": 3
   },
   "file_extension": ".py",
   "mimetype": "text/x-python",
   "name": "python",
   "nbconvert_exporter": "python",
   "pygments_lexer": "ipython3",
   "version": "3.9.1"
  }
 },
 "nbformat": 4,
 "nbformat_minor": 5
}
